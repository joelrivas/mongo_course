{
 "cells": [
  {
   "cell_type": "markdown",
   "id": "bdf1d5b8",
   "metadata": {},
   "source": [
    "# Using The Pandas Module With MongoDB\n",
    "\n",
    "##### Ensure to include Pandas in your mongodb_py Conda environment\n",
    "\n",
    "```bash \n",
    "conda install pandas\n",
    "```"
   ]
  },
  {
   "cell_type": "code",
   "execution_count": 1,
   "id": "0ac6b194",
   "metadata": {},
   "outputs": [],
   "source": [
    "import pandas as pd\n",
    "from pymongo import MongoClient "
   ]
  },
  {
   "cell_type": "markdown",
   "id": "dd5ace14",
   "metadata": {},
   "source": [
    "### Common Pandas Data Types"
   ]
  },
  {
   "cell_type": "code",
   "execution_count": 2,
   "id": "13c30688",
   "metadata": {},
   "outputs": [
    {
     "data": {
      "text/plain": [
       "0    1\n",
       "1    2\n",
       "2    3\n",
       "dtype: int64"
      ]
     },
     "execution_count": 2,
     "metadata": {},
     "output_type": "execute_result"
    }
   ],
   "source": [
    "s = pd.Series([1, 2, 3])\n",
    "s"
   ]
  },
  {
   "cell_type": "code",
   "execution_count": 3,
   "id": "b083dd5f",
   "metadata": {},
   "outputs": [
    {
     "data": {
      "text/plain": [
       "0       1\n",
       "1    test\n",
       "2       3\n",
       "dtype: object"
      ]
     },
     "execution_count": 3,
     "metadata": {},
     "output_type": "execute_result"
    }
   ],
   "source": [
    "s2 = pd.Series([1, \"test\", 3])\n",
    "s2"
   ]
  },
  {
   "cell_type": "code",
   "execution_count": 4,
   "id": "fa1d8039",
   "metadata": {},
   "outputs": [
    {
     "data": {
      "text/html": [
       "<div>\n",
       "<style scoped>\n",
       "    .dataframe tbody tr th:only-of-type {\n",
       "        vertical-align: middle;\n",
       "    }\n",
       "\n",
       "    .dataframe tbody tr th {\n",
       "        vertical-align: top;\n",
       "    }\n",
       "\n",
       "    .dataframe thead th {\n",
       "        text-align: right;\n",
       "    }\n",
       "</style>\n",
       "<table border=\"1\" class=\"dataframe\">\n",
       "  <thead>\n",
       "    <tr style=\"text-align: right;\">\n",
       "      <th></th>\n",
       "      <th>0</th>\n",
       "      <th>1</th>\n",
       "      <th>2</th>\n",
       "    </tr>\n",
       "  </thead>\n",
       "  <tbody>\n",
       "    <tr>\n",
       "      <th>0</th>\n",
       "      <td>1</td>\n",
       "      <td>2</td>\n",
       "      <td>3</td>\n",
       "    </tr>\n",
       "    <tr>\n",
       "      <th>1</th>\n",
       "      <td>4</td>\n",
       "      <td>5</td>\n",
       "      <td>6</td>\n",
       "    </tr>\n",
       "    <tr>\n",
       "      <th>2</th>\n",
       "      <td>7</td>\n",
       "      <td>8</td>\n",
       "      <td>9</td>\n",
       "    </tr>\n",
       "  </tbody>\n",
       "</table>\n",
       "</div>"
      ],
      "text/plain": [
       "   0  1  2\n",
       "0  1  2  3\n",
       "1  4  5  6\n",
       "2  7  8  9"
      ]
     },
     "execution_count": 4,
     "metadata": {},
     "output_type": "execute_result"
    }
   ],
   "source": [
    "df = pd.DataFrame([[1, 2, 3], [4, 5, 6], [7,8,9]])\n",
    "df"
   ]
  },
  {
   "cell_type": "markdown",
   "id": "37c11620",
   "metadata": {},
   "source": [
    "### Indexes"
   ]
  },
  {
   "cell_type": "code",
   "execution_count": 5,
   "id": "ad482a91",
   "metadata": {},
   "outputs": [
    {
     "data": {
      "text/html": [
       "<div>\n",
       "<style scoped>\n",
       "    .dataframe tbody tr th:only-of-type {\n",
       "        vertical-align: middle;\n",
       "    }\n",
       "\n",
       "    .dataframe tbody tr th {\n",
       "        vertical-align: top;\n",
       "    }\n",
       "\n",
       "    .dataframe thead th {\n",
       "        text-align: right;\n",
       "    }\n",
       "</style>\n",
       "<table border=\"1\" class=\"dataframe\">\n",
       "  <thead>\n",
       "    <tr style=\"text-align: right;\">\n",
       "      <th></th>\n",
       "      <th>Quiz 1</th>\n",
       "      <th>Quiz 2</th>\n",
       "      <th>Exam 1</th>\n",
       "    </tr>\n",
       "    <tr>\n",
       "      <th>Student</th>\n",
       "      <th></th>\n",
       "      <th></th>\n",
       "      <th></th>\n",
       "    </tr>\n",
       "  </thead>\n",
       "  <tbody>\n",
       "    <tr>\n",
       "      <th>Tim</th>\n",
       "      <td>98</td>\n",
       "      <td>84</td>\n",
       "      <td>96</td>\n",
       "    </tr>\n",
       "    <tr>\n",
       "      <th>Sally</th>\n",
       "      <td>75</td>\n",
       "      <td>89</td>\n",
       "      <td>92</td>\n",
       "    </tr>\n",
       "    <tr>\n",
       "      <th>Mia</th>\n",
       "      <td>86</td>\n",
       "      <td>91</td>\n",
       "      <td>83</td>\n",
       "    </tr>\n",
       "  </tbody>\n",
       "</table>\n",
       "</div>"
      ],
      "text/plain": [
       "         Quiz 1  Quiz 2  Exam 1\n",
       "Student                        \n",
       "Tim          98      84      96\n",
       "Sally        75      89      92\n",
       "Mia          86      91      83"
      ]
     },
     "execution_count": 5,
     "metadata": {},
     "output_type": "execute_result"
    }
   ],
   "source": [
    "df2 = pd.DataFrame([[98, 84, 96], [75, 89, 92], [86,91,83]], \n",
    "                   index=[\"Tim\", \"Sally\", \"Mia\"], \n",
    "                   columns=[\"Quiz 1\", \"Quiz 2\", \"Exam 1\"])\n",
    "df2.index.name = \"Student\"\n",
    "df2"
   ]
  },
  {
   "cell_type": "code",
   "execution_count": 6,
   "id": "c14a7074",
   "metadata": {},
   "outputs": [
    {
     "data": {
      "text/plain": [
       "Index(['Tim', 'Sally', 'Mia'], dtype='object', name='Student')"
      ]
     },
     "execution_count": 6,
     "metadata": {},
     "output_type": "execute_result"
    }
   ],
   "source": [
    "df2.index"
   ]
  },
  {
   "cell_type": "code",
   "execution_count": 7,
   "id": "d2da865e",
   "metadata": {},
   "outputs": [
    {
     "data": {
      "text/plain": [
       "Index(['Quiz 1', 'Quiz 2', 'Exam 1'], dtype='object')"
      ]
     },
     "execution_count": 7,
     "metadata": {},
     "output_type": "execute_result"
    }
   ],
   "source": [
    "df2.columns"
   ]
  },
  {
   "cell_type": "markdown",
   "id": "fc524946",
   "metadata": {},
   "source": [
    "###  Accessing data"
   ]
  },
  {
   "cell_type": "code",
   "execution_count": 8,
   "id": "ef55e885",
   "metadata": {},
   "outputs": [
    {
     "data": {
      "text/plain": [
       "84"
      ]
     },
     "execution_count": 8,
     "metadata": {},
     "output_type": "execute_result"
    }
   ],
   "source": [
    "df2[\"Quiz 2\"][\"Tim\"]"
   ]
  },
  {
   "cell_type": "code",
   "execution_count": 9,
   "id": "66186b86",
   "metadata": {},
   "outputs": [
    {
     "data": {
      "text/plain": [
       "84"
      ]
     },
     "execution_count": 9,
     "metadata": {},
     "output_type": "execute_result"
    }
   ],
   "source": [
    "df2.loc[\"Tim\"][\"Quiz 2\"]"
   ]
  },
  {
   "cell_type": "code",
   "execution_count": 10,
   "id": "0c265bf8",
   "metadata": {},
   "outputs": [
    {
     "data": {
      "text/plain": [
       "84"
      ]
     },
     "execution_count": 10,
     "metadata": {},
     "output_type": "execute_result"
    }
   ],
   "source": [
    "df2.iloc[0,1]"
   ]
  },
  {
   "cell_type": "code",
   "execution_count": 11,
   "id": "0185e4ae",
   "metadata": {},
   "outputs": [
    {
     "data": {
      "text/plain": [
       "Quiz 1    98\n",
       "Quiz 2    84\n",
       "Exam 1    96\n",
       "Name: Tim, dtype: int64"
      ]
     },
     "execution_count": 11,
     "metadata": {},
     "output_type": "execute_result"
    }
   ],
   "source": [
    "df2.loc[\"Tim\"]"
   ]
  },
  {
   "cell_type": "code",
   "execution_count": 12,
   "id": "e505c692",
   "metadata": {},
   "outputs": [
    {
     "data": {
      "text/plain": [
       "Student\n",
       "Tim      84\n",
       "Sally    89\n",
       "Mia      91\n",
       "Name: Quiz 2, dtype: int64"
      ]
     },
     "execution_count": 12,
     "metadata": {},
     "output_type": "execute_result"
    }
   ],
   "source": [
    "df2.loc[:][\"Quiz 2\"]"
   ]
  },
  {
   "cell_type": "markdown",
   "id": "5a3e9a60",
   "metadata": {},
   "source": [
    "### Set up MongoDB Client"
   ]
  },
  {
   "cell_type": "code",
   "execution_count": 13,
   "id": "591df7d9",
   "metadata": {},
   "outputs": [],
   "source": [
    "mongodb_uri = \"mongodb://localhost:27017/\"\n",
    "db_name = \"performance_db\"\n",
    "client = MongoClient(mongodb_uri)\n",
    "db = client[db_name]"
   ]
  },
  {
   "cell_type": "markdown",
   "id": "8e6c1cab",
   "metadata": {},
   "source": [
    "### Converting Pandas DataFrame to dictionary for inserting"
   ]
  },
  {
   "cell_type": "code",
   "execution_count": 14,
   "id": "7dc0957d",
   "metadata": {},
   "outputs": [
    {
     "data": {
      "text/plain": [
       "{'Quiz 1': {'Tim': 98, 'Sally': 75, 'Mia': 86},\n",
       " 'Quiz 2': {'Tim': 84, 'Sally': 89, 'Mia': 91},\n",
       " 'Exam 1': {'Tim': 96, 'Sally': 92, 'Mia': 83}}"
      ]
     },
     "execution_count": 14,
     "metadata": {},
     "output_type": "execute_result"
    }
   ],
   "source": [
    "df2.to_dict()"
   ]
  },
  {
   "cell_type": "code",
   "execution_count": 15,
   "id": "886b5611",
   "metadata": {},
   "outputs": [
    {
     "data": {
      "text/plain": [
       "{'Quiz 1': [98, 75, 86], 'Quiz 2': [84, 89, 91], 'Exam 1': [96, 92, 83]}"
      ]
     },
     "execution_count": 15,
     "metadata": {},
     "output_type": "execute_result"
    }
   ],
   "source": [
    "df2.to_dict(\"list\")"
   ]
  },
  {
   "cell_type": "code",
   "execution_count": 16,
   "id": "06c3a731",
   "metadata": {},
   "outputs": [
    {
     "data": {
      "text/plain": [
       "[{'Quiz 1': 98, 'Quiz 2': 84, 'Exam 1': 96},\n",
       " {'Quiz 1': 75, 'Quiz 2': 89, 'Exam 1': 92},\n",
       " {'Quiz 1': 86, 'Quiz 2': 91, 'Exam 1': 83}]"
      ]
     },
     "execution_count": 16,
     "metadata": {},
     "output_type": "execute_result"
    }
   ],
   "source": [
    "df2.to_dict(\"records\")"
   ]
  },
  {
   "cell_type": "code",
   "execution_count": 17,
   "id": "da551902",
   "metadata": {},
   "outputs": [
    {
     "data": {
      "text/html": [
       "<div>\n",
       "<style scoped>\n",
       "    .dataframe tbody tr th:only-of-type {\n",
       "        vertical-align: middle;\n",
       "    }\n",
       "\n",
       "    .dataframe tbody tr th {\n",
       "        vertical-align: top;\n",
       "    }\n",
       "\n",
       "    .dataframe thead th {\n",
       "        text-align: right;\n",
       "    }\n",
       "</style>\n",
       "<table border=\"1\" class=\"dataframe\">\n",
       "  <thead>\n",
       "    <tr style=\"text-align: right;\">\n",
       "      <th></th>\n",
       "      <th>Student</th>\n",
       "      <th>Quiz 1</th>\n",
       "      <th>Quiz 2</th>\n",
       "      <th>Exam 1</th>\n",
       "    </tr>\n",
       "  </thead>\n",
       "  <tbody>\n",
       "    <tr>\n",
       "      <th>0</th>\n",
       "      <td>Tim</td>\n",
       "      <td>98</td>\n",
       "      <td>84</td>\n",
       "      <td>96</td>\n",
       "    </tr>\n",
       "    <tr>\n",
       "      <th>1</th>\n",
       "      <td>Sally</td>\n",
       "      <td>75</td>\n",
       "      <td>89</td>\n",
       "      <td>92</td>\n",
       "    </tr>\n",
       "    <tr>\n",
       "      <th>2</th>\n",
       "      <td>Mia</td>\n",
       "      <td>86</td>\n",
       "      <td>91</td>\n",
       "      <td>83</td>\n",
       "    </tr>\n",
       "  </tbody>\n",
       "</table>\n",
       "</div>"
      ],
      "text/plain": [
       "  Student  Quiz 1  Quiz 2  Exam 1\n",
       "0     Tim      98      84      96\n",
       "1   Sally      75      89      92\n",
       "2     Mia      86      91      83"
      ]
     },
     "execution_count": 17,
     "metadata": {},
     "output_type": "execute_result"
    }
   ],
   "source": [
    "df2.reset_index(level=0)"
   ]
  },
  {
   "cell_type": "code",
   "execution_count": 18,
   "id": "fe335fb5",
   "metadata": {},
   "outputs": [
    {
     "data": {
      "text/plain": [
       "[{'Student': 'Tim', 'Quiz 1': 98, 'Quiz 2': 84, 'Exam 1': 96},\n",
       " {'Student': 'Sally', 'Quiz 1': 75, 'Quiz 2': 89, 'Exam 1': 92},\n",
       " {'Student': 'Mia', 'Quiz 1': 86, 'Quiz 2': 91, 'Exam 1': 83}]"
      ]
     },
     "execution_count": 18,
     "metadata": {},
     "output_type": "execute_result"
    }
   ],
   "source": [
    "# This is the correct way to insert values to MongoDB\n",
    "df2.reset_index(level=0).to_dict(\"records\")"
   ]
  },
  {
   "cell_type": "code",
   "execution_count": 19,
   "id": "56251c84",
   "metadata": {},
   "outputs": [
    {
     "data": {
      "text/plain": [
       "<pymongo.results.InsertManyResult at 0x7f8f08099ac0>"
      ]
     },
     "execution_count": 19,
     "metadata": {},
     "output_type": "execute_result"
    }
   ],
   "source": [
    "db.school.insert_many(df2.reset_index(level=0).to_dict(\"records\"))"
   ]
  },
  {
   "cell_type": "markdown",
   "id": "6d2b8138",
   "metadata": {},
   "source": [
    "### Convert MongoDB Entries to Pandas DataFrame"
   ]
  },
  {
   "cell_type": "code",
   "execution_count": 20,
   "id": "8490fd2f",
   "metadata": {},
   "outputs": [],
   "source": [
    "db = client[\"aggregation_test\"]"
   ]
  },
  {
   "cell_type": "code",
   "execution_count": 21,
   "id": "4822254c",
   "metadata": {},
   "outputs": [
    {
     "data": {
      "text/plain": [
       "[{'_id': ObjectId('642d06472c53af7ae4ee5b81'),\n",
       "  'name': 'Sarah',\n",
       "  'premium_exp_date': datetime.datetime(2023, 4, 14, 0, 45, 57, 486000)},\n",
       " {'_id': ObjectId('642d06472c53af7ae4ee5b82'),\n",
       "  'name': 'Bob',\n",
       "  'premium_exp_date': datetime.datetime(2023, 5, 5, 0, 0)},\n",
       " {'_id': ObjectId('642d06472c53af7ae4ee5b83'), 'name': 'Jose'},\n",
       " {'_id': ObjectId('642d06472c53af7ae4ee5b84'),\n",
       "  'name': 'Lisa',\n",
       "  'premium_exp_date': datetime.datetime(2023, 4, 8, 0, 45, 57, 486000)},\n",
       " {'_id': ObjectId('642d06472c53af7ae4ee5b85'),\n",
       "  'name': 'Jessica',\n",
       "  'premium_exp_date': datetime.datetime(2023, 4, 9, 0, 45, 57, 486000)}]"
      ]
     },
     "execution_count": 21,
     "metadata": {},
     "output_type": "execute_result"
    }
   ],
   "source": [
    "list(db.users.find().limit(5))"
   ]
  },
  {
   "cell_type": "code",
   "execution_count": 24,
   "id": "b59dd4bd",
   "metadata": {},
   "outputs": [],
   "source": [
    "df3 = pd.DataFrame(list(db.users.find().limit(5)))"
   ]
  },
  {
   "cell_type": "code",
   "execution_count": 25,
   "id": "6e54bced",
   "metadata": {},
   "outputs": [
    {
     "data": {
      "text/html": [
       "<div>\n",
       "<style scoped>\n",
       "    .dataframe tbody tr th:only-of-type {\n",
       "        vertical-align: middle;\n",
       "    }\n",
       "\n",
       "    .dataframe tbody tr th {\n",
       "        vertical-align: top;\n",
       "    }\n",
       "\n",
       "    .dataframe thead th {\n",
       "        text-align: right;\n",
       "    }\n",
       "</style>\n",
       "<table border=\"1\" class=\"dataframe\">\n",
       "  <thead>\n",
       "    <tr style=\"text-align: right;\">\n",
       "      <th></th>\n",
       "      <th>_id</th>\n",
       "      <th>name</th>\n",
       "      <th>premium_exp_date</th>\n",
       "    </tr>\n",
       "  </thead>\n",
       "  <tbody>\n",
       "    <tr>\n",
       "      <th>0</th>\n",
       "      <td>642d06472c53af7ae4ee5b81</td>\n",
       "      <td>Sarah</td>\n",
       "      <td>2023-04-14 00:45:57.486</td>\n",
       "    </tr>\n",
       "    <tr>\n",
       "      <th>1</th>\n",
       "      <td>642d06472c53af7ae4ee5b82</td>\n",
       "      <td>Bob</td>\n",
       "      <td>2023-05-05 00:00:00.000</td>\n",
       "    </tr>\n",
       "    <tr>\n",
       "      <th>2</th>\n",
       "      <td>642d06472c53af7ae4ee5b83</td>\n",
       "      <td>Jose</td>\n",
       "      <td>NaT</td>\n",
       "    </tr>\n",
       "    <tr>\n",
       "      <th>3</th>\n",
       "      <td>642d06472c53af7ae4ee5b84</td>\n",
       "      <td>Lisa</td>\n",
       "      <td>2023-04-08 00:45:57.486</td>\n",
       "    </tr>\n",
       "    <tr>\n",
       "      <th>4</th>\n",
       "      <td>642d06472c53af7ae4ee5b85</td>\n",
       "      <td>Jessica</td>\n",
       "      <td>2023-04-09 00:45:57.486</td>\n",
       "    </tr>\n",
       "  </tbody>\n",
       "</table>\n",
       "</div>"
      ],
      "text/plain": [
       "                        _id     name        premium_exp_date\n",
       "0  642d06472c53af7ae4ee5b81    Sarah 2023-04-14 00:45:57.486\n",
       "1  642d06472c53af7ae4ee5b82      Bob 2023-05-05 00:00:00.000\n",
       "2  642d06472c53af7ae4ee5b83     Jose                     NaT\n",
       "3  642d06472c53af7ae4ee5b84     Lisa 2023-04-08 00:45:57.486\n",
       "4  642d06472c53af7ae4ee5b85  Jessica 2023-04-09 00:45:57.486"
      ]
     },
     "execution_count": 25,
     "metadata": {},
     "output_type": "execute_result"
    }
   ],
   "source": [
    "df3"
   ]
  },
  {
   "cell_type": "code",
   "execution_count": 26,
   "id": "40c5f638",
   "metadata": {},
   "outputs": [
    {
     "data": {
      "text/html": [
       "<div>\n",
       "<style scoped>\n",
       "    .dataframe tbody tr th:only-of-type {\n",
       "        vertical-align: middle;\n",
       "    }\n",
       "\n",
       "    .dataframe tbody tr th {\n",
       "        vertical-align: top;\n",
       "    }\n",
       "\n",
       "    .dataframe thead th {\n",
       "        text-align: right;\n",
       "    }\n",
       "</style>\n",
       "<table border=\"1\" class=\"dataframe\">\n",
       "  <thead>\n",
       "    <tr style=\"text-align: right;\">\n",
       "      <th></th>\n",
       "      <th>name</th>\n",
       "      <th>premium_exp_date</th>\n",
       "    </tr>\n",
       "    <tr>\n",
       "      <th>_id</th>\n",
       "      <th></th>\n",
       "      <th></th>\n",
       "    </tr>\n",
       "  </thead>\n",
       "  <tbody>\n",
       "    <tr>\n",
       "      <th>642d06472c53af7ae4ee5b81</th>\n",
       "      <td>Sarah</td>\n",
       "      <td>2023-04-14 00:45:57.486</td>\n",
       "    </tr>\n",
       "    <tr>\n",
       "      <th>642d06472c53af7ae4ee5b82</th>\n",
       "      <td>Bob</td>\n",
       "      <td>2023-05-05 00:00:00.000</td>\n",
       "    </tr>\n",
       "    <tr>\n",
       "      <th>642d06472c53af7ae4ee5b83</th>\n",
       "      <td>Jose</td>\n",
       "      <td>NaT</td>\n",
       "    </tr>\n",
       "    <tr>\n",
       "      <th>642d06472c53af7ae4ee5b84</th>\n",
       "      <td>Lisa</td>\n",
       "      <td>2023-04-08 00:45:57.486</td>\n",
       "    </tr>\n",
       "    <tr>\n",
       "      <th>642d06472c53af7ae4ee5b85</th>\n",
       "      <td>Jessica</td>\n",
       "      <td>2023-04-09 00:45:57.486</td>\n",
       "    </tr>\n",
       "  </tbody>\n",
       "</table>\n",
       "</div>"
      ],
      "text/plain": [
       "                             name        premium_exp_date\n",
       "_id                                                      \n",
       "642d06472c53af7ae4ee5b81    Sarah 2023-04-14 00:45:57.486\n",
       "642d06472c53af7ae4ee5b82      Bob 2023-05-05 00:00:00.000\n",
       "642d06472c53af7ae4ee5b83     Jose                     NaT\n",
       "642d06472c53af7ae4ee5b84     Lisa 2023-04-08 00:45:57.486\n",
       "642d06472c53af7ae4ee5b85  Jessica 2023-04-09 00:45:57.486"
      ]
     },
     "execution_count": 26,
     "metadata": {},
     "output_type": "execute_result"
    }
   ],
   "source": [
    "df3.set_index(\"_id\")"
   ]
  },
  {
   "cell_type": "code",
   "execution_count": null,
   "id": "7db4944f",
   "metadata": {},
   "outputs": [],
   "source": []
  }
 ],
 "metadata": {
  "kernelspec": {
   "display_name": "Python 3 (ipykernel)",
   "language": "python",
   "name": "python3"
  },
  "language_info": {
   "codemirror_mode": {
    "name": "ipython",
    "version": 3
   },
   "file_extension": ".py",
   "mimetype": "text/x-python",
   "name": "python",
   "nbconvert_exporter": "python",
   "pygments_lexer": "ipython3",
   "version": "3.8.16"
  }
 },
 "nbformat": 4,
 "nbformat_minor": 5
}

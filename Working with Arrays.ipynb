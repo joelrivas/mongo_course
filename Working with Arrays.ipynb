{
 "cells": [
  {
   "cell_type": "markdown",
   "id": "ad5c6886",
   "metadata": {},
   "source": [
    "# Working With Arrays In MongoDB\n",
    "Go over some features which allow you to interact with the Array data in your entries"
   ]
  },
  {
   "cell_type": "code",
   "execution_count": 1,
   "id": "229ae4b8",
   "metadata": {},
   "outputs": [],
   "source": [
    "from pymongo import MongoClient"
   ]
  },
  {
   "cell_type": "markdown",
   "id": "2a9e522c",
   "metadata": {},
   "source": [
    "### Initalize A Client, Connect To DB"
   ]
  },
  {
   "cell_type": "code",
   "execution_count": 2,
   "id": "76fd20ce",
   "metadata": {},
   "outputs": [],
   "source": [
    "client = MongoClient(\"mongodb://localhost:27017/\" )\n",
    "db = client[\"my_store\"]"
   ]
  },
  {
   "cell_type": "markdown",
   "id": "101c7c0e",
   "metadata": {},
   "source": [
    "### Print Entries From Cursor"
   ]
  },
  {
   "cell_type": "code",
   "execution_count": 3,
   "id": "e5575c37",
   "metadata": {},
   "outputs": [],
   "source": [
    "def print_cursor(cursor_var):\n",
    "    for document in cursor_var:\n",
    "        print(document)\n",
    "        print()"
   ]
  },
  {
   "cell_type": "markdown",
   "id": "5fe1de35",
   "metadata": {},
   "source": [
    "### Insert New Entries"
   ]
  },
  {
   "cell_type": "code",
   "execution_count": 4,
   "id": "8d417efa",
   "metadata": {},
   "outputs": [
    {
     "data": {
      "text/plain": [
       "<pymongo.results.InsertManyResult at 0x7f56ce8a8d80>"
      ]
     },
     "execution_count": 4,
     "metadata": {},
     "output_type": "execute_result"
    }
   ],
   "source": [
    "db.items.insert_many([\n",
    "    {\"name\": \"Bag\", \"departments\": [\"School\"], \"versions\": [\n",
    "        {\"color\": \"Black\", \"size\": \"small\", \"qty\": 5, \"price\": 17.79},\n",
    "        {\"color\": \"Red\", \"size\": \"small\", \"qty\": 3, \"price\": 18.23},\n",
    "        {\"color\": \"Green\", \"size\": \"small\", \"qty\": 5, \"price\": 20.03},\n",
    "        {\"color\": \"Black\", \"size\": \"large\", \"qty\": 1, \"price\": 41.23},\n",
    "        {\"color\": \"Red\", \"size\": \"large\", \"qty\": 10, \"price\": 46.82},\n",
    "        {\"color\": \"Green\", \"size\": \"large\", \"qty\": 7, \"price\": 45.43},\n",
    "    ]},\n",
    "    {\"name\": \"Mug\", \"departments\": [\"Home\", \"Kitchen\"], \"versions\": [\n",
    "        {\"color\": \"White\", \"size\": \"11 oz\", \"qty\": 14, \"price\": 14.79},\n",
    "        {\"color\": \"Blue\", \"size\": \"11 oz\", \"qty\": 23, \"price\": 15.23},\n",
    "        {\"color\": \"Green\", \"size\": \"11 oz\", \"qty\": 15, \"price\": 15.07},\n",
    "        {\"color\": \"White\", \"size\": \"15 oz\", \"qty\": 11, \"price\": 24.43},\n",
    "        {\"color\": \"Blue\", \"size\": \"15 oz\", \"qty\": 7, \"price\": 25.42},\n",
    "        {\"color\": \"Green\", \"size\": \"15 oz\", \"qty\": 10, \"price\": 25.83},\n",
    "    ]},\n",
    "    {\"name\": \"Pens\", \"departments\": [\"School\", \"Office\"], \"versions\": [\n",
    "        {\"color\": \"Black\", \"type\": \"10 Pack\", \"qty\": 40, \"price\": 14.79},\n",
    "        {\"color\": \"Red\", \"type\": \"10 Pack\", \"qty\": 13, \"price\": 15.23},\n",
    "        {\"color\": \"Blue\", \"type\": \"10 Pack\", \"qty\": 12, \"price\": 15.07}\n",
    "    ]}\n",
    "])"
   ]
  },
  {
   "cell_type": "markdown",
   "id": "f9f298a9",
   "metadata": {},
   "source": [
    "### Searching For Data In Arrays"
   ]
  },
  {
   "cell_type": "code",
   "execution_count": 5,
   "id": "73618ac6",
   "metadata": {},
   "outputs": [
    {
     "name": "stdout",
     "output_type": "stream",
     "text": [
      "{'_id': ObjectId('642cf5ae4db73d46dadc347e'), 'name': 'Bag', 'departments': ['School'], 'versions': [{'color': 'Black', 'size': 'small', 'qty': 5, 'price': 17.79}, {'color': 'Red', 'size': 'small', 'qty': 3, 'price': 18.23}, {'color': 'Green', 'size': 'small', 'qty': 5, 'price': 20.03}, {'color': 'Black', 'size': 'large', 'qty': 1, 'price': 41.23}, {'color': 'Red', 'size': 'large', 'qty': 10, 'price': 46.82}, {'color': 'Green', 'size': 'large', 'qty': 7, 'price': 45.43}]}\n",
      "\n",
      "{'_id': ObjectId('642cf5ae4db73d46dadc3480'), 'name': 'Pens', 'departments': ['School', 'Office'], 'versions': [{'color': 'Black', 'type': '10 Pack', 'qty': 40, 'price': 14.79}, {'color': 'Red', 'type': '10 Pack', 'qty': 13, 'price': 15.23}, {'color': 'Blue', 'type': '10 Pack', 'qty': 12, 'price': 15.07}]}\n",
      "\n"
     ]
    }
   ],
   "source": [
    "find_cursor = db.items.find({\"departments\": \"School\"})\n",
    "print_cursor(find_cursor)"
   ]
  },
  {
   "cell_type": "code",
   "execution_count": 6,
   "id": "cf61d865",
   "metadata": {},
   "outputs": [
    {
     "name": "stdout",
     "output_type": "stream",
     "text": [
      "{'_id': ObjectId('642cf5ae4db73d46dadc347f'), 'name': 'Mug', 'departments': ['Home', 'Kitchen'], 'versions': [{'color': 'White', 'size': '11 oz', 'qty': 14, 'price': 14.79}, {'color': 'Blue', 'size': '11 oz', 'qty': 23, 'price': 15.23}, {'color': 'Green', 'size': '11 oz', 'qty': 15, 'price': 15.07}, {'color': 'White', 'size': '15 oz', 'qty': 11, 'price': 24.43}, {'color': 'Blue', 'size': '15 oz', 'qty': 7, 'price': 25.42}, {'color': 'Green', 'size': '15 oz', 'qty': 10, 'price': 25.83}]}\n",
      "\n"
     ]
    }
   ],
   "source": [
    "find_cursor = db.items.find({\"departments\": \"Kitchen\"})\n",
    "print_cursor(find_cursor)"
   ]
  },
  {
   "cell_type": "code",
   "execution_count": 7,
   "id": "8bd061e0",
   "metadata": {},
   "outputs": [
    {
     "name": "stdout",
     "output_type": "stream",
     "text": [
      "{'_id': ObjectId('642cf5ae4db73d46dadc347f'), 'name': 'Mug', 'departments': ['Home', 'Kitchen'], 'versions': [{'color': 'White', 'size': '11 oz', 'qty': 14, 'price': 14.79}, {'color': 'Blue', 'size': '11 oz', 'qty': 23, 'price': 15.23}, {'color': 'Green', 'size': '11 oz', 'qty': 15, 'price': 15.07}, {'color': 'White', 'size': '15 oz', 'qty': 11, 'price': 24.43}, {'color': 'Blue', 'size': '15 oz', 'qty': 7, 'price': 25.42}, {'color': 'Green', 'size': '15 oz', 'qty': 10, 'price': 25.83}]}\n",
      "\n"
     ]
    }
   ],
   "source": [
    "find_cursor = db.items.find({\"departments\": [\"Home\", \"Kitchen\"]})\n",
    "print_cursor(find_cursor)"
   ]
  },
  {
   "cell_type": "code",
   "execution_count": 8,
   "id": "85538b99",
   "metadata": {},
   "outputs": [],
   "source": [
    "# Order of the list matter \n",
    "find_cursor = db.items.find({\"departments\": [\"Kitchen\", \"Home\"]})\n",
    "print_cursor(find_cursor)"
   ]
  },
  {
   "cell_type": "markdown",
   "id": "6956d426",
   "metadata": {},
   "source": [
    "### Looking At Array Length"
   ]
  },
  {
   "cell_type": "code",
   "execution_count": 9,
   "id": "449535de",
   "metadata": {},
   "outputs": [
    {
     "name": "stdout",
     "output_type": "stream",
     "text": [
      "{'_id': ObjectId('642cf5ae4db73d46dadc347f'), 'name': 'Mug', 'departments': ['Home', 'Kitchen'], 'versions': [{'color': 'White', 'size': '11 oz', 'qty': 14, 'price': 14.79}, {'color': 'Blue', 'size': '11 oz', 'qty': 23, 'price': 15.23}, {'color': 'Green', 'size': '11 oz', 'qty': 15, 'price': 15.07}, {'color': 'White', 'size': '15 oz', 'qty': 11, 'price': 24.43}, {'color': 'Blue', 'size': '15 oz', 'qty': 7, 'price': 25.42}, {'color': 'Green', 'size': '15 oz', 'qty': 10, 'price': 25.83}]}\n",
      "\n",
      "{'_id': ObjectId('642cf5ae4db73d46dadc3480'), 'name': 'Pens', 'departments': ['School', 'Office'], 'versions': [{'color': 'Black', 'type': '10 Pack', 'qty': 40, 'price': 14.79}, {'color': 'Red', 'type': '10 Pack', 'qty': 13, 'price': 15.23}, {'color': 'Blue', 'type': '10 Pack', 'qty': 12, 'price': 15.07}]}\n",
      "\n"
     ]
    }
   ],
   "source": [
    "find_cursor = db.items.find({\"departments\": {\"$size\": 2}})\n",
    "print_cursor(find_cursor)"
   ]
  },
  {
   "cell_type": "code",
   "execution_count": 10,
   "id": "028985f2",
   "metadata": {},
   "outputs": [
    {
     "name": "stdout",
     "output_type": "stream",
     "text": [
      "{'_id': ObjectId('642cf5ae4db73d46dadc3480'), 'name': 'Pens', 'departments': ['School', 'Office'], 'versions': [{'color': 'Black', 'type': '10 Pack', 'qty': 40, 'price': 14.79}, {'color': 'Red', 'type': '10 Pack', 'qty': 13, 'price': 15.23}, {'color': 'Blue', 'type': '10 Pack', 'qty': 12, 'price': 15.07}]}\n",
      "\n"
     ]
    }
   ],
   "source": [
    "find_cursor = db.items.find({\"versions\": {\"$size\": 3}})\n",
    "print_cursor(find_cursor)"
   ]
  },
  {
   "cell_type": "code",
   "execution_count": 15,
   "id": "d679bc69",
   "metadata": {},
   "outputs": [
    {
     "name": "stdout",
     "output_type": "stream",
     "text": [
      "{'_id': ObjectId('642cf5ae4db73d46dadc347e'), 'name': 'Bag', 'departments': ['School'], 'versions': [{'color': 'Black', 'size': 'small', 'qty': 5, 'price': 17.79}, {'color': 'Red', 'size': 'small', 'qty': 3, 'price': 18.23}, {'color': 'Green', 'size': 'small', 'qty': 5, 'price': 20.03}, {'color': 'Black', 'size': 'large', 'qty': 1, 'price': 41.23}, {'color': 'Red', 'size': 'large', 'qty': 10, 'price': 46.82}, {'color': 'Green', 'size': 'large', 'qty': 7, 'price': 45.43}]}\n",
      "\n",
      "{'_id': ObjectId('642cf5ae4db73d46dadc347f'), 'name': 'Mug', 'departments': ['Home', 'Kitchen'], 'versions': [{'color': 'White', 'size': '11 oz', 'qty': 14, 'price': 14.79}, {'color': 'Blue', 'size': '11 oz', 'qty': 23, 'price': 15.23}, {'color': 'Green', 'size': '11 oz', 'qty': 15, 'price': 15.07}, {'color': 'White', 'size': '15 oz', 'qty': 11, 'price': 24.43}, {'color': 'Blue', 'size': '15 oz', 'qty': 7, 'price': 25.42}, {'color': 'Green', 'size': '15 oz', 'qty': 10, 'price': 25.83}]}\n",
      "\n"
     ]
    }
   ],
   "source": [
    "# Get entries with length of versions greater than 4\n",
    "find_cursor = db.items.find({\"$where\": \"this.versions.length > 4\"})\n",
    "print_cursor(find_cursor)"
   ]
  },
  {
   "cell_type": "markdown",
   "id": "ff99289c",
   "metadata": {},
   "source": [
    "### Working With Arrays Of Embedded Documents"
   ]
  },
  {
   "cell_type": "code",
   "execution_count": 16,
   "id": "6a9f7487",
   "metadata": {},
   "outputs": [
    {
     "name": "stdout",
     "output_type": "stream",
     "text": [
      "{'_id': ObjectId('642cf5ae4db73d46dadc347e'), 'name': 'Bag', 'departments': ['School'], 'versions': [{'color': 'Black', 'size': 'small', 'qty': 5, 'price': 17.79}, {'color': 'Red', 'size': 'small', 'qty': 3, 'price': 18.23}, {'color': 'Green', 'size': 'small', 'qty': 5, 'price': 20.03}, {'color': 'Black', 'size': 'large', 'qty': 1, 'price': 41.23}, {'color': 'Red', 'size': 'large', 'qty': 10, 'price': 46.82}, {'color': 'Green', 'size': 'large', 'qty': 7, 'price': 45.43}]}\n",
      "\n",
      "{'_id': ObjectId('642cf5ae4db73d46dadc3480'), 'name': 'Pens', 'departments': ['School', 'Office'], 'versions': [{'color': 'Black', 'type': '10 Pack', 'qty': 40, 'price': 14.79}, {'color': 'Red', 'type': '10 Pack', 'qty': 13, 'price': 15.23}, {'color': 'Blue', 'type': '10 Pack', 'qty': 12, 'price': 15.07}]}\n",
      "\n"
     ]
    }
   ],
   "source": [
    "find_cursor = db.items.find({\"versions.color\": \"Red\"})\n",
    "print_cursor(find_cursor)"
   ]
  },
  {
   "cell_type": "code",
   "execution_count": 17,
   "id": "f14a954d",
   "metadata": {},
   "outputs": [
    {
     "name": "stdout",
     "output_type": "stream",
     "text": [
      "{'_id': ObjectId('642cf5ae4db73d46dadc347e'), 'name': 'Bag', 'departments': ['School'], 'versions': [{'color': 'Black', 'size': 'small', 'qty': 5, 'price': 17.79}, {'color': 'Red', 'size': 'small', 'qty': 3, 'price': 18.23}, {'color': 'Green', 'size': 'small', 'qty': 5, 'price': 20.03}, {'color': 'Black', 'size': 'large', 'qty': 1, 'price': 41.23}, {'color': 'Red', 'size': 'large', 'qty': 10, 'price': 46.82}, {'color': 'Green', 'size': 'large', 'qty': 7, 'price': 45.43}]}\n",
      "\n",
      "{'_id': ObjectId('642cf5ae4db73d46dadc347f'), 'name': 'Mug', 'departments': ['Home', 'Kitchen'], 'versions': [{'color': 'White', 'size': '11 oz', 'qty': 14, 'price': 14.79}, {'color': 'Blue', 'size': '11 oz', 'qty': 23, 'price': 15.23}, {'color': 'Green', 'size': '11 oz', 'qty': 15, 'price': 15.07}, {'color': 'White', 'size': '15 oz', 'qty': 11, 'price': 24.43}, {'color': 'Blue', 'size': '15 oz', 'qty': 7, 'price': 25.42}, {'color': 'Green', 'size': '15 oz', 'qty': 10, 'price': 25.83}]}\n",
      "\n"
     ]
    }
   ],
   "source": [
    "find_cursor = db.items.find({\"versions.size\": {\"$exists\": True}})\n",
    "print_cursor(find_cursor)"
   ]
  },
  {
   "cell_type": "code",
   "execution_count": 18,
   "id": "9215e773",
   "metadata": {},
   "outputs": [
    {
     "name": "stdout",
     "output_type": "stream",
     "text": [
      "{'_id': ObjectId('642cf5ae4db73d46dadc3480'), 'name': 'Pens', 'departments': ['School', 'Office'], 'versions': [{'color': 'Black', 'type': '10 Pack', 'qty': 40, 'price': 14.79}, {'color': 'Red', 'type': '10 Pack', 'qty': 13, 'price': 15.23}, {'color': 'Blue', 'type': '10 Pack', 'qty': 12, 'price': 15.07}]}\n",
      "\n"
     ]
    }
   ],
   "source": [
    "find_cursor = db.items.find({\"versions.qty\": {\"$gt\": 35}})\n",
    "print_cursor(find_cursor)"
   ]
  },
  {
   "cell_type": "markdown",
   "id": "5ac5da00",
   "metadata": {},
   "source": [
    "### Updating Arrays"
   ]
  },
  {
   "cell_type": "code",
   "execution_count": 23,
   "id": "a10988ba",
   "metadata": {},
   "outputs": [
    {
     "data": {
      "text/plain": [
       "{'n': 1, 'nModified': 1, 'ok': 1.0, 'updatedExisting': True}"
      ]
     },
     "execution_count": 23,
     "metadata": {},
     "output_type": "execute_result"
    }
   ],
   "source": [
    "update_many_res = db.items.update_many({\"name\": \"Pens\"}, {\"$set\": {\"departments\": [\"Office\", \"School\"]}})\n",
    "update_many_res.raw_result"
   ]
  },
  {
   "cell_type": "code",
   "execution_count": 24,
   "id": "a6129184",
   "metadata": {},
   "outputs": [
    {
     "data": {
      "text/plain": [
       "['Office', 'School']"
      ]
     },
     "execution_count": 24,
     "metadata": {},
     "output_type": "execute_result"
    }
   ],
   "source": [
    "db.items.find_one({\"name\": \"Pens\"})[\"departments\"]"
   ]
  },
  {
   "cell_type": "code",
   "execution_count": 25,
   "id": "70e9dabf",
   "metadata": {},
   "outputs": [
    {
     "data": {
      "text/plain": [
       "{'n': 1, 'nModified': 1, 'ok': 1.0, 'updatedExisting': True}"
      ]
     },
     "execution_count": 25,
     "metadata": {},
     "output_type": "execute_result"
    }
   ],
   "source": [
    "update_many_res = db.items.update_many({\"name\": \"Mug\"}, {\"$pop\": {\"departments\": 1}})\n",
    "update_many_res.raw_result"
   ]
  },
  {
   "cell_type": "code",
   "execution_count": 26,
   "id": "5d8d4f00",
   "metadata": {},
   "outputs": [
    {
     "data": {
      "text/plain": [
       "['Home']"
      ]
     },
     "execution_count": 26,
     "metadata": {},
     "output_type": "execute_result"
    }
   ],
   "source": [
    "db.items.find_one({\"name\": \"Mug\"})[\"departments\"]"
   ]
  },
  {
   "cell_type": "code",
   "execution_count": 27,
   "id": "abd3b641",
   "metadata": {},
   "outputs": [
    {
     "data": {
      "text/plain": [
       "{'n': 1, 'nModified': 1, 'ok': 1.0, 'updatedExisting': True}"
      ]
     },
     "execution_count": 27,
     "metadata": {},
     "output_type": "execute_result"
    }
   ],
   "source": [
    "update_many_res = db.items.update_many({\"name\": \"Mug\"}, {\"$pull\": {\"departments\": \"Home\"}})\n",
    "update_many_res.raw_result"
   ]
  },
  {
   "cell_type": "code",
   "execution_count": 28,
   "id": "1ebde1a6",
   "metadata": {},
   "outputs": [
    {
     "data": {
      "text/plain": [
       "[]"
      ]
     },
     "execution_count": 28,
     "metadata": {},
     "output_type": "execute_result"
    }
   ],
   "source": [
    "db.items.find_one({\"name\": \"Mug\"})[\"departments\"]"
   ]
  },
  {
   "cell_type": "code",
   "execution_count": 29,
   "id": "223278c0",
   "metadata": {},
   "outputs": [
    {
     "data": {
      "text/plain": [
       "{'n': 1, 'nModified': 1, 'ok': 1.0, 'updatedExisting': True}"
      ]
     },
     "execution_count": 29,
     "metadata": {},
     "output_type": "execute_result"
    }
   ],
   "source": [
    "update_many_res = db.items.update_many({\"name\": \"Mug\"}, {\"$push\": {\"departments\": \"Home\"}})\n",
    "update_many_res.raw_result"
   ]
  },
  {
   "cell_type": "code",
   "execution_count": 30,
   "id": "72e79def",
   "metadata": {},
   "outputs": [
    {
     "data": {
      "text/plain": [
       "['Home']"
      ]
     },
     "execution_count": 30,
     "metadata": {},
     "output_type": "execute_result"
    }
   ],
   "source": [
    "db.items.find_one({\"name\": \"Mug\"})[\"departments\"]"
   ]
  },
  {
   "cell_type": "markdown",
   "id": "3b10e331",
   "metadata": {},
   "source": [
    "### Sets VS Arrays"
   ]
  },
  {
   "cell_type": "code",
   "execution_count": 31,
   "id": "de03c368",
   "metadata": {},
   "outputs": [
    {
     "data": {
      "text/plain": [
       "{'n': 1, 'nModified': 1, 'ok': 1.0, 'updatedExisting': True}"
      ]
     },
     "execution_count": 31,
     "metadata": {},
     "output_type": "execute_result"
    }
   ],
   "source": [
    "update_many_res = db.items.update_many({\"name\": \"Pens\"}, {\"$addToSet\": {\"departments\": \"Home\"}})\n",
    "update_many_res.raw_result"
   ]
  },
  {
   "cell_type": "code",
   "execution_count": 32,
   "id": "6165b449",
   "metadata": {},
   "outputs": [
    {
     "data": {
      "text/plain": [
       "{'n': 1, 'nModified': 1, 'ok': 1.0, 'updatedExisting': True}"
      ]
     },
     "execution_count": 32,
     "metadata": {},
     "output_type": "execute_result"
    }
   ],
   "source": [
    "update_many_res = db.items.update_many(\n",
    "    {\"name\": \"Pens\"}, \n",
    "    {\"$addToSet\": {\n",
    "        \"departments\": {\n",
    "            \"$each\": [\"Work\", \"Home\"]\n",
    "    }}})\n",
    "update_many_res.raw_result"
   ]
  },
  {
   "cell_type": "code",
   "execution_count": null,
   "id": "dc74fe00",
   "metadata": {},
   "outputs": [],
   "source": []
  }
 ],
 "metadata": {
  "kernelspec": {
   "display_name": "Python 3 (ipykernel)",
   "language": "python",
   "name": "python3"
  },
  "language_info": {
   "codemirror_mode": {
    "name": "ipython",
    "version": 3
   },
   "file_extension": ".py",
   "mimetype": "text/x-python",
   "name": "python",
   "nbconvert_exporter": "python",
   "pygments_lexer": "ipython3",
   "version": "3.8.16"
  }
 },
 "nbformat": 4,
 "nbformat_minor": 5
}

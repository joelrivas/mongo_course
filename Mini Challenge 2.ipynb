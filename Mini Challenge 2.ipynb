{
 "cells": [
  {
   "cell_type": "markdown",
   "id": "da66038f",
   "metadata": {},
   "source": [
    "# Aggregation Mini Challenge 2\n",
    "\n",
    "Apply what you have learned so far about the aggregation framework to try solve this mini challenge"
   ]
  },
  {
   "cell_type": "code",
   "execution_count": 2,
   "id": "9b8d7ac3",
   "metadata": {},
   "outputs": [],
   "source": [
    "# Import pymongo dependencies\n",
    "\n",
    "import pymongo"
   ]
  },
  {
   "cell_type": "code",
   "execution_count": 10,
   "id": "a8a3663d",
   "metadata": {},
   "outputs": [],
   "source": [
    "# Set up your MongoClient and database variable\n",
    "\n",
    "client = pymongo.MongoClient(\"localhost\", 27017)\n",
    "db = client.aggregation_test"
   ]
  },
  {
   "cell_type": "code",
   "execution_count": 4,
   "id": "3c48b258",
   "metadata": {},
   "outputs": [],
   "source": [
    "# Function which prints out all the results of a cursor\n",
    "def print_cursor(cursor):\n",
    "    for document in cursor:\n",
    "        print(document, end=\"\\n\\n\")"
   ]
  },
  {
   "cell_type": "code",
   "execution_count": 35,
   "id": "a8f8fd1f",
   "metadata": {},
   "outputs": [],
   "source": [
    "### Challenge Part 1:\n",
    "###   Find the top sellers (by user name) based on the quantity of all prodcuts they have sold from the 'orders' collection.\n",
    "###   Sort the sellers from highest to lowest quantity sold, and output the results to a new collection called 'top_sellers'\n",
    "###\n",
    "### Example entry from new collection: \n",
    "### {\"_id\": ObjectId(...), \"seller_name\": \"Sarah\", \"num_items_sold\": 7}\n",
    "\n",
    "cursor = db.orders.aggregate([\n",
    "    {\"$unwind\": \"$items\"},\n",
    "    {\"$group\": {\"_id\": \"$items.product_id\", \"total_quantity\": {\"$sum\": \"$items.quantity\"}}},\n",
    "    {\"$lookup\": {\n",
    "        \"from\": \"products\",\n",
    "        \"localField\": \"_id\",\n",
    "        \"foreignField\": \"_id\",\n",
    "        \"as\": \"products\"\n",
    "    }},\n",
    "    {\"$group\": {\"_id\": {\"$first\": \"$products.seller_id\"}, \"num_items_sold\": {\"$sum\": \"$total_quantity\"}}},\n",
    "    {\"$lookup\": {\n",
    "        \"from\": \"users\",\n",
    "        \"localField\": \"_id\",\n",
    "        \"foreignField\": \"_id\",\n",
    "        \"as\": \"sellers\"\n",
    "    }},\n",
    "    {\"$project\": {\"seller_name\": {\"$first\": \"$sellers.name\"}, \"num_items_sold\": 1}},\n",
    "    {\"$replaceRoot\": {\"newRoot\": {\"_id\": \"$_id\", \"seller_name\": \"$seller_name\", \"num_items_sold\": \"$num_items_sold\"}}},\n",
    "    {\"$sort\": {\"num_items_sold\": -1}},\n",
    "    {\"$out\": {\"db\": \"aggregation_test\", \"coll\": \"top_sellers\"}}\n",
    "])"
   ]
  },
  {
   "cell_type": "code",
   "execution_count": 36,
   "id": "8cfdbd45",
   "metadata": {},
   "outputs": [
    {
     "name": "stdout",
     "output_type": "stream",
     "text": [
      "{'_id': ObjectId('642d06472c53af7ae4ee5b81'), 'seller_name': 'Sarah', 'num_items_sold': 7}\n",
      "\n",
      "{'_id': ObjectId('642d06472c53af7ae4ee5b82'), 'seller_name': 'Bob', 'num_items_sold': 5}\n",
      "\n",
      "{'_id': ObjectId('642d06472c53af7ae4ee5b85'), 'seller_name': 'Jessica', 'num_items_sold': 2}\n",
      "\n",
      "{'_id': ObjectId('642d06472c53af7ae4ee5b84'), 'seller_name': 'Lisa', 'num_items_sold': 1}\n",
      "\n"
     ]
    }
   ],
   "source": [
    "# Grab the results from your database\n",
    "# print_cursor(cursor)\n",
    "\n",
    "top_seller_cursor = db.top_sellers.find({})\n",
    "print_cursor(top_seller_cursor)"
   ]
  },
  {
   "cell_type": "code",
   "execution_count": 39,
   "id": "228c951e",
   "metadata": {},
   "outputs": [],
   "source": [
    "### Challenge Part 2:\n",
    "###   You want to reward your sellers with an extra day of a premium membership for each item they've sold. Add\n",
    "###   an attribute called 'premium_exp_date' to the entries in the 'users' collection which contains the date their \n",
    "###   premium membership will expire. Currently no users have a premium membership, so use today as the start date\n",
    "###   from their premium membership, but make sure your pipeline is able to add the extra days of premium to an\n",
    "###   existing date if one existed. \n",
    "###\n",
    "### Example entry from users collection: \n",
    "###   {'_id': ObjectId(...), 'name': 'Sarah', 'premium_exp_date': datetime.datetime(2021, 12, 24, 4, 2, 4, 146000)}\n",
    "\n",
    "cursor = db.orders.aggregate([\n",
    "    {\"$unwind\": \"$items\"},\n",
    "    {\"$group\": {\"_id\": \"$items.product_id\", \"total_quantity\": {\"$sum\": \"$items.quantity\"}}},\n",
    "    {\"$lookup\": {\n",
    "        \"from\": \"products\",\n",
    "        \"localField\": \"_id\",\n",
    "        \"foreignField\": \"_id\",\n",
    "        \"as\": \"products\"\n",
    "    }},\n",
    "    {\"$group\": {\"_id\": {\"$first\": \"$products.seller_id\"}, \"num_items_sold\": {\"$sum\": \"$total_quantity\"}}},\n",
    "    {\"$lookup\": {\n",
    "        \"from\": \"users\",\n",
    "        \"localField\": \"_id\",\n",
    "        \"foreignField\": \"_id\",\n",
    "        \"as\": \"sellers\"\n",
    "    }},\n",
    "    {\"$project\": {\"_id\": 1, \"premium_exp_date\": {\n",
    "        \"$switch\": {\n",
    "            \"branches\": [\n",
    "                {\"case\": {\"$eq\": [{\"$type\": {\"$first\": \"$sellers.premium_exp_date\"}}, \"missing\"]},\n",
    "                 \"then\": {\"$dateAdd\": {\"startDate\": \"$$NOW\", \"unit\": \"day\", \"amount\": \"$num_items_sold\"}}},\n",
    "                {\"case\": {\"$lte\": [{\"$first\": \"$sellers.premium_exp_date\"}, \"$$NOW\"]},\n",
    "                 \"then\": {\"$dateAdd\": {\"startDate\": \"$$NOW\", \"unit\": \"day\", \"amount\": \"$num_items_sold\"}}},\n",
    "                {\"case\": {\"$gt\": [{\"$first\": \"$sellers.premium_exp_date\"}, \"$$NOW\"]},\n",
    "                 \"then\": {\"$dateAdd\": {\n",
    "                     \"startDate\": {\"$first\": \"$sellers.premium_exp_date\"}, \"unit\": \"day\", \"amount\": \"$num_items_sold\"\n",
    "                 }}}\n",
    "            ]\n",
    "        }\n",
    "    }}},\n",
    "    {\"$merge\": {\n",
    "        \"into\": {\"db\": \"aggregation_test\", \"coll\": \"users\"},\n",
    "        \"on\": \"_id\",\n",
    "        \"whenMatched\": \"merge\",\n",
    "        \"whenNotMatched\": \"fail\"\n",
    "    }}\n",
    "    \n",
    "])\n",
    "\n",
    "print_cursor(cursor)"
   ]
  },
  {
   "cell_type": "code",
   "execution_count": 40,
   "id": "d8d3aa53",
   "metadata": {},
   "outputs": [
    {
     "name": "stdout",
     "output_type": "stream",
     "text": [
      "{'_id': ObjectId('642d06472c53af7ae4ee5b81'), 'name': 'Sarah', 'premium_exp_date': datetime.datetime(2023, 4, 14, 0, 45, 57, 486000)}\n",
      "\n",
      "{'_id': ObjectId('642d06472c53af7ae4ee5b82'), 'name': 'Bob', 'premium_exp_date': datetime.datetime(2023, 5, 5, 0, 0)}\n",
      "\n",
      "{'_id': ObjectId('642d06472c53af7ae4ee5b83'), 'name': 'Jose'}\n",
      "\n",
      "{'_id': ObjectId('642d06472c53af7ae4ee5b84'), 'name': 'Lisa', 'premium_exp_date': datetime.datetime(2023, 4, 8, 0, 45, 57, 486000)}\n",
      "\n",
      "{'_id': ObjectId('642d06472c53af7ae4ee5b85'), 'name': 'Jessica', 'premium_exp_date': datetime.datetime(2023, 4, 9, 0, 45, 57, 486000)}\n",
      "\n",
      "{'_id': ObjectId('642d06472c53af7ae4ee5b86'), 'name': 'Tina'}\n",
      "\n",
      "{'_id': ObjectId('642f59def352284f671955a2')}\n",
      "\n"
     ]
    }
   ],
   "source": [
    "# Print out your results\n",
    "users_cursor = db.users.find({})\n",
    "print_cursor(users_cursor)"
   ]
  },
  {
   "cell_type": "code",
   "execution_count": null,
   "id": "d27922a0",
   "metadata": {},
   "outputs": [],
   "source": [
    "db.users_update_many({}, {\"$unset\": {\"premium_exp_date\": True}})"
   ]
  }
 ],
 "metadata": {
  "kernelspec": {
   "display_name": "Python 3 (ipykernel)",
   "language": "python",
   "name": "python3"
  },
  "language_info": {
   "codemirror_mode": {
    "name": "ipython",
    "version": 3
   },
   "file_extension": ".py",
   "mimetype": "text/x-python",
   "name": "python",
   "nbconvert_exporter": "python",
   "pygments_lexer": "ipython3",
   "version": "3.8.16"
  }
 },
 "nbformat": 4,
 "nbformat_minor": 5
}

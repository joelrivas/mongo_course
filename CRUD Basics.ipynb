{
 "cells": [
  {
   "cell_type": "code",
   "execution_count": 1,
   "id": "4e80b5e9",
   "metadata": {},
   "outputs": [],
   "source": [
    "from pymongo import MongoClient"
   ]
  },
  {
   "cell_type": "markdown",
   "id": "e0633e40",
   "metadata": {},
   "source": [
    "## Connect to MongoDB"
   ]
  },
  {
   "cell_type": "code",
   "execution_count": 4,
   "id": "ec17e1dd",
   "metadata": {},
   "outputs": [],
   "source": [
    "### Either format id acceptable:\n",
    "\n",
    "# my_client = MongoClient(\"localhost\", 27017)\n",
    "my_client = MongoClient(\"mongodb://localhost:27017\")"
   ]
  },
  {
   "cell_type": "code",
   "execution_count": 5,
   "id": "a9d9036a",
   "metadata": {},
   "outputs": [
    {
     "data": {
      "text/plain": [
       "MongoClient(host=['localhost:27017'], document_class=dict, tz_aware=False, connect=True)"
      ]
     },
     "execution_count": 5,
     "metadata": {},
     "output_type": "execute_result"
    }
   ],
   "source": [
    "my_client"
   ]
  },
  {
   "cell_type": "markdown",
   "id": "58a10af8",
   "metadata": {},
   "source": [
    "## Connect to specific Database"
   ]
  },
  {
   "cell_type": "code",
   "execution_count": 6,
   "id": "8c0f27b8",
   "metadata": {
    "scrolled": true
   },
   "outputs": [
    {
     "data": {
      "text/plain": [
       "['admin', 'config', 'local']"
      ]
     },
     "execution_count": 6,
     "metadata": {},
     "output_type": "execute_result"
    }
   ],
   "source": [
    "my_client.list_database_names()"
   ]
  },
  {
   "cell_type": "code",
   "execution_count": 7,
   "id": "c7d7d68c",
   "metadata": {},
   "outputs": [],
   "source": [
    "db = my_client.my_store"
   ]
  },
  {
   "cell_type": "code",
   "execution_count": 8,
   "id": "43ef548d",
   "metadata": {},
   "outputs": [
    {
     "data": {
      "text/plain": [
       "Database(MongoClient(host=['localhost:27017'], document_class=dict, tz_aware=False, connect=True), 'my_store')"
      ]
     },
     "execution_count": 8,
     "metadata": {},
     "output_type": "execute_result"
    }
   ],
   "source": [
    "db"
   ]
  },
  {
   "cell_type": "markdown",
   "id": "9e3c493c",
   "metadata": {},
   "source": [
    "## Access a specific collection withing the database"
   ]
  },
  {
   "cell_type": "code",
   "execution_count": 9,
   "id": "d3e8f6de",
   "metadata": {},
   "outputs": [],
   "source": [
    "### col stands for collection not column\n",
    "users_col = db.users"
   ]
  },
  {
   "cell_type": "code",
   "execution_count": 10,
   "id": "f29f534c",
   "metadata": {},
   "outputs": [
    {
     "data": {
      "text/plain": [
       "Collection(Database(MongoClient(host=['localhost:27017'], document_class=dict, tz_aware=False, connect=True), 'my_store'), 'users')"
      ]
     },
     "execution_count": 10,
     "metadata": {},
     "output_type": "execute_result"
    }
   ],
   "source": [
    "users_col"
   ]
  },
  {
   "cell_type": "markdown",
   "id": "83b44471",
   "metadata": {},
   "source": [
    "## C - Creat"
   ]
  },
  {
   "cell_type": "code",
   "execution_count": 11,
   "id": "a2f3ca43",
   "metadata": {},
   "outputs": [
    {
     "data": {
      "text/plain": [
       "<pymongo.results.InsertOneResult at 0x7f7110f54280>"
      ]
     },
     "execution_count": 11,
     "metadata": {},
     "output_type": "execute_result"
    }
   ],
   "source": [
    "users_col.insert_one({\"name\": \"Sam Smith\", \"age\": 29})"
   ]
  },
  {
   "cell_type": "code",
   "execution_count": 12,
   "id": "bb1a7e84",
   "metadata": {},
   "outputs": [],
   "source": [
    "new_user = {\n",
    "    \"name\": \"Keanu Reeves\",\n",
    "    \"age\": 57\n",
    "}"
   ]
  },
  {
   "cell_type": "code",
   "execution_count": 13,
   "id": "4173a52a",
   "metadata": {},
   "outputs": [
    {
     "data": {
      "text/plain": [
       "<pymongo.results.InsertOneResult at 0x7f711032b600>"
      ]
     },
     "execution_count": 13,
     "metadata": {},
     "output_type": "execute_result"
    }
   ],
   "source": [
    "users_col.insert_one(new_user)"
   ]
  },
  {
   "cell_type": "markdown",
   "id": "b9b2d0c2",
   "metadata": {},
   "source": [
    "## R- Read"
   ]
  },
  {
   "cell_type": "code",
   "execution_count": 14,
   "id": "e61c28bb",
   "metadata": {},
   "outputs": [
    {
     "data": {
      "text/plain": [
       "{'_id': ObjectId('6423d18df6659224eb62200a'),\n",
       " 'name': 'Keanu Reeves',\n",
       " 'age': 57}"
      ]
     },
     "execution_count": 14,
     "metadata": {},
     "output_type": "execute_result"
    }
   ],
   "source": [
    "users_col.find_one({\"name\": \"Keanu Reeves\", \"age\": 57})"
   ]
  },
  {
   "cell_type": "code",
   "execution_count": 15,
   "id": "3895e97a",
   "metadata": {},
   "outputs": [
    {
     "data": {
      "text/plain": [
       "{'_id': ObjectId('6423d18df6659224eb62200a'),\n",
       " 'name': 'Keanu Reeves',\n",
       " 'age': 57}"
      ]
     },
     "execution_count": 15,
     "metadata": {},
     "output_type": "execute_result"
    }
   ],
   "source": [
    "users_col.find_one(new_user)"
   ]
  },
  {
   "cell_type": "markdown",
   "id": "75920314",
   "metadata": {},
   "source": [
    "## U - Update"
   ]
  },
  {
   "cell_type": "code",
   "execution_count": 16,
   "id": "b56eb4a5",
   "metadata": {},
   "outputs": [
    {
     "data": {
      "text/plain": [
       "<pymongo.results.UpdateResult at 0x7f71112a8880>"
      ]
     },
     "execution_count": 16,
     "metadata": {},
     "output_type": "execute_result"
    }
   ],
   "source": [
    "users_col.update_one({\"name\": \"Sam Smith\"}, {\"$set\": {\"name\": \"Will Smith\", \"age\": 53}})"
   ]
  },
  {
   "cell_type": "markdown",
   "id": "a0e1a565",
   "metadata": {},
   "source": [
    "## D - Delete"
   ]
  },
  {
   "cell_type": "code",
   "execution_count": 17,
   "id": "ffcecde6",
   "metadata": {},
   "outputs": [
    {
     "data": {
      "text/plain": [
       "<pymongo.results.DeleteResult at 0x7f71112ad380>"
      ]
     },
     "execution_count": 17,
     "metadata": {},
     "output_type": "execute_result"
    }
   ],
   "source": [
    "users_col.delete_one({\"name\": \"Will Smith\"})"
   ]
  },
  {
   "cell_type": "code",
   "execution_count": 18,
   "id": "2c51152e",
   "metadata": {},
   "outputs": [
    {
     "data": {
      "text/plain": [
       "<pymongo.results.DeleteResult at 0x7f7111174f40>"
      ]
     },
     "execution_count": 18,
     "metadata": {},
     "output_type": "execute_result"
    }
   ],
   "source": [
    "users_col.delete_many({})"
   ]
  },
  {
   "cell_type": "code",
   "execution_count": null,
   "id": "a547f04e",
   "metadata": {},
   "outputs": [],
   "source": []
  }
 ],
 "metadata": {
  "kernelspec": {
   "display_name": "Python 3 (ipykernel)",
   "language": "python",
   "name": "python3"
  },
  "language_info": {
   "codemirror_mode": {
    "name": "ipython",
    "version": 3
   },
   "file_extension": ".py",
   "mimetype": "text/x-python",
   "name": "python",
   "nbconvert_exporter": "python",
   "pygments_lexer": "ipython3",
   "version": "3.8.16"
  }
 },
 "nbformat": 4,
 "nbformat_minor": 5
}

{
 "cells": [
  {
   "cell_type": "markdown",
   "id": "347527e2",
   "metadata": {},
   "source": [
    "## Timeseries Data\n",
    "\n",
    "Go over using Time Series MongoDB collections by scraping stock market data over the internet"
   ]
  },
  {
   "cell_type": "markdown",
   "id": "aa1bd302",
   "metadata": {},
   "source": [
    "##### Install Dependencies In Terminal (if you do not already have it)\n",
    "```bash\n",
    "pip install --user yfinance\n",
    "pip install --user matplotlib\n",
    "```"
   ]
  },
  {
   "cell_type": "code",
   "execution_count": 1,
   "id": "9ebe4ca7",
   "metadata": {},
   "outputs": [],
   "source": [
    "from pymongo import MongoClient\n",
    "\n",
    "import pandas\n",
    "import yfinance as yf\n",
    "from datetime import datetime, timedelta\n",
    "from dateutil.relativedelta import relativedelta"
   ]
  },
  {
   "cell_type": "markdown",
   "id": "d0a37460",
   "metadata": {},
   "source": [
    "### Intro to yfinance"
   ]
  },
  {
   "cell_type": "code",
   "execution_count": 2,
   "id": "aa9f4459",
   "metadata": {},
   "outputs": [
    {
     "name": "stdout",
     "output_type": "stream",
     "text": [
      "[*********************100%***********************]  2 of 2 completed\n"
     ]
    }
   ],
   "source": [
    "tickers = [\"AMZN\", \"GOOGL\"]\n",
    "data = yf.download(tickers=tickers, period=\"1y\", interval=\"1d\")"
   ]
  },
  {
   "cell_type": "code",
   "execution_count": 3,
   "id": "2f9afb6b",
   "metadata": {},
   "outputs": [
    {
     "name": "stdout",
     "output_type": "stream",
     "text": [
      "<class 'pandas.core.frame.DataFrame'>\n"
     ]
    },
    {
     "data": {
      "text/html": [
       "<div>\n",
       "<style scoped>\n",
       "    .dataframe tbody tr th:only-of-type {\n",
       "        vertical-align: middle;\n",
       "    }\n",
       "\n",
       "    .dataframe tbody tr th {\n",
       "        vertical-align: top;\n",
       "    }\n",
       "\n",
       "    .dataframe thead tr th {\n",
       "        text-align: left;\n",
       "    }\n",
       "\n",
       "    .dataframe thead tr:last-of-type th {\n",
       "        text-align: right;\n",
       "    }\n",
       "</style>\n",
       "<table border=\"1\" class=\"dataframe\">\n",
       "  <thead>\n",
       "    <tr>\n",
       "      <th></th>\n",
       "      <th colspan=\"2\" halign=\"left\">Adj Close</th>\n",
       "      <th colspan=\"2\" halign=\"left\">Close</th>\n",
       "      <th colspan=\"2\" halign=\"left\">High</th>\n",
       "      <th colspan=\"2\" halign=\"left\">Low</th>\n",
       "      <th colspan=\"2\" halign=\"left\">Open</th>\n",
       "      <th colspan=\"2\" halign=\"left\">Volume</th>\n",
       "    </tr>\n",
       "    <tr>\n",
       "      <th></th>\n",
       "      <th>AMZN</th>\n",
       "      <th>GOOGL</th>\n",
       "      <th>AMZN</th>\n",
       "      <th>GOOGL</th>\n",
       "      <th>AMZN</th>\n",
       "      <th>GOOGL</th>\n",
       "      <th>AMZN</th>\n",
       "      <th>GOOGL</th>\n",
       "      <th>AMZN</th>\n",
       "      <th>GOOGL</th>\n",
       "      <th>AMZN</th>\n",
       "      <th>GOOGL</th>\n",
       "    </tr>\n",
       "    <tr>\n",
       "      <th>Date</th>\n",
       "      <th></th>\n",
       "      <th></th>\n",
       "      <th></th>\n",
       "      <th></th>\n",
       "      <th></th>\n",
       "      <th></th>\n",
       "      <th></th>\n",
       "      <th></th>\n",
       "      <th></th>\n",
       "      <th></th>\n",
       "      <th></th>\n",
       "      <th></th>\n",
       "    </tr>\n",
       "  </thead>\n",
       "  <tbody>\n",
       "    <tr>\n",
       "      <th>2022-04-11</th>\n",
       "      <td>151.121994</td>\n",
       "      <td>128.823502</td>\n",
       "      <td>151.121994</td>\n",
       "      <td>128.823502</td>\n",
       "      <td>154.136505</td>\n",
       "      <td>132.092499</td>\n",
       "      <td>150.534500</td>\n",
       "      <td>128.668503</td>\n",
       "      <td>152.712997</td>\n",
       "      <td>131.823502</td>\n",
       "      <td>52112000</td>\n",
       "      <td>36884000</td>\n",
       "    </tr>\n",
       "    <tr>\n",
       "      <th>2022-04-12</th>\n",
       "      <td>150.787506</td>\n",
       "      <td>127.714500</td>\n",
       "      <td>150.787506</td>\n",
       "      <td>127.714500</td>\n",
       "      <td>155.098999</td>\n",
       "      <td>131.600006</td>\n",
       "      <td>150.382996</td>\n",
       "      <td>126.789001</td>\n",
       "      <td>153.692505</td>\n",
       "      <td>131.600006</td>\n",
       "      <td>55178000</td>\n",
       "      <td>32710000</td>\n",
       "    </tr>\n",
       "    <tr>\n",
       "      <th>2022-04-13</th>\n",
       "      <td>155.541000</td>\n",
       "      <td>129.893997</td>\n",
       "      <td>155.541000</td>\n",
       "      <td>129.893997</td>\n",
       "      <td>156.024994</td>\n",
       "      <td>130.334000</td>\n",
       "      <td>149.600006</td>\n",
       "      <td>127.740997</td>\n",
       "      <td>150.018494</td>\n",
       "      <td>128.000000</td>\n",
       "      <td>53390000</td>\n",
       "      <td>27928000</td>\n",
       "    </tr>\n",
       "  </tbody>\n",
       "</table>\n",
       "</div>"
      ],
      "text/plain": [
       "             Adj Close                   Close                    High  \\\n",
       "                  AMZN       GOOGL        AMZN       GOOGL        AMZN   \n",
       "Date                                                                     \n",
       "2022-04-11  151.121994  128.823502  151.121994  128.823502  154.136505   \n",
       "2022-04-12  150.787506  127.714500  150.787506  127.714500  155.098999   \n",
       "2022-04-13  155.541000  129.893997  155.541000  129.893997  156.024994   \n",
       "\n",
       "                               Low                    Open              \\\n",
       "                 GOOGL        AMZN       GOOGL        AMZN       GOOGL   \n",
       "Date                                                                     \n",
       "2022-04-11  132.092499  150.534500  128.668503  152.712997  131.823502   \n",
       "2022-04-12  131.600006  150.382996  126.789001  153.692505  131.600006   \n",
       "2022-04-13  130.334000  149.600006  127.740997  150.018494  128.000000   \n",
       "\n",
       "              Volume            \n",
       "                AMZN     GOOGL  \n",
       "Date                            \n",
       "2022-04-11  52112000  36884000  \n",
       "2022-04-12  55178000  32710000  \n",
       "2022-04-13  53390000  27928000  "
      ]
     },
     "execution_count": 3,
     "metadata": {},
     "output_type": "execute_result"
    }
   ],
   "source": [
    "print(type(data))\n",
    "data[0:3]"
   ]
  },
  {
   "cell_type": "code",
   "execution_count": 4,
   "id": "3a3e205f",
   "metadata": {},
   "outputs": [
    {
     "data": {
      "image/png": "[encoded data removed]",
      "text/plain": [
       "<Figure size 1500x500 with 1 Axes>"
      ]
     },
     "metadata": {},
     "output_type": "display_data"
    }
   ],
   "source": [
    "ax = data.plot(y=[\"Close\"], figsize=(15, 5), title=str(tickers) + \" Stock Price Close Data\")\n",
    "ax.set_ylabel(\"Close Price ($)\")\n",
    "None"
   ]
  },
  {
   "cell_type": "markdown",
   "id": "0944bc89",
   "metadata": {},
   "source": [
    "### Converting yfinance dataframe to dict format for insertion"
   ]
  },
  {
   "cell_type": "markdown",
   "id": "062c673c",
   "metadata": {},
   "source": [
    "##### Swap the columns so the ticker names are the highest level column"
   ]
  },
  {
   "cell_type": "code",
   "execution_count": 5,
   "id": "ba48e391",
   "metadata": {},
   "outputs": [
    {
     "data": {
      "text/html": [
       "<div>\n",
       "<style scoped>\n",
       "    .dataframe tbody tr th:only-of-type {\n",
       "        vertical-align: middle;\n",
       "    }\n",
       "\n",
       "    .dataframe tbody tr th {\n",
       "        vertical-align: top;\n",
       "    }\n",
       "\n",
       "    .dataframe thead tr th {\n",
       "        text-align: left;\n",
       "    }\n",
       "\n",
       "    .dataframe thead tr:last-of-type th {\n",
       "        text-align: right;\n",
       "    }\n",
       "</style>\n",
       "<table border=\"1\" class=\"dataframe\">\n",
       "  <thead>\n",
       "    <tr>\n",
       "      <th></th>\n",
       "      <th>AMZN</th>\n",
       "      <th>GOOGL</th>\n",
       "      <th>AMZN</th>\n",
       "      <th>GOOGL</th>\n",
       "      <th>AMZN</th>\n",
       "      <th>GOOGL</th>\n",
       "      <th>AMZN</th>\n",
       "      <th>GOOGL</th>\n",
       "      <th>AMZN</th>\n",
       "      <th>GOOGL</th>\n",
       "      <th>AMZN</th>\n",
       "      <th>GOOGL</th>\n",
       "    </tr>\n",
       "    <tr>\n",
       "      <th></th>\n",
       "      <th>Adj Close</th>\n",
       "      <th>Adj Close</th>\n",
       "      <th>Close</th>\n",
       "      <th>Close</th>\n",
       "      <th>High</th>\n",
       "      <th>High</th>\n",
       "      <th>Low</th>\n",
       "      <th>Low</th>\n",
       "      <th>Open</th>\n",
       "      <th>Open</th>\n",
       "      <th>Volume</th>\n",
       "      <th>Volume</th>\n",
       "    </tr>\n",
       "    <tr>\n",
       "      <th>Date</th>\n",
       "      <th></th>\n",
       "      <th></th>\n",
       "      <th></th>\n",
       "      <th></th>\n",
       "      <th></th>\n",
       "      <th></th>\n",
       "      <th></th>\n",
       "      <th></th>\n",
       "      <th></th>\n",
       "      <th></th>\n",
       "      <th></th>\n",
       "      <th></th>\n",
       "    </tr>\n",
       "  </thead>\n",
       "  <tbody>\n",
       "    <tr>\n",
       "      <th>2022-04-11</th>\n",
       "      <td>151.121994</td>\n",
       "      <td>128.823502</td>\n",
       "      <td>151.121994</td>\n",
       "      <td>128.823502</td>\n",
       "      <td>154.136505</td>\n",
       "      <td>132.092499</td>\n",
       "      <td>150.534500</td>\n",
       "      <td>128.668503</td>\n",
       "      <td>152.712997</td>\n",
       "      <td>131.823502</td>\n",
       "      <td>52112000</td>\n",
       "      <td>36884000</td>\n",
       "    </tr>\n",
       "    <tr>\n",
       "      <th>2022-04-12</th>\n",
       "      <td>150.787506</td>\n",
       "      <td>127.714500</td>\n",
       "      <td>150.787506</td>\n",
       "      <td>127.714500</td>\n",
       "      <td>155.098999</td>\n",
       "      <td>131.600006</td>\n",
       "      <td>150.382996</td>\n",
       "      <td>126.789001</td>\n",
       "      <td>153.692505</td>\n",
       "      <td>131.600006</td>\n",
       "      <td>55178000</td>\n",
       "      <td>32710000</td>\n",
       "    </tr>\n",
       "    <tr>\n",
       "      <th>2022-04-13</th>\n",
       "      <td>155.541000</td>\n",
       "      <td>129.893997</td>\n",
       "      <td>155.541000</td>\n",
       "      <td>129.893997</td>\n",
       "      <td>156.024994</td>\n",
       "      <td>130.334000</td>\n",
       "      <td>149.600006</td>\n",
       "      <td>127.740997</td>\n",
       "      <td>150.018494</td>\n",
       "      <td>128.000000</td>\n",
       "      <td>53390000</td>\n",
       "      <td>27928000</td>\n",
       "    </tr>\n",
       "  </tbody>\n",
       "</table>\n",
       "</div>"
      ],
      "text/plain": [
       "                  AMZN       GOOGL        AMZN       GOOGL        AMZN  \\\n",
       "             Adj Close   Adj Close       Close       Close        High   \n",
       "Date                                                                     \n",
       "2022-04-11  151.121994  128.823502  151.121994  128.823502  154.136505   \n",
       "2022-04-12  150.787506  127.714500  150.787506  127.714500  155.098999   \n",
       "2022-04-13  155.541000  129.893997  155.541000  129.893997  156.024994   \n",
       "\n",
       "                 GOOGL        AMZN       GOOGL        AMZN       GOOGL  \\\n",
       "                  High         Low         Low        Open        Open   \n",
       "Date                                                                     \n",
       "2022-04-11  132.092499  150.534500  128.668503  152.712997  131.823502   \n",
       "2022-04-12  131.600006  150.382996  126.789001  153.692505  131.600006   \n",
       "2022-04-13  130.334000  149.600006  127.740997  150.018494  128.000000   \n",
       "\n",
       "                AMZN     GOOGL  \n",
       "              Volume    Volume  \n",
       "Date                            \n",
       "2022-04-11  52112000  36884000  \n",
       "2022-04-12  55178000  32710000  \n",
       "2022-04-13  53390000  27928000  "
      ]
     },
     "execution_count": 5,
     "metadata": {},
     "output_type": "execute_result"
    }
   ],
   "source": [
    "data.columns = data.columns.swaplevel(0,1)\n",
    "data[0:3]"
   ]
  },
  {
   "cell_type": "code",
   "execution_count": 6,
   "id": "ce655fe4",
   "metadata": {},
   "outputs": [
    {
     "data": {
      "text/html": [
       "<div>\n",
       "<style scoped>\n",
       "    .dataframe tbody tr th:only-of-type {\n",
       "        vertical-align: middle;\n",
       "    }\n",
       "\n",
       "    .dataframe tbody tr th {\n",
       "        vertical-align: top;\n",
       "    }\n",
       "\n",
       "    .dataframe thead th {\n",
       "        text-align: right;\n",
       "    }\n",
       "</style>\n",
       "<table border=\"1\" class=\"dataframe\">\n",
       "  <thead>\n",
       "    <tr style=\"text-align: right;\">\n",
       "      <th></th>\n",
       "      <th>Adj Close</th>\n",
       "      <th>Close</th>\n",
       "      <th>High</th>\n",
       "      <th>Low</th>\n",
       "      <th>Open</th>\n",
       "      <th>Volume</th>\n",
       "    </tr>\n",
       "    <tr>\n",
       "      <th>Date</th>\n",
       "      <th></th>\n",
       "      <th></th>\n",
       "      <th></th>\n",
       "      <th></th>\n",
       "      <th></th>\n",
       "      <th></th>\n",
       "    </tr>\n",
       "  </thead>\n",
       "  <tbody>\n",
       "    <tr>\n",
       "      <th>2022-04-11</th>\n",
       "      <td>151.121994</td>\n",
       "      <td>151.121994</td>\n",
       "      <td>154.136505</td>\n",
       "      <td>150.534500</td>\n",
       "      <td>152.712997</td>\n",
       "      <td>52112000</td>\n",
       "    </tr>\n",
       "    <tr>\n",
       "      <th>2022-04-12</th>\n",
       "      <td>150.787506</td>\n",
       "      <td>150.787506</td>\n",
       "      <td>155.098999</td>\n",
       "      <td>150.382996</td>\n",
       "      <td>153.692505</td>\n",
       "      <td>55178000</td>\n",
       "    </tr>\n",
       "    <tr>\n",
       "      <th>2022-04-13</th>\n",
       "      <td>155.541000</td>\n",
       "      <td>155.541000</td>\n",
       "      <td>156.024994</td>\n",
       "      <td>149.600006</td>\n",
       "      <td>150.018494</td>\n",
       "      <td>53390000</td>\n",
       "    </tr>\n",
       "  </tbody>\n",
       "</table>\n",
       "</div>"
      ],
      "text/plain": [
       "             Adj Close       Close        High         Low        Open  \\\n",
       "Date                                                                     \n",
       "2022-04-11  151.121994  151.121994  154.136505  150.534500  152.712997   \n",
       "2022-04-12  150.787506  150.787506  155.098999  150.382996  153.692505   \n",
       "2022-04-13  155.541000  155.541000  156.024994  149.600006  150.018494   \n",
       "\n",
       "              Volume  \n",
       "Date                  \n",
       "2022-04-11  52112000  \n",
       "2022-04-12  55178000  \n",
       "2022-04-13  53390000  "
      ]
     },
     "execution_count": 6,
     "metadata": {},
     "output_type": "execute_result"
    }
   ],
   "source": [
    "data[\"AMZN\"][0:3]"
   ]
  },
  {
   "cell_type": "markdown",
   "id": "b2519622",
   "metadata": {},
   "source": [
    "##### Create an attribute an each entry that has the name of the ticker"
   ]
  },
  {
   "cell_type": "code",
   "execution_count": 7,
   "id": "2ac1e294",
   "metadata": {},
   "outputs": [],
   "source": [
    "for ticker in tickers:\n",
    "    data.loc[: , (ticker, \"Ticker\")] = ticker"
   ]
  },
  {
   "cell_type": "code",
   "execution_count": 8,
   "id": "17cb1a50",
   "metadata": {},
   "outputs": [
    {
     "data": {
      "text/html": [
       "<div>\n",
       "<style scoped>\n",
       "    .dataframe tbody tr th:only-of-type {\n",
       "        vertical-align: middle;\n",
       "    }\n",
       "\n",
       "    .dataframe tbody tr th {\n",
       "        vertical-align: top;\n",
       "    }\n",
       "\n",
       "    .dataframe thead th {\n",
       "        text-align: right;\n",
       "    }\n",
       "</style>\n",
       "<table border=\"1\" class=\"dataframe\">\n",
       "  <thead>\n",
       "    <tr style=\"text-align: right;\">\n",
       "      <th></th>\n",
       "      <th>Adj Close</th>\n",
       "      <th>Close</th>\n",
       "      <th>High</th>\n",
       "      <th>Low</th>\n",
       "      <th>Open</th>\n",
       "      <th>Volume</th>\n",
       "      <th>Ticker</th>\n",
       "    </tr>\n",
       "    <tr>\n",
       "      <th>Date</th>\n",
       "      <th></th>\n",
       "      <th></th>\n",
       "      <th></th>\n",
       "      <th></th>\n",
       "      <th></th>\n",
       "      <th></th>\n",
       "      <th></th>\n",
       "    </tr>\n",
       "  </thead>\n",
       "  <tbody>\n",
       "    <tr>\n",
       "      <th>2022-04-11</th>\n",
       "      <td>128.823502</td>\n",
       "      <td>128.823502</td>\n",
       "      <td>132.092499</td>\n",
       "      <td>128.668503</td>\n",
       "      <td>131.823502</td>\n",
       "      <td>36884000</td>\n",
       "      <td>GOOGL</td>\n",
       "    </tr>\n",
       "    <tr>\n",
       "      <th>2022-04-12</th>\n",
       "      <td>127.714500</td>\n",
       "      <td>127.714500</td>\n",
       "      <td>131.600006</td>\n",
       "      <td>126.789001</td>\n",
       "      <td>131.600006</td>\n",
       "      <td>32710000</td>\n",
       "      <td>GOOGL</td>\n",
       "    </tr>\n",
       "    <tr>\n",
       "      <th>2022-04-13</th>\n",
       "      <td>129.893997</td>\n",
       "      <td>129.893997</td>\n",
       "      <td>130.334000</td>\n",
       "      <td>127.740997</td>\n",
       "      <td>128.000000</td>\n",
       "      <td>27928000</td>\n",
       "      <td>GOOGL</td>\n",
       "    </tr>\n",
       "  </tbody>\n",
       "</table>\n",
       "</div>"
      ],
      "text/plain": [
       "             Adj Close       Close        High         Low        Open  \\\n",
       "Date                                                                     \n",
       "2022-04-11  128.823502  128.823502  132.092499  128.668503  131.823502   \n",
       "2022-04-12  127.714500  127.714500  131.600006  126.789001  131.600006   \n",
       "2022-04-13  129.893997  129.893997  130.334000  127.740997  128.000000   \n",
       "\n",
       "              Volume Ticker  \n",
       "Date                         \n",
       "2022-04-11  36884000  GOOGL  \n",
       "2022-04-12  32710000  GOOGL  \n",
       "2022-04-13  27928000  GOOGL  "
      ]
     },
     "execution_count": 8,
     "metadata": {},
     "output_type": "execute_result"
    }
   ],
   "source": [
    "data[\"GOOGL\"][0:3]"
   ]
  },
  {
   "cell_type": "markdown",
   "id": "55594023",
   "metadata": {},
   "source": [
    "##### Set date index to a column "
   ]
  },
  {
   "cell_type": "code",
   "execution_count": 9,
   "id": "f47004c2",
   "metadata": {},
   "outputs": [
    {
     "data": {
      "text/html": [
       "<div>\n",
       "<style scoped>\n",
       "    .dataframe tbody tr th:only-of-type {\n",
       "        vertical-align: middle;\n",
       "    }\n",
       "\n",
       "    .dataframe tbody tr th {\n",
       "        vertical-align: top;\n",
       "    }\n",
       "\n",
       "    .dataframe thead th {\n",
       "        text-align: right;\n",
       "    }\n",
       "</style>\n",
       "<table border=\"1\" class=\"dataframe\">\n",
       "  <thead>\n",
       "    <tr style=\"text-align: right;\">\n",
       "      <th></th>\n",
       "      <th>Date</th>\n",
       "      <th>Adj Close</th>\n",
       "      <th>Close</th>\n",
       "      <th>High</th>\n",
       "      <th>Low</th>\n",
       "      <th>Open</th>\n",
       "      <th>Volume</th>\n",
       "      <th>Ticker</th>\n",
       "    </tr>\n",
       "  </thead>\n",
       "  <tbody>\n",
       "    <tr>\n",
       "      <th>0</th>\n",
       "      <td>2022-04-11</td>\n",
       "      <td>151.121994</td>\n",
       "      <td>151.121994</td>\n",
       "      <td>154.136505</td>\n",
       "      <td>150.534500</td>\n",
       "      <td>152.712997</td>\n",
       "      <td>52112000</td>\n",
       "      <td>AMZN</td>\n",
       "    </tr>\n",
       "    <tr>\n",
       "      <th>1</th>\n",
       "      <td>2022-04-12</td>\n",
       "      <td>150.787506</td>\n",
       "      <td>150.787506</td>\n",
       "      <td>155.098999</td>\n",
       "      <td>150.382996</td>\n",
       "      <td>153.692505</td>\n",
       "      <td>55178000</td>\n",
       "      <td>AMZN</td>\n",
       "    </tr>\n",
       "    <tr>\n",
       "      <th>2</th>\n",
       "      <td>2022-04-13</td>\n",
       "      <td>155.541000</td>\n",
       "      <td>155.541000</td>\n",
       "      <td>156.024994</td>\n",
       "      <td>149.600006</td>\n",
       "      <td>150.018494</td>\n",
       "      <td>53390000</td>\n",
       "      <td>AMZN</td>\n",
       "    </tr>\n",
       "  </tbody>\n",
       "</table>\n",
       "</div>"
      ],
      "text/plain": [
       "        Date   Adj Close       Close        High         Low        Open  \\\n",
       "0 2022-04-11  151.121994  151.121994  154.136505  150.534500  152.712997   \n",
       "1 2022-04-12  150.787506  150.787506  155.098999  150.382996  153.692505   \n",
       "2 2022-04-13  155.541000  155.541000  156.024994  149.600006  150.018494   \n",
       "\n",
       "     Volume Ticker  \n",
       "0  52112000   AMZN  \n",
       "1  55178000   AMZN  \n",
       "2  53390000   AMZN  "
      ]
     },
     "execution_count": 9,
     "metadata": {},
     "output_type": "execute_result"
    }
   ],
   "source": [
    "data[\"AMZN\"].reset_index(level=0)[0:3]"
   ]
  },
  {
   "cell_type": "markdown",
   "id": "485c95d8",
   "metadata": {},
   "source": [
    "##### Convert the dataframe to an array of dictionaries "
   ]
  },
  {
   "cell_type": "code",
   "execution_count": 10,
   "id": "84f2c9b0",
   "metadata": {},
   "outputs": [
    {
     "data": {
      "text/plain": [
       "[{'Date': Timestamp('2022-04-11 00:00:00'),\n",
       "  'Adj Close': 151.1219940185547,\n",
       "  'Close': 151.1219940185547,\n",
       "  'High': 154.13650512695312,\n",
       "  'Low': 150.5345001220703,\n",
       "  'Open': 152.71299743652344,\n",
       "  'Volume': 52112000,\n",
       "  'Ticker': 'AMZN'},\n",
       " {'Date': Timestamp('2022-04-12 00:00:00'),\n",
       "  'Adj Close': 150.78750610351562,\n",
       "  'Close': 150.78750610351562,\n",
       "  'High': 155.0989990234375,\n",
       "  'Low': 150.38299560546875,\n",
       "  'Open': 153.6925048828125,\n",
       "  'Volume': 55178000,\n",
       "  'Ticker': 'AMZN'}]"
      ]
     },
     "execution_count": 10,
     "metadata": {},
     "output_type": "execute_result"
    }
   ],
   "source": [
    "data[\"AMZN\"].reset_index(level=0).to_dict('records')[0:2]"
   ]
  },
  {
   "cell_type": "markdown",
   "id": "f7e37292",
   "metadata": {},
   "source": [
    "### Connect To MongoDB instance"
   ]
  },
  {
   "cell_type": "code",
   "execution_count": 11,
   "id": "7aaae524",
   "metadata": {},
   "outputs": [],
   "source": [
    "mongodb_uri = \"mongodb://localhost:27017/\"\n",
    "db_name = \"advanced_features\""
   ]
  },
  {
   "cell_type": "code",
   "execution_count": 12,
   "id": "cbb879e9",
   "metadata": {},
   "outputs": [],
   "source": [
    "client = MongoClient(mongodb_uri)\n",
    "db = client[db_name]"
   ]
  },
  {
   "cell_type": "markdown",
   "id": "42842740",
   "metadata": {},
   "source": [
    "### Creating  A Time-Series Collection\n",
    "\n",
    "You could also use the compass app or mongoshell"
   ]
  },
  {
   "cell_type": "code",
   "execution_count": 13,
   "id": "fae693ac",
   "metadata": {},
   "outputs": [
    {
     "data": {
      "text/plain": [
       "Collection(Database(MongoClient(host=['localhost:27017'], document_class=dict, tz_aware=False, connect=True), 'advanced_features'), 'historical_stock_data')"
      ]
     },
     "execution_count": 13,
     "metadata": {},
     "output_type": "execute_result"
    }
   ],
   "source": [
    "db.create_collection(\"historical_stock_data\", timeseries= {\n",
    "        \"timeField\": \"Date\",\n",
    "        \"metaField\": \"Ticker\",\n",
    "        \"granularity\": \"hours\"\n",
    "        }, expireAfterSeconds= 60 * 60 * 24 * 365 ### 1 year \n",
    ")"
   ]
  },
  {
   "cell_type": "markdown",
   "id": "a3b680b8",
   "metadata": {},
   "source": [
    "### Inserting The Time-Series Stock Data"
   ]
  },
  {
   "cell_type": "markdown",
   "id": "c422f747",
   "metadata": {},
   "source": [
    "##### Download the data"
   ]
  },
  {
   "cell_type": "code",
   "execution_count": 15,
   "id": "673293f6",
   "metadata": {},
   "outputs": [
    {
     "name": "stdout",
     "output_type": "stream",
     "text": [
      "[*********************100%***********************]  5 of 5 completed\n"
     ]
    }
   ],
   "source": [
    "tickers = [\"AMZN\", \"META\", \"GOOGL\", \"MSFT\", \"UDMY\"]\n",
    "data = yf.download(tickers=tickers, period=\"2y\", interval=\"1d\")"
   ]
  },
  {
   "cell_type": "markdown",
   "id": "f529e511",
   "metadata": {},
   "source": [
    "##### Process dataframe into list of dictionaries"
   ]
  },
  {
   "cell_type": "code",
   "execution_count": 16,
   "id": "44f0e47a",
   "metadata": {},
   "outputs": [],
   "source": [
    "stock_data_to_insert = []\n",
    "\n",
    "data.columns = data.columns.swaplevel(0,1)\n",
    "\n",
    "for ticker in tickers:\n",
    "    data.loc[: , (ticker, \"Ticker\")] = ticker\n",
    "    stock_data_to_insert.extend(data[ticker].reset_index(level=0).to_dict('records'))"
   ]
  },
  {
   "cell_type": "code",
   "execution_count": 17,
   "id": "0e7a2b4e",
   "metadata": {},
   "outputs": [
    {
     "data": {
      "text/plain": [
       "[{'Date': Timestamp('2021-04-12 00:00:00'),\n",
       "  'Adj Close': 168.96949768066406,\n",
       "  'Close': 168.96949768066406,\n",
       "  'High': 169.7519989013672,\n",
       "  'Low': 167.5574951171875,\n",
       "  'Open': 167.760498046875,\n",
       "  'Volume': 65636000,\n",
       "  'Ticker': 'AMZN'},\n",
       " {'Date': Timestamp('2021-04-13 00:00:00'),\n",
       "  'Adj Close': 170.0,\n",
       "  'Close': 170.0,\n",
       "  'High': 171.60000610351562,\n",
       "  'Low': 169.781494140625,\n",
       "  'Open': 170.04249572753906,\n",
       "  'Volume': 66316000,\n",
       "  'Ticker': 'AMZN'}]"
      ]
     },
     "execution_count": 17,
     "metadata": {},
     "output_type": "execute_result"
    }
   ],
   "source": [
    "stock_data_to_insert[0:2]"
   ]
  },
  {
   "cell_type": "markdown",
   "id": "89e28caa",
   "metadata": {},
   "source": [
    "##### Call insert_many() on time series collection"
   ]
  },
  {
   "cell_type": "code",
   "execution_count": 18,
   "id": "a1048c0f",
   "metadata": {},
   "outputs": [
    {
     "data": {
      "text/plain": [
       "<pymongo.results.InsertManyResult at 0x7f2024102740>"
      ]
     },
     "execution_count": 18,
     "metadata": {},
     "output_type": "execute_result"
    }
   ],
   "source": [
    "db.historical_stock_data.insert_many(stock_data_to_insert)"
   ]
  },
  {
   "cell_type": "markdown",
   "id": "7d93a907",
   "metadata": {},
   "source": [
    "### Retrieving Time-Series Data"
   ]
  },
  {
   "cell_type": "code",
   "execution_count": 19,
   "id": "d35804d5",
   "metadata": {},
   "outputs": [
    {
     "data": {
      "text/plain": [
       "datetime.datetime(2022, 10, 10, 18, 26, 1, 251966)"
      ]
     },
     "execution_count": 19,
     "metadata": {},
     "output_type": "execute_result"
    }
   ],
   "source": [
    "gt_date = datetime.now() - relativedelta(months=6)\n",
    "gt_date"
   ]
  },
  {
   "cell_type": "code",
   "execution_count": 20,
   "id": "82a48727",
   "metadata": {},
   "outputs": [
    {
     "name": "stdout",
     "output_type": "stream",
     "text": [
      "[{'Date': datetime.datetime(2022, 10, 11, 0, 0), 'Ticker': 'META', '_id': ObjectId('6434a916c3349a5edc62809a'), 'Low': 126.98999786376953, 'Open': 131.6199951171875, 'Volume': 38481400, 'Close': 128.5399932861328, 'Adj Close': 128.5399932861328, 'High': 132.66000366210938}, {'Date': datetime.datetime(2022, 10, 12, 0, 0), 'Ticker': 'META', '_id': ObjectId('6434a916c3349a5edc62809b'), 'Low': 126.25, 'Open': 128.32000732421875, 'Volume': 34605200, 'Close': 127.5, 'Adj Close': 127.5, 'High': 129.6699981689453}]\n"
     ]
    }
   ],
   "source": [
    "ts_cursor = db.historical_stock_data.find({\"Ticker\": \"META\", \"Date\": {\"$gte\": gt_date} })\n",
    "\n",
    "fb_price_data = []\n",
    "\n",
    "for entry in ts_cursor:\n",
    "    fb_price_data.append(entry)\n",
    "    \n",
    "print(fb_price_data[0:2])"
   ]
  },
  {
   "cell_type": "code",
   "execution_count": 21,
   "id": "21e7d133",
   "metadata": {},
   "outputs": [
    {
     "data": {
      "text/html": [
       "<div>\n",
       "<style scoped>\n",
       "    .dataframe tbody tr th:only-of-type {\n",
       "        vertical-align: middle;\n",
       "    }\n",
       "\n",
       "    .dataframe tbody tr th {\n",
       "        vertical-align: top;\n",
       "    }\n",
       "\n",
       "    .dataframe thead th {\n",
       "        text-align: right;\n",
       "    }\n",
       "</style>\n",
       "<table border=\"1\" class=\"dataframe\">\n",
       "  <thead>\n",
       "    <tr style=\"text-align: right;\">\n",
       "      <th></th>\n",
       "      <th>Ticker</th>\n",
       "      <th>Low</th>\n",
       "      <th>Open</th>\n",
       "      <th>Volume</th>\n",
       "      <th>Close</th>\n",
       "      <th>Adj Close</th>\n",
       "      <th>High</th>\n",
       "    </tr>\n",
       "    <tr>\n",
       "      <th>Date</th>\n",
       "      <th></th>\n",
       "      <th></th>\n",
       "      <th></th>\n",
       "      <th></th>\n",
       "      <th></th>\n",
       "      <th></th>\n",
       "      <th></th>\n",
       "    </tr>\n",
       "  </thead>\n",
       "  <tbody>\n",
       "    <tr>\n",
       "      <th>2022-10-11</th>\n",
       "      <td>META</td>\n",
       "      <td>126.989998</td>\n",
       "      <td>131.619995</td>\n",
       "      <td>38481400</td>\n",
       "      <td>128.539993</td>\n",
       "      <td>128.539993</td>\n",
       "      <td>132.660004</td>\n",
       "    </tr>\n",
       "    <tr>\n",
       "      <th>2022-10-12</th>\n",
       "      <td>META</td>\n",
       "      <td>126.250000</td>\n",
       "      <td>128.320007</td>\n",
       "      <td>34605200</td>\n",
       "      <td>127.500000</td>\n",
       "      <td>127.500000</td>\n",
       "      <td>129.669998</td>\n",
       "    </tr>\n",
       "    <tr>\n",
       "      <th>2022-10-13</th>\n",
       "      <td>META</td>\n",
       "      <td>122.529999</td>\n",
       "      <td>123.529999</td>\n",
       "      <td>34325700</td>\n",
       "      <td>130.289993</td>\n",
       "      <td>130.289993</td>\n",
       "      <td>131.139999</td>\n",
       "    </tr>\n",
       "    <tr>\n",
       "      <th>2022-10-14</th>\n",
       "      <td>META</td>\n",
       "      <td>126.519997</td>\n",
       "      <td>131.000000</td>\n",
       "      <td>23559400</td>\n",
       "      <td>126.760002</td>\n",
       "      <td>126.760002</td>\n",
       "      <td>131.789993</td>\n",
       "    </tr>\n",
       "    <tr>\n",
       "      <th>2022-10-17</th>\n",
       "      <td>META</td>\n",
       "      <td>130.179993</td>\n",
       "      <td>130.300003</td>\n",
       "      <td>29612200</td>\n",
       "      <td>134.039993</td>\n",
       "      <td>134.039993</td>\n",
       "      <td>134.789993</td>\n",
       "    </tr>\n",
       "    <tr>\n",
       "      <th>...</th>\n",
       "      <td>...</td>\n",
       "      <td>...</td>\n",
       "      <td>...</td>\n",
       "      <td>...</td>\n",
       "      <td>...</td>\n",
       "      <td>...</td>\n",
       "      <td>...</td>\n",
       "    </tr>\n",
       "    <tr>\n",
       "      <th>2023-04-03</th>\n",
       "      <td>META</td>\n",
       "      <td>208.199997</td>\n",
       "      <td>208.839996</td>\n",
       "      <td>17924600</td>\n",
       "      <td>213.070007</td>\n",
       "      <td>213.070007</td>\n",
       "      <td>213.490005</td>\n",
       "    </tr>\n",
       "    <tr>\n",
       "      <th>2023-04-04</th>\n",
       "      <td>META</td>\n",
       "      <td>212.539993</td>\n",
       "      <td>213.389999</td>\n",
       "      <td>21026400</td>\n",
       "      <td>214.720001</td>\n",
       "      <td>214.720001</td>\n",
       "      <td>216.240005</td>\n",
       "    </tr>\n",
       "    <tr>\n",
       "      <th>2023-04-05</th>\n",
       "      <td>META</td>\n",
       "      <td>209.940002</td>\n",
       "      <td>214.149994</td>\n",
       "      <td>19396600</td>\n",
       "      <td>211.479996</td>\n",
       "      <td>211.479996</td>\n",
       "      <td>215.190002</td>\n",
       "    </tr>\n",
       "    <tr>\n",
       "      <th>2023-04-06</th>\n",
       "      <td>META</td>\n",
       "      <td>208.649994</td>\n",
       "      <td>209.250000</td>\n",
       "      <td>26104400</td>\n",
       "      <td>216.100006</td>\n",
       "      <td>216.100006</td>\n",
       "      <td>216.940002</td>\n",
       "    </tr>\n",
       "    <tr>\n",
       "      <th>2023-04-10</th>\n",
       "      <td>META</td>\n",
       "      <td>210.660004</td>\n",
       "      <td>214.710007</td>\n",
       "      <td>16106074</td>\n",
       "      <td>214.750000</td>\n",
       "      <td>214.750000</td>\n",
       "      <td>215.660004</td>\n",
       "    </tr>\n",
       "  </tbody>\n",
       "</table>\n",
       "<p>124 rows × 7 columns</p>\n",
       "</div>"
      ],
      "text/plain": [
       "           Ticker         Low        Open    Volume       Close   Adj Close  \\\n",
       "Date                                                                          \n",
       "2022-10-11   META  126.989998  131.619995  38481400  128.539993  128.539993   \n",
       "2022-10-12   META  126.250000  128.320007  34605200  127.500000  127.500000   \n",
       "2022-10-13   META  122.529999  123.529999  34325700  130.289993  130.289993   \n",
       "2022-10-14   META  126.519997  131.000000  23559400  126.760002  126.760002   \n",
       "2022-10-17   META  130.179993  130.300003  29612200  134.039993  134.039993   \n",
       "...           ...         ...         ...       ...         ...         ...   \n",
       "2023-04-03   META  208.199997  208.839996  17924600  213.070007  213.070007   \n",
       "2023-04-04   META  212.539993  213.389999  21026400  214.720001  214.720001   \n",
       "2023-04-05   META  209.940002  214.149994  19396600  211.479996  211.479996   \n",
       "2023-04-06   META  208.649994  209.250000  26104400  216.100006  216.100006   \n",
       "2023-04-10   META  210.660004  214.710007  16106074  214.750000  214.750000   \n",
       "\n",
       "                  High  \n",
       "Date                    \n",
       "2022-10-11  132.660004  \n",
       "2022-10-12  129.669998  \n",
       "2022-10-13  131.139999  \n",
       "2022-10-14  131.789993  \n",
       "2022-10-17  134.789993  \n",
       "...                ...  \n",
       "2023-04-03  213.490005  \n",
       "2023-04-04  216.240005  \n",
       "2023-04-05  215.190002  \n",
       "2023-04-06  216.940002  \n",
       "2023-04-10  215.660004  \n",
       "\n",
       "[124 rows x 7 columns]"
      ]
     },
     "execution_count": 21,
     "metadata": {},
     "output_type": "execute_result"
    }
   ],
   "source": [
    "read_in_data = pandas.DataFrame(fb_price_data)\n",
    "read_in_data = read_in_data.set_index(\"Date\")\n",
    "read_in_data = read_in_data.drop(\"_id\", axis=1)\n",
    "\n",
    "read_in_data"
   ]
  },
  {
   "cell_type": "code",
   "execution_count": null,
   "id": "fd92ec33",
   "metadata": {},
   "outputs": [],
   "source": []
  }
 ],
 "metadata": {
  "kernelspec": {
   "display_name": "Python 3 (ipykernel)",
   "language": "python",
   "name": "python3"
  },
  "language_info": {
   "codemirror_mode": {
    "name": "ipython",
    "version": 3
   },
   "file_extension": ".py",
   "mimetype": "text/x-python",
   "name": "python",
   "nbconvert_exporter": "python",
   "pygments_lexer": "ipython3",
   "version": "3.8.16"
  }
 },
 "nbformat": 4,
 "nbformat_minor": 5
}

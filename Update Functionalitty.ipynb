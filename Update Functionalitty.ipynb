{
 "cells": [
  {
   "cell_type": "code",
   "execution_count": 1,
   "id": "c9504928",
   "metadata": {},
   "outputs": [],
   "source": [
    "import pymongo"
   ]
  },
  {
   "cell_type": "code",
   "execution_count": 2,
   "id": "1a58febb",
   "metadata": {},
   "outputs": [],
   "source": [
    "client = pymongo.MongoClient(\"localhost\", 27017)\n",
    "db = client[\"my_store\"]\n",
    "products_col = db[\"products\"]"
   ]
  },
  {
   "cell_type": "markdown",
   "id": "540a33a6",
   "metadata": {},
   "source": [
    "## update_one()"
   ]
  },
  {
   "cell_type": "code",
   "execution_count": 8,
   "id": "6b0f03c0",
   "metadata": {},
   "outputs": [],
   "source": [
    "update_one_res = products_col.update_one({\"name\": \"Bag\"}, {\"$set\": {\"price\": 21.38}})"
   ]
  },
  {
   "cell_type": "code",
   "execution_count": 9,
   "id": "4bc52846",
   "metadata": {},
   "outputs": [
    {
     "name": "stdout",
     "output_type": "stream",
     "text": [
      "True\n",
      "1\n",
      "1\n",
      "{'n': 1, 'nModified': 1, 'ok': 1.0, 'updatedExisting': True}\n",
      "None\n"
     ]
    }
   ],
   "source": [
    "print(update_one_res.acknowledged)\n",
    "print(update_one_res.matched_count)\n",
    "print(update_one_res.modified_count)\n",
    "print(update_one_res.raw_result)\n",
    "print(update_one_res.upserted_id)"
   ]
  },
  {
   "cell_type": "markdown",
   "id": "5d6d0021",
   "metadata": {},
   "source": [
    "## replace_one()"
   ]
  },
  {
   "cell_type": "code",
   "execution_count": 19,
   "id": "0da84cbd",
   "metadata": {},
   "outputs": [
    {
     "data": {
      "text/plain": [
       "<pymongo.results.UpdateResult at 0x7f7676dbd180>"
      ]
     },
     "execution_count": 19,
     "metadata": {},
     "output_type": "execute_result"
    }
   ],
   "source": [
    "replace_one_res = products_col.replace_one({\"name\": \"Mug\"}, {\"product_name\": \"Mug\", \"price\": 12.98, \"seller\": \"Raymond\"})\n",
    "replace_one_res"
   ]
  },
  {
   "cell_type": "code",
   "execution_count": 20,
   "id": "0b38adf5",
   "metadata": {},
   "outputs": [
    {
     "name": "stdout",
     "output_type": "stream",
     "text": [
      "True\n",
      "0\n",
      "0\n",
      "{'n': 0, 'nModified': 0, 'ok': 1.0, 'updatedExisting': False}\n",
      "None\n"
     ]
    }
   ],
   "source": [
    "print(replace_one_res.acknowledged)\n",
    "print(replace_one_res.matched_count)\n",
    "print(replace_one_res.modified_count)\n",
    "print(replace_one_res.raw_result)\n",
    "print(replace_one_res.upserted_id)"
   ]
  },
  {
   "cell_type": "markdown",
   "id": "371ea30c",
   "metadata": {},
   "source": [
    "## update_many()"
   ]
  },
  {
   "cell_type": "code",
   "execution_count": 21,
   "id": "4925d3d7",
   "metadata": {},
   "outputs": [
    {
     "data": {
      "text/plain": [
       "<pymongo.results.UpdateResult at 0x7f766345ec80>"
      ]
     },
     "execution_count": 21,
     "metadata": {},
     "output_type": "execute_result"
    }
   ],
   "source": [
    "update_many_res = products_col.update_many({\"name\": \"Bag\"}, {\"$set\": {\"price\": 12.45}})\n",
    "update_many_res"
   ]
  },
  {
   "cell_type": "code",
   "execution_count": 22,
   "id": "a5397c5d",
   "metadata": {},
   "outputs": [
    {
     "name": "stdout",
     "output_type": "stream",
     "text": [
      "True\n",
      "2\n",
      "1\n",
      "{'n': 2, 'nModified': 1, 'ok': 1.0, 'updatedExisting': True}\n",
      "None\n"
     ]
    }
   ],
   "source": [
    "print(update_many_res.acknowledged)\n",
    "print(update_many_res.matched_count)\n",
    "print(update_many_res.modified_count)\n",
    "print(update_many_res.raw_result)\n",
    "print(update_many_res.upserted_id)"
   ]
  },
  {
   "cell_type": "markdown",
   "id": "95036b5b",
   "metadata": {},
   "source": [
    "## upserting"
   ]
  },
  {
   "cell_type": "code",
   "execution_count": 23,
   "id": "2bbb398b",
   "metadata": {},
   "outputs": [
    {
     "data": {
      "text/plain": [
       "<pymongo.results.UpdateResult at 0x7f7663433400>"
      ]
     },
     "execution_count": 23,
     "metadata": {},
     "output_type": "execute_result"
    }
   ],
   "source": [
    "update_upsert_res = products_col.update_many({\"name\": \"Hat\"}, {\"$set\": {\"name\": \"Hat\", \"price\": 12.45}}, upsert=True)\n",
    "update_upsert_res"
   ]
  },
  {
   "cell_type": "code",
   "execution_count": 24,
   "id": "861bfb16",
   "metadata": {},
   "outputs": [
    {
     "name": "stdout",
     "output_type": "stream",
     "text": [
      "True\n",
      "0\n",
      "0\n",
      "{'n': 1, 'upserted': ObjectId('642bc72b93f6cd6a15f3b7e5'), 'nModified': 0, 'ok': 1.0, 'updatedExisting': False}\n",
      "642bc72b93f6cd6a15f3b7e5\n"
     ]
    }
   ],
   "source": [
    "print(update_upsert_res.acknowledged)\n",
    "print(update_upsert_res.matched_count)\n",
    "print(update_upsert_res.modified_count)\n",
    "print(update_upsert_res.raw_result)\n",
    "print(update_upsert_res.upserted_id)"
   ]
  },
  {
   "cell_type": "markdown",
   "id": "dacc3820",
   "metadata": {},
   "source": [
    "## Update Operators"
   ]
  },
  {
   "cell_type": "code",
   "execution_count": 25,
   "id": "3a087018",
   "metadata": {},
   "outputs": [
    {
     "data": {
      "text/plain": [
       "<pymongo.results.UpdateResult at 0x7f7676cbe2c0>"
      ]
     },
     "execution_count": 25,
     "metadata": {},
     "output_type": "execute_result"
    }
   ],
   "source": [
    "products_col.update_many({}, {\"$currentDate\": {\"date\": True}})"
   ]
  },
  {
   "cell_type": "code",
   "execution_count": 26,
   "id": "08b50f9b",
   "metadata": {},
   "outputs": [
    {
     "data": {
      "text/plain": [
       "<pymongo.results.UpdateResult at 0x7f7676e42cc0>"
      ]
     },
     "execution_count": 26,
     "metadata": {},
     "output_type": "execute_result"
    }
   ],
   "source": [
    "products_col.update_many({}, {\"$rename\": {\"date\": \"date_added\"}})"
   ]
  },
  {
   "cell_type": "code",
   "execution_count": 27,
   "id": "d4eb9e55",
   "metadata": {},
   "outputs": [
    {
     "data": {
      "text/plain": [
       "<pymongo.results.UpdateResult at 0x7f7676dc8240>"
      ]
     },
     "execution_count": 27,
     "metadata": {},
     "output_type": "execute_result"
    }
   ],
   "source": [
    "products_col.update_many({}, {\"$mul\": {\"price\": 1.04}})"
   ]
  },
  {
   "cell_type": "code",
   "execution_count": 28,
   "id": "d1433665",
   "metadata": {},
   "outputs": [
    {
     "data": {
      "text/plain": [
       "<pymongo.results.UpdateResult at 0x7f7676e9a580>"
      ]
     },
     "execution_count": 28,
     "metadata": {},
     "output_type": "execute_result"
    }
   ],
   "source": [
    "products_col.update_many({}, {\"$unset\": {\"date_added\": True}})"
   ]
  },
  {
   "cell_type": "code",
   "execution_count": null,
   "id": "cf8646ee",
   "metadata": {},
   "outputs": [],
   "source": []
  }
 ],
 "metadata": {
  "kernelspec": {
   "display_name": "Python 3 (ipykernel)",
   "language": "python",
   "name": "python3"
  },
  "language_info": {
   "codemirror_mode": {
    "name": "ipython",
    "version": 3
   },
   "file_extension": ".py",
   "mimetype": "text/x-python",
   "name": "python",
   "nbconvert_exporter": "python",
   "pygments_lexer": "ipython3",
   "version": "3.8.16"
  }
 },
 "nbformat": 4,
 "nbformat_minor": 5
}

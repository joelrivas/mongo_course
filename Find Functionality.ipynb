{
 "cells": [
  {
   "cell_type": "code",
   "execution_count": 1,
   "id": "64b35f4a",
   "metadata": {},
   "outputs": [],
   "source": [
    "import pymongo\n",
    "from pymongo import MongoClient"
   ]
  },
  {
   "cell_type": "code",
   "execution_count": 2,
   "id": "98ffaa76",
   "metadata": {},
   "outputs": [],
   "source": [
    "client = MongoClient(\"mongodb://127.0.0.1:27017/\")\n",
    "db = client[\"my_store\"]\n",
    "products_col = db[\"products\"]"
   ]
  },
  {
   "cell_type": "markdown",
   "id": "77fb618b",
   "metadata": {},
   "source": [
    "## find_one()"
   ]
  },
  {
   "cell_type": "code",
   "execution_count": 3,
   "id": "830c1d99",
   "metadata": {},
   "outputs": [
    {
     "data": {
      "text/plain": [
       "{'_id': ObjectId('642b27d70472f69696366c2f'), 'name': 'Bag', 'price': 23.78}"
      ]
     },
     "execution_count": 3,
     "metadata": {},
     "output_type": "execute_result"
    }
   ],
   "source": [
    "products_col.find_one({\"name\": \"Bag\"})"
   ]
  },
  {
   "cell_type": "code",
   "execution_count": 4,
   "id": "e16b2b49",
   "metadata": {},
   "outputs": [],
   "source": [
    "find_one_res = products_col.find_one({\"name\": \"Bag\"})"
   ]
  },
  {
   "cell_type": "code",
   "execution_count": 5,
   "id": "d0f27482",
   "metadata": {},
   "outputs": [
    {
     "data": {
      "text/plain": [
       "ObjectId('642b27d70472f69696366c2f')"
      ]
     },
     "execution_count": 5,
     "metadata": {},
     "output_type": "execute_result"
    }
   ],
   "source": [
    "find_one_res[\"_id\"]"
   ]
  },
  {
   "cell_type": "code",
   "execution_count": 6,
   "id": "d9d0b67c",
   "metadata": {},
   "outputs": [
    {
     "data": {
      "text/plain": [
       "'Bag'"
      ]
     },
     "execution_count": 6,
     "metadata": {},
     "output_type": "execute_result"
    }
   ],
   "source": [
    "find_one_res[\"name\"]"
   ]
  },
  {
   "cell_type": "markdown",
   "id": "b278d8ce",
   "metadata": {},
   "source": [
    "## find() and Cursors"
   ]
  },
  {
   "cell_type": "code",
   "execution_count": 7,
   "id": "0dbbb13f",
   "metadata": {},
   "outputs": [
    {
     "data": {
      "text/plain": [
       "<pymongo.cursor.Cursor at 0x7f93a3ab57c0>"
      ]
     },
     "execution_count": 7,
     "metadata": {},
     "output_type": "execute_result"
    }
   ],
   "source": [
    "products_col.find({\"name\": \"Bag\"})"
   ]
  },
  {
   "cell_type": "code",
   "execution_count": 10,
   "id": "1e7337b7",
   "metadata": {},
   "outputs": [],
   "source": [
    "bag_cursor = products_col.find({\"name\": \"Bag\"})"
   ]
  },
  {
   "cell_type": "code",
   "execution_count": 11,
   "id": "7b30fe7a",
   "metadata": {},
   "outputs": [
    {
     "name": "stdout",
     "output_type": "stream",
     "text": [
      "{'_id': ObjectId('642b27d70472f69696366c2f'), 'name': 'Bag', 'price': 23.78}\n",
      "{'_id': ObjectId('642b29ca0472f69696366c32'), 'name': 'Bag', 'price': 23.78}\n"
     ]
    }
   ],
   "source": [
    "for document in bag_cursor:\n",
    "    print(document)"
   ]
  },
  {
   "cell_type": "code",
   "execution_count": 12,
   "id": "a406ad94",
   "metadata": {},
   "outputs": [
    {
     "data": {
      "text/plain": [
       "False"
      ]
     },
     "execution_count": 12,
     "metadata": {},
     "output_type": "execute_result"
    }
   ],
   "source": [
    "bag_cursor.alive"
   ]
  },
  {
   "cell_type": "code",
   "execution_count": 13,
   "id": "d488631a",
   "metadata": {},
   "outputs": [],
   "source": [
    "bag_cursor = products_col.find({\"name\": \"Bag\"})"
   ]
  },
  {
   "cell_type": "code",
   "execution_count": 14,
   "id": "451292cc",
   "metadata": {},
   "outputs": [
    {
     "data": {
      "text/plain": [
       "True"
      ]
     },
     "execution_count": 14,
     "metadata": {},
     "output_type": "execute_result"
    }
   ],
   "source": [
    "bag_cursor.alive"
   ]
  },
  {
   "cell_type": "code",
   "execution_count": 15,
   "id": "d9e29318",
   "metadata": {},
   "outputs": [
    {
     "data": {
      "text/plain": [
       "{'_id': ObjectId('642b27d70472f69696366c2f'), 'name': 'Bag', 'price': 23.78}"
      ]
     },
     "execution_count": 15,
     "metadata": {},
     "output_type": "execute_result"
    }
   ],
   "source": [
    "bag_cursor.next()"
   ]
  },
  {
   "cell_type": "markdown",
   "id": "291b9e1e",
   "metadata": {},
   "source": [
    "## sort()"
   ]
  },
  {
   "cell_type": "code",
   "execution_count": 16,
   "id": "08a7cce7",
   "metadata": {},
   "outputs": [
    {
     "name": "stdout",
     "output_type": "stream",
     "text": [
      "{'_id': ObjectId('642b28ab0472f69696366c30'), 'name': 'watter bottle', 'price': 1.59}\n",
      "{'_id': ObjectId('642b2c260472f69696366c33'), 'name': 'Mug', 'price': 12.99}\n",
      "{'_id': ObjectId('642b28ab0472f69696366c31'), 'name': 'jar', 'price': 23.44}\n",
      "{'_id': ObjectId('642b27d70472f69696366c2f'), 'name': 'Bag', 'price': 23.78}\n",
      "{'_id': ObjectId('642b29ca0472f69696366c32'), 'name': 'Bag', 'price': 23.78}\n"
     ]
    }
   ],
   "source": [
    "for document in products_col.find({}).sort(\"price\", pymongo.ASCENDING):\n",
    "    print(document)"
   ]
  },
  {
   "cell_type": "code",
   "execution_count": 17,
   "id": "35f2d1e6",
   "metadata": {},
   "outputs": [
    {
     "name": "stdout",
     "output_type": "stream",
     "text": [
      "{'_id': ObjectId('642b27d70472f69696366c2f'), 'name': 'Bag', 'price': 23.78}\n",
      "{'_id': ObjectId('642b29ca0472f69696366c32'), 'name': 'Bag', 'price': 23.78}\n",
      "{'_id': ObjectId('642b28ab0472f69696366c31'), 'name': 'jar', 'price': 23.44}\n",
      "{'_id': ObjectId('642b2c260472f69696366c33'), 'name': 'Mug', 'price': 12.99}\n",
      "{'_id': ObjectId('642b28ab0472f69696366c30'), 'name': 'watter bottle', 'price': 1.59}\n"
     ]
    }
   ],
   "source": [
    "for document in products_col.find({}).sort(\"price\", pymongo.DESCENDING):\n",
    "    print(document)"
   ]
  },
  {
   "cell_type": "code",
   "execution_count": 18,
   "id": "81ee7692",
   "metadata": {},
   "outputs": [
    {
     "data": {
      "text/plain": [
       "1"
      ]
     },
     "execution_count": 18,
     "metadata": {},
     "output_type": "execute_result"
    }
   ],
   "source": [
    "pymongo.ASCENDING"
   ]
  },
  {
   "cell_type": "code",
   "execution_count": 19,
   "id": "fccf0605",
   "metadata": {},
   "outputs": [
    {
     "data": {
      "text/plain": [
       "-1"
      ]
     },
     "execution_count": 19,
     "metadata": {},
     "output_type": "execute_result"
    }
   ],
   "source": [
    "pymongo.DESCENDING"
   ]
  },
  {
   "cell_type": "code",
   "execution_count": 22,
   "id": "8c857bbb",
   "metadata": {},
   "outputs": [
    {
     "name": "stdout",
     "output_type": "stream",
     "text": [
      "{'_id': ObjectId('642b27d70472f69696366c2f'), 'name': 'Bag', 'price': 23.78}\n",
      "{'_id': ObjectId('642b29ca0472f69696366c32'), 'name': 'Bag', 'price': 23.78}\n",
      "{'_id': ObjectId('642b28ab0472f69696366c31'), 'name': 'jar', 'price': 23.44}\n",
      "{'_id': ObjectId('642b2c260472f69696366c33'), 'name': 'Mug', 'price': 12.99}\n",
      "{'_id': ObjectId('642b28ab0472f69696366c30'), 'name': 'watter bottle', 'price': 1.59}\n"
     ]
    }
   ],
   "source": [
    "for document in products_col.find({}).sort(\"price\", -1):\n",
    "    print(document)"
   ]
  },
  {
   "cell_type": "code",
   "execution_count": 21,
   "id": "e2334e2b",
   "metadata": {},
   "outputs": [
    {
     "name": "stdout",
     "output_type": "stream",
     "text": [
      "{'_id': ObjectId('642b27d70472f69696366c2f'), 'name': 'Bag', 'price': 23.78}\n",
      "{'_id': ObjectId('642b29ca0472f69696366c32'), 'name': 'Bag', 'price': 23.78}\n",
      "{'_id': ObjectId('642b28ab0472f69696366c31'), 'name': 'jar', 'price': 23.44}\n",
      "{'_id': ObjectId('642b2c260472f69696366c33'), 'name': 'Mug', 'price': 12.99}\n",
      "{'_id': ObjectId('642b28ab0472f69696366c30'), 'name': 'watter bottle', 'price': 1.59}\n"
     ]
    }
   ],
   "source": [
    "for document in products_col.find({}).sort(\n",
    "    [(\"price\", -1),\n",
    "     (\"name\", 1)]):\n",
    "    print(document)"
   ]
  },
  {
   "cell_type": "markdown",
   "id": "f2e24c58",
   "metadata": {},
   "source": [
    "## skip() and limit()"
   ]
  },
  {
   "cell_type": "code",
   "execution_count": 23,
   "id": "3906022f",
   "metadata": {},
   "outputs": [
    {
     "name": "stdout",
     "output_type": "stream",
     "text": [
      "{'_id': ObjectId('642b27d70472f69696366c2f'), 'name': 'Bag', 'price': 23.78}\n",
      "{'_id': ObjectId('642b28ab0472f69696366c30'), 'name': 'watter bottle', 'price': 1.59}\n",
      "{'_id': ObjectId('642b28ab0472f69696366c31'), 'name': 'jar', 'price': 23.44}\n"
     ]
    }
   ],
   "source": [
    "for doc in products_col.find({}).limit(3):\n",
    "    print(doc)"
   ]
  },
  {
   "cell_type": "code",
   "execution_count": 24,
   "id": "551feee8",
   "metadata": {},
   "outputs": [
    {
     "name": "stdout",
     "output_type": "stream",
     "text": [
      "{'_id': ObjectId('642b28ab0472f69696366c31'), 'name': 'jar', 'price': 23.44}\n",
      "{'_id': ObjectId('642b29ca0472f69696366c32'), 'name': 'Bag', 'price': 23.78}\n",
      "{'_id': ObjectId('642b2c260472f69696366c33'), 'name': 'Mug', 'price': 12.99}\n"
     ]
    }
   ],
   "source": [
    "for doc in products_col.find({}).skip(2):\n",
    "    print(doc)"
   ]
  },
  {
   "cell_type": "code",
   "execution_count": 25,
   "id": "2dd90e9e",
   "metadata": {},
   "outputs": [
    {
     "name": "stdout",
     "output_type": "stream",
     "text": [
      "\n",
      "-- Page 1 --\n",
      "{'_id': ObjectId('642b27d70472f69696366c2f'), 'name': 'Bag', 'price': 23.78}\n",
      "{'_id': ObjectId('642b28ab0472f69696366c30'), 'name': 'watter bottle', 'price': 1.59}\n",
      "{'_id': ObjectId('642b28ab0472f69696366c31'), 'name': 'jar', 'price': 23.44}\n",
      "{'_id': ObjectId('642b29ca0472f69696366c32'), 'name': 'Bag', 'price': 23.78}\n",
      "{'_id': ObjectId('642b2c260472f69696366c33'), 'name': 'Mug', 'price': 12.99}\n",
      "\n",
      "-- Page 2 --\n"
     ]
    }
   ],
   "source": [
    "page_item_limit = 5\n",
    "\n",
    "for page_num in [1, 2]:\n",
    "    print(\"\\n-- Page {} --\".format(page_num))\n",
    "    for doc in products_col.find({}).skip((page_num-1)*page_item_limit).limit(page_item_limit):\n",
    "        print(doc)"
   ]
  },
  {
   "cell_type": "markdown",
   "id": "fe5ac929",
   "metadata": {},
   "source": [
    "## cursor.count() vs collection.count_documents()"
   ]
  },
  {
   "cell_type": "code",
   "execution_count": 26,
   "id": "c59b3678",
   "metadata": {},
   "outputs": [],
   "source": [
    "find_query_filter = {\"name\": \"Bag\"}\n",
    "find_cursor = products_col.find(find_query_filter)"
   ]
  },
  {
   "cell_type": "code",
   "execution_count": 27,
   "id": "d11fcd13",
   "metadata": {},
   "outputs": [
    {
     "name": "stderr",
     "output_type": "stream",
     "text": [
      "/tmp/ipykernel_13032/2083242281.py:1: DeprecationWarning: count is deprecated. Use Collection.count_documents instead.\n",
      "  find_cursor.count()\n"
     ]
    },
    {
     "data": {
      "text/plain": [
       "2"
      ]
     },
     "execution_count": 27,
     "metadata": {},
     "output_type": "execute_result"
    }
   ],
   "source": [
    "find_cursor.count()"
   ]
  },
  {
   "cell_type": "code",
   "execution_count": 28,
   "id": "f59793bb",
   "metadata": {},
   "outputs": [
    {
     "data": {
      "text/plain": [
       "2"
      ]
     },
     "execution_count": 28,
     "metadata": {},
     "output_type": "execute_result"
    }
   ],
   "source": [
    "products_col.count_documents(find_query_filter)"
   ]
  },
  {
   "cell_type": "code",
   "execution_count": 29,
   "id": "78b56bd4",
   "metadata": {},
   "outputs": [],
   "source": [
    "find_cursor_skip = products_col.find(find_query_filter).skip(1)"
   ]
  },
  {
   "cell_type": "code",
   "execution_count": 30,
   "id": "4a68129f",
   "metadata": {},
   "outputs": [
    {
     "name": "stderr",
     "output_type": "stream",
     "text": [
      "/tmp/ipykernel_13032/2720047810.py:1: DeprecationWarning: count is deprecated. Use Collection.count_documents instead.\n",
      "  find_cursor_skip.count()\n"
     ]
    },
    {
     "data": {
      "text/plain": [
       "2"
      ]
     },
     "execution_count": 30,
     "metadata": {},
     "output_type": "execute_result"
    }
   ],
   "source": [
    "find_cursor_skip.count()"
   ]
  },
  {
   "cell_type": "code",
   "execution_count": 31,
   "id": "4482545a",
   "metadata": {},
   "outputs": [
    {
     "name": "stderr",
     "output_type": "stream",
     "text": [
      "/tmp/ipykernel_13032/629907177.py:1: DeprecationWarning: count is deprecated. Use Collection.count_documents instead.\n",
      "  find_cursor_skip.count(with_limit_and_skip=True)\n"
     ]
    },
    {
     "data": {
      "text/plain": [
       "1"
      ]
     },
     "execution_count": 31,
     "metadata": {},
     "output_type": "execute_result"
    }
   ],
   "source": [
    "find_cursor_skip.count(with_limit_and_skip=True)"
   ]
  },
  {
   "cell_type": "markdown",
   "id": "be7e58c4",
   "metadata": {},
   "source": [
    "## distinct()"
   ]
  },
  {
   "cell_type": "code",
   "execution_count": 32,
   "id": "84158bc6",
   "metadata": {},
   "outputs": [],
   "source": [
    "products_cursor = products_col.find({})"
   ]
  },
  {
   "cell_type": "code",
   "execution_count": 33,
   "id": "2725f135",
   "metadata": {},
   "outputs": [
    {
     "data": {
      "text/plain": [
       "['Bag', 'Mug', 'jar', 'watter bottle']"
      ]
     },
     "execution_count": 33,
     "metadata": {},
     "output_type": "execute_result"
    }
   ],
   "source": [
    "products_cursor.distinct(\"name\")"
   ]
  },
  {
   "cell_type": "code",
   "execution_count": 34,
   "id": "0b28423f",
   "metadata": {},
   "outputs": [
    {
     "name": "stdout",
     "output_type": "stream",
     "text": [
      "4 unique products names found vs 5 total entries\n"
     ]
    }
   ],
   "source": [
    "distinct_count = len(products_cursor.distinct(\"name\"))\n",
    "all_count = products_col.count_documents({})\n",
    "\n",
    "print(\"{} unique products names found vs {} total entries\".format(distinct_count, all_count))"
   ]
  },
  {
   "cell_type": "markdown",
   "id": "385b4d32",
   "metadata": {},
   "source": [
    "## Using projection"
   ]
  },
  {
   "cell_type": "code",
   "execution_count": 35,
   "id": "f9310687",
   "metadata": {},
   "outputs": [],
   "source": [
    "# Add 0 to _id to remove from the results, Add 1 to add just that one.\n",
    "find_projection_cursor = products_col.find({\"name\": \"Bag\"}, {\"_id\": 0, \"price\": 1})"
   ]
  },
  {
   "cell_type": "code",
   "execution_count": 36,
   "id": "68f3f4de",
   "metadata": {},
   "outputs": [
    {
     "name": "stdout",
     "output_type": "stream",
     "text": [
      "{'price': 23.78}\n",
      "{'price': 23.78}\n"
     ]
    }
   ],
   "source": [
    "for doc in find_projection_cursor:\n",
    "    print(doc)"
   ]
  },
  {
   "cell_type": "code",
   "execution_count": 37,
   "id": "ccaac1e9",
   "metadata": {},
   "outputs": [
    {
     "data": {
      "text/plain": [
       "{'name': 'Bag'}"
      ]
     },
     "execution_count": 37,
     "metadata": {},
     "output_type": "execute_result"
    }
   ],
   "source": [
    "products_col.find_one({\"name\": \"Bag\"}, {\"_id\": 0, \"name\": 1})"
   ]
  },
  {
   "cell_type": "code",
   "execution_count": null,
   "id": "b2ecdeeb",
   "metadata": {},
   "outputs": [],
   "source": []
  }
 ],
 "metadata": {
  "kernelspec": {
   "display_name": "Python 3 (ipykernel)",
   "language": "python",
   "name": "python3"
  },
  "language_info": {
   "codemirror_mode": {
    "name": "ipython",
    "version": 3
   },
   "file_extension": ".py",
   "mimetype": "text/x-python",
   "name": "python",
   "nbconvert_exporter": "python",
   "pygments_lexer": "ipython3",
   "version": "3.8.16"
  }
 },
 "nbformat": 4,
 "nbformat_minor": 5
}

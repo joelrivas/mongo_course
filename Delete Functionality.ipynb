{
 "cells": [
  {
   "cell_type": "code",
   "execution_count": 1,
   "id": "95456a98",
   "metadata": {},
   "outputs": [],
   "source": [
    "import pymongo"
   ]
  },
  {
   "cell_type": "code",
   "execution_count": 2,
   "id": "8c7be3cb",
   "metadata": {},
   "outputs": [],
   "source": [
    "client = pymongo.MongoClient(\"localhost\", 27017)\n",
    "db = client[\"my_store\"]\n",
    "users_col = db[\"users\"]"
   ]
  },
  {
   "cell_type": "markdown",
   "id": "3b5f8246",
   "metadata": {},
   "source": [
    "## delete_one()"
   ]
  },
  {
   "cell_type": "code",
   "execution_count": 3,
   "id": "580e74b1",
   "metadata": {},
   "outputs": [
    {
     "data": {
      "text/plain": [
       "<pymongo.results.DeleteResult at 0x7fab4f8052c0>"
      ]
     },
     "execution_count": 3,
     "metadata": {},
     "output_type": "execute_result"
    }
   ],
   "source": [
    "delete_one_res = users_col.delete_one({\"name\": \"Steve\"})\n",
    "delete_one_res"
   ]
  },
  {
   "cell_type": "code",
   "execution_count": 4,
   "id": "6bc56cca",
   "metadata": {},
   "outputs": [
    {
     "name": "stdout",
     "output_type": "stream",
     "text": [
      "True\n",
      "1\n",
      "{'n': 1, 'ok': 1.0}\n"
     ]
    }
   ],
   "source": [
    "print(delete_one_res.acknowledged)\n",
    "print(delete_one_res.deleted_count)\n",
    "print(delete_one_res.raw_result)"
   ]
  },
  {
   "cell_type": "markdown",
   "id": "2afb244b",
   "metadata": {},
   "source": [
    "## delete_many()"
   ]
  },
  {
   "cell_type": "code",
   "execution_count": 5,
   "id": "0b52b1e2",
   "metadata": {},
   "outputs": [
    {
     "data": {
      "text/plain": [
       "<pymongo.results.DeleteResult at 0x7fab4f832440>"
      ]
     },
     "execution_count": 5,
     "metadata": {},
     "output_type": "execute_result"
    }
   ],
   "source": [
    "delete_many_res = users_col.delete_many({\"name\": \"Steve\"})\n",
    "delete_many_res"
   ]
  },
  {
   "cell_type": "code",
   "execution_count": 6,
   "id": "5fd937f6",
   "metadata": {},
   "outputs": [
    {
     "name": "stdout",
     "output_type": "stream",
     "text": [
      "True\n",
      "2\n",
      "{'n': 2, 'ok': 1.0}\n"
     ]
    }
   ],
   "source": [
    "print(delete_many_res.acknowledged)\n",
    "print(delete_many_res.deleted_count)\n",
    "print(delete_many_res.raw_result)"
   ]
  },
  {
   "cell_type": "code",
   "execution_count": 7,
   "id": "6ba8e3a8",
   "metadata": {},
   "outputs": [
    {
     "data": {
      "text/plain": [
       "<pymongo.results.DeleteResult at 0x7fab4f8e4400>"
      ]
     },
     "execution_count": 7,
     "metadata": {},
     "output_type": "execute_result"
    }
   ],
   "source": [
    "# deletes all\n",
    "\n",
    "delete_many_res = users_col.delete_many({})\n",
    "delete_many_res"
   ]
  },
  {
   "cell_type": "code",
   "execution_count": 8,
   "id": "871e9d86",
   "metadata": {},
   "outputs": [
    {
     "name": "stdout",
     "output_type": "stream",
     "text": [
      "True\n",
      "2\n",
      "{'n': 2, 'ok': 1.0}\n"
     ]
    }
   ],
   "source": [
    "print(delete_many_res.acknowledged)\n",
    "print(delete_many_res.deleted_count)\n",
    "print(delete_many_res.raw_result)"
   ]
  },
  {
   "cell_type": "code",
   "execution_count": null,
   "id": "19fc610d",
   "metadata": {},
   "outputs": [],
   "source": []
  }
 ],
 "metadata": {
  "kernelspec": {
   "display_name": "Python 3 (ipykernel)",
   "language": "python",
   "name": "python3"
  },
  "language_info": {
   "codemirror_mode": {
    "name": "ipython",
    "version": 3
   },
   "file_extension": ".py",
   "mimetype": "text/x-python",
   "name": "python",
   "nbconvert_exporter": "python",
   "pygments_lexer": "ipython3",
   "version": "3.8.16"
  }
 },
 "nbformat": 4,
 "nbformat_minor": 5
}

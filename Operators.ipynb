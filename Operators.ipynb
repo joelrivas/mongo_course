{
 "cells": [
  {
   "cell_type": "code",
   "execution_count": 1,
   "id": "f802262c",
   "metadata": {},
   "outputs": [],
   "source": [
    "import pymongo\n",
    "from pymongo import MongoClient"
   ]
  },
  {
   "cell_type": "code",
   "execution_count": 2,
   "id": "38efbacb",
   "metadata": {},
   "outputs": [],
   "source": [
    "client = MongoClient(\"mongodb://localhost:27017/\")\n",
    "db = client[\"my_store\"]\n",
    "products_col = db[\"products\"]"
   ]
  },
  {
   "cell_type": "markdown",
   "id": "5b7626de",
   "metadata": {},
   "source": [
    "## Helper Function to print all entries in a cursor"
   ]
  },
  {
   "cell_type": "code",
   "execution_count": 3,
   "id": "462d79f2",
   "metadata": {},
   "outputs": [],
   "source": [
    "def print_cursor(cursor):\n",
    "    for doc in cursor:\n",
    "        print(doc)"
   ]
  },
  {
   "cell_type": "markdown",
   "id": "79aba26f",
   "metadata": {},
   "source": [
    "## Comparison Operators"
   ]
  },
  {
   "cell_type": "code",
   "execution_count": 4,
   "id": "5b299687",
   "metadata": {},
   "outputs": [
    {
     "name": "stdout",
     "output_type": "stream",
     "text": [
      "{'_id': ObjectId('642b28ab0472f69696366c30'), 'name': 'watter bottle', 'price': 1.59}\n"
     ]
    }
   ],
   "source": [
    "# $lt - Less Than\n",
    "\n",
    "lt_cursor = products_col.find({\"price\": {\"$lt\": 10.00}})\n",
    "print_cursor(lt_cursor)"
   ]
  },
  {
   "cell_type": "code",
   "execution_count": 6,
   "id": "3b7c6d95",
   "metadata": {},
   "outputs": [
    {
     "name": "stdout",
     "output_type": "stream",
     "text": [
      "{'_id': ObjectId('642b27d70472f69696366c2f'), 'name': 'Bag', 'price': 23.78}\n",
      "{'_id': ObjectId('642b28ab0472f69696366c31'), 'name': 'jar', 'price': 23.44}\n",
      "{'_id': ObjectId('642b29ca0472f69696366c32'), 'name': 'Bag', 'price': 23.78}\n",
      "{'_id': ObjectId('642b2c260472f69696366c33'), 'name': 'Mug', 'price': 12.99}\n"
     ]
    }
   ],
   "source": [
    "# $gte - Greater Than or Equal To (combined with another operator)\n",
    "\n",
    "lt_gte_cursor = products_col.find({\"price\": {\"$lt\": 40.00, \"$gte\": 4.99}})\n",
    "print_cursor(lt_gte_cursor)"
   ]
  },
  {
   "cell_type": "code",
   "execution_count": 7,
   "id": "9f7d7c5f",
   "metadata": {},
   "outputs": [
    {
     "name": "stdout",
     "output_type": "stream",
     "text": [
      "{'_id': ObjectId('642b2c260472f69696366c33'), 'name': 'Mug', 'price': 12.99}\n"
     ]
    }
   ],
   "source": [
    "# $ne - Not Equal To (combined with another operator)\n",
    "\n",
    "lt_ne_cursor = products_col.find({\"price\": {\"$lt\": 15.00}, \"name\": {\"$ne\": \"watter bottle\"}})\n",
    "print_cursor(lt_ne_cursor)"
   ]
  },
  {
   "cell_type": "markdown",
   "id": "708170a3",
   "metadata": {},
   "source": [
    "## Logical Operators"
   ]
  },
  {
   "cell_type": "code",
   "execution_count": 8,
   "id": "113f5e23",
   "metadata": {},
   "outputs": [
    {
     "name": "stdout",
     "output_type": "stream",
     "text": [
      "{'_id': ObjectId('642b2c260472f69696366c33'), 'name': 'Mug', 'price': 12.99}\n"
     ]
    }
   ],
   "source": [
    "# $and\n",
    "\n",
    "and_cursor = products_col.find(\n",
    "    {\"$and\": [\n",
    "        {\"price\": {\"$lt\": 15.00}}, \n",
    "        {\"name\": {\"$ne\": \"watter bottle\"}}\n",
    "    ]})\n",
    "print_cursor(and_cursor)"
   ]
  },
  {
   "cell_type": "code",
   "execution_count": 12,
   "id": "0383443a",
   "metadata": {},
   "outputs": [
    {
     "name": "stdout",
     "output_type": "stream",
     "text": [
      "{'_id': ObjectId('642b27d70472f69696366c2f'), 'name': 'Bag', 'price': 23.78}\n",
      "{'_id': ObjectId('642b28ab0472f69696366c30'), 'name': 'watter bottle', 'price': 1.59}\n",
      "{'_id': ObjectId('642b29ca0472f69696366c32'), 'name': 'Bag', 'price': 23.78}\n"
     ]
    }
   ],
   "source": [
    "# $or\n",
    "\n",
    "and_cursor = products_col.find(\n",
    "    {\"$or\": [\n",
    "        {\"price\": {\"$lt\": 5.00}}, \n",
    "        {\"price\": {\"$gte\": 23.50}}\n",
    "    ]})\n",
    "print_cursor(and_cursor)"
   ]
  },
  {
   "cell_type": "code",
   "execution_count": 13,
   "id": "2b534437",
   "metadata": {},
   "outputs": [
    {
     "name": "stdout",
     "output_type": "stream",
     "text": [
      "{'_id': ObjectId('642b28ab0472f69696366c31'), 'name': 'jar', 'price': 23.44}\n",
      "{'_id': ObjectId('642b2c260472f69696366c33'), 'name': 'Mug', 'price': 12.99}\n"
     ]
    }
   ],
   "source": [
    "# $nor\n",
    "\n",
    "and_cursor = products_col.find(\n",
    "    {\"$nor\": [\n",
    "        {\"price\": {\"$lt\": 5.00}}, \n",
    "        {\"price\": {\"$gte\": 23.50}}\n",
    "    ]})\n",
    "print_cursor(and_cursor)"
   ]
  },
  {
   "cell_type": "code",
   "execution_count": 16,
   "id": "8324f0bb",
   "metadata": {},
   "outputs": [
    {
     "name": "stdout",
     "output_type": "stream",
     "text": [
      "{'_id': ObjectId('642b27d70472f69696366c2f'), 'name': 'Bag', 'price': 23.78}\n",
      "{'_id': ObjectId('642b28ab0472f69696366c30'), 'name': 'watter bottle', 'price': 1.59}\n",
      "{'_id': ObjectId('642b28ab0472f69696366c31'), 'name': 'jar', 'price': 23.44}\n",
      "{'_id': ObjectId('642b29ca0472f69696366c32'), 'name': 'Bag', 'price': 23.78}\n",
      "{'_id': ObjectId('642b2c260472f69696366c33'), 'name': 'Mug', 'price': 12.99}\n"
     ]
    }
   ],
   "source": [
    "# $type\n",
    "\n",
    "type_cursor = products_col.find({\"price\": {\"$type\": \"number\"}})\n",
    "print_cursor(type_cursor)"
   ]
  },
  {
   "cell_type": "markdown",
   "id": "629103f0",
   "metadata": {},
   "source": [
    "## Other Useful Operators"
   ]
  },
  {
   "cell_type": "code",
   "execution_count": 18,
   "id": "88a703a5",
   "metadata": {},
   "outputs": [
    {
     "name": "stdout",
     "output_type": "stream",
     "text": [
      "{'_id': ObjectId('642b29ca0472f69696366c32'), 'name': 'Bag', 'price': 23.78, 'seller': 'Raymond'}\n"
     ]
    }
   ],
   "source": [
    "# $exists - Check if a attribute name exists in entries\n",
    "\n",
    "exists_cursor = products_col.find({\"seller\": {\"$exists\": True}})\n",
    "print_cursor(exists_cursor)"
   ]
  },
  {
   "cell_type": "code",
   "execution_count": 21,
   "id": "3cc70f85",
   "metadata": {},
   "outputs": [
    {
     "name": "stdout",
     "output_type": "stream",
     "text": [
      "{'_id': ObjectId('642b27d70472f69696366c2f'), 'name': 'Bag', 'price': 23.78}\n",
      "{'_id': ObjectId('642b29ca0472f69696366c32'), 'name': 'Bag', 'price': 23.78, 'seller': 'Raymond'}\n"
     ]
    }
   ],
   "source": [
    "# $regex - Search for substring within query entries\n",
    "\n",
    "regex_cursor = products_col.find({\"name\": {\"$regex\": \"Bag\"}})\n",
    "print_cursor(regex_cursor)"
   ]
  },
  {
   "cell_type": "code",
   "execution_count": 22,
   "id": "b952ea5d",
   "metadata": {},
   "outputs": [
    {
     "name": "stdout",
     "output_type": "stream",
     "text": [
      "{'_id': ObjectId('642b27d70472f69696366c2f'), 'name': 'Bag', 'price': 23.78}\n",
      "{'_id': ObjectId('642b29ca0472f69696366c32'), 'name': 'Bag', 'price': 23.78, 'seller': 'Raymond'}\n"
     ]
    }
   ],
   "source": [
    "regex_cursor = products_col.find({\"name\": {\"$regex\": \"bag\", \"$options\": \"i\"}})\n",
    "print_cursor(regex_cursor)"
   ]
  },
  {
   "cell_type": "code",
   "execution_count": null,
   "id": "16c38701",
   "metadata": {},
   "outputs": [],
   "source": []
  }
 ],
 "metadata": {
  "kernelspec": {
   "display_name": "Python 3 (ipykernel)",
   "language": "python",
   "name": "python3"
  },
  "language_info": {
   "codemirror_mode": {
    "name": "ipython",
    "version": 3
   },
   "file_extension": ".py",
   "mimetype": "text/x-python",
   "name": "python",
   "nbconvert_exporter": "python",
   "pygments_lexer": "ipython3",
   "version": "3.8.16"
  }
 },
 "nbformat": 4,
 "nbformat_minor": 5
}

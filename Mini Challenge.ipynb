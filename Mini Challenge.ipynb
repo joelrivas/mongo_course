{
 "cells": [
  {
   "cell_type": "markdown",
   "id": "64bc5d99",
   "metadata": {},
   "source": [
    "# Aggregation Mini Challenge 1\n",
    "\n",
    "Apply what you have learned so far about the aggregation framework to try solve this challenge"
   ]
  },
  {
   "cell_type": "code",
   "execution_count": 1,
   "id": "70ee9452",
   "metadata": {},
   "outputs": [],
   "source": [
    "# Import pymongo dependencies\n",
    "\n",
    "import pymongo"
   ]
  },
  {
   "cell_type": "code",
   "execution_count": 4,
   "id": "0d5308b2",
   "metadata": {},
   "outputs": [],
   "source": [
    "# Set up your MongoClient and database variable\n",
    "\n",
    "client = pymongo.MongoClient(\"localhost\", 27017)\n",
    "db = client.aggregation_test"
   ]
  },
  {
   "cell_type": "code",
   "execution_count": 2,
   "id": "3a839bff",
   "metadata": {},
   "outputs": [],
   "source": [
    "# Function which prints out all the results of a cursor\n",
    "def print_cursor(cursor):\n",
    "    for document in cursor:\n",
    "        print(document, end=\"\\n\\n\")"
   ]
  },
  {
   "cell_type": "code",
   "execution_count": 23,
   "id": "cf32010b",
   "metadata": {},
   "outputs": [],
   "source": [
    "### Challenge Part 1:\n",
    "###   Return entries of each unique 'seller_id' associated with the  \n",
    "###   'prodcuts' collection that have a \"Beauty\" tag. These entries should \n",
    "###   have an attribute called 'beauty_product_seller_id' which is set \n",
    "###   equal to the related 'seller_id' of the product.\n",
    "###\n",
    "### Example entry from cursor: \n",
    "###  {'beauty_product_seller_id': ObjectId(...)}\n",
    "\n",
    "cursor = db.products.aggregate([\n",
    "    {\"$match\": {\"tags\": \"Beauty\"}},\n",
    "    {\"$group\": {\"_id\": \"$seller_id\"}},\n",
    "    {\"$project\": {\"_id\":0, \"beauty_product_seller_id\": \"$_id\"}}\n",
    "])"
   ]
  },
  {
   "cell_type": "code",
   "execution_count": 24,
   "id": "b5cc5fda",
   "metadata": {},
   "outputs": [
    {
     "name": "stdout",
     "output_type": "stream",
     "text": [
      "{'beauty_product_seller_id': ObjectId('642d06472c53af7ae4ee5b84')}\n",
      "\n",
      "{'beauty_product_seller_id': ObjectId('642d06472c53af7ae4ee5b85')}\n",
      "\n",
      "{'beauty_product_seller_id': ObjectId('642d06472c53af7ae4ee5b81')}\n",
      "\n"
     ]
    }
   ],
   "source": [
    "# Print out your results\n",
    "\n",
    "print_cursor(cursor)"
   ]
  },
  {
   "cell_type": "code",
   "execution_count": 33,
   "id": "cf92307e",
   "metadata": {},
   "outputs": [],
   "source": [
    "### Challenge Part 2:\n",
    "###   Get an array of 'seller_id' attributes from products for each avaiable\n",
    "###   'tag' entry. Result entries should include a 'tag' attribute and a\n",
    "###   'seller_ids' attribute which is an array with all the 'seller_id'.\n",
    "###  \n",
    "### Example entry from cursor: \n",
    "### {'tag': 'Kitchen',\"seller_ids\": [ObjectId(...)]}\n",
    "\n",
    "cursor = db.products.aggregate([\n",
    "    {\"$unwind\": \"$tags\"},\n",
    "    {\"$group\": {\"_id\": \"$tags\", \"seller_ids\": {\"$addToSet\": \"$seller_id\"}}},\n",
    "    {\"$project\": {\"_id\":0, \"tag\": \"$_id\", \"seller_ids\": 1}}\n",
    "])"
   ]
  },
  {
   "cell_type": "code",
   "execution_count": 34,
   "id": "8119aec6",
   "metadata": {},
   "outputs": [
    {
     "name": "stdout",
     "output_type": "stream",
     "text": [
      "{'seller_ids': [ObjectId('642d06472c53af7ae4ee5b81')], 'tag': 'Kitchen'}\n",
      "\n",
      "{'seller_ids': [ObjectId('642d06472c53af7ae4ee5b82')], 'tag': 'Office'}\n",
      "\n",
      "{'seller_ids': [ObjectId('642d06472c53af7ae4ee5b82')], 'tag': 'School'}\n",
      "\n",
      "{'seller_ids': [ObjectId('642d06472c53af7ae4ee5b81')], 'tag': 'Home'}\n",
      "\n",
      "{'seller_ids': [ObjectId('642d06472c53af7ae4ee5b81'), ObjectId('642d06472c53af7ae4ee5b85'), ObjectId('642d06472c53af7ae4ee5b84')], 'tag': 'Beauty'}\n",
      "\n"
     ]
    }
   ],
   "source": [
    "# Print out your results\n",
    "\n",
    "print_cursor(cursor)"
   ]
  },
  {
   "cell_type": "code",
   "execution_count": 52,
   "id": "5b99c7f3",
   "metadata": {},
   "outputs": [],
   "source": [
    "### Challenge Part 3:\n",
    "###   Display the number of unique seller ids there are for each availble \n",
    "###   'tag' for 'prodcuts'. Result entries should include a 'tag' attribute \n",
    "###   and a 'num_sellers' attribute which is a integer. Sort by 'tag' name.\n",
    "###  \n",
    "### Example entry from cursor: \n",
    "### {'tag': 'Kitchen',\"num_sellers\": 1}\n",
    "\n",
    "cursor = db.products.aggregate([\n",
    "    {\"$unwind\": \"$tags\"},\n",
    "    {\"$group\": {\"_id\": \"$tags\", \"seller_ids\": {\"$addToSet\": \"$seller_id\"}}},\n",
    "    {\"$project\": {\"_id\":0, \"tag\": \"$_id\", \"num_sellers\": {\"$size\":\"$seller_ids\"}}},\n",
    "    {\"$sort\": {\"tag\": 1}},\n",
    "])"
   ]
  },
  {
   "cell_type": "code",
   "execution_count": 53,
   "id": "9ee61913",
   "metadata": {},
   "outputs": [
    {
     "name": "stdout",
     "output_type": "stream",
     "text": [
      "{'tag': 'Beauty', 'num_sellers': 3}\n",
      "\n",
      "{'tag': 'Home', 'num_sellers': 1}\n",
      "\n",
      "{'tag': 'Kitchen', 'num_sellers': 1}\n",
      "\n",
      "{'tag': 'Office', 'num_sellers': 1}\n",
      "\n",
      "{'tag': 'School', 'num_sellers': 1}\n",
      "\n"
     ]
    }
   ],
   "source": [
    "# Print out your results\n",
    "\n",
    "print_cursor(cursor)"
   ]
  },
  {
   "cell_type": "code",
   "execution_count": null,
   "id": "5f342e4f",
   "metadata": {},
   "outputs": [],
   "source": []
  }
 ],
 "metadata": {
  "kernelspec": {
   "display_name": "Python 3 (ipykernel)",
   "language": "python",
   "name": "python3"
  },
  "language_info": {
   "codemirror_mode": {
    "name": "ipython",
    "version": 3
   },
   "file_extension": ".py",
   "mimetype": "text/x-python",
   "name": "python",
   "nbconvert_exporter": "python",
   "pygments_lexer": "ipython3",
   "version": "3.8.16"
  }
 },
 "nbformat": 4,
 "nbformat_minor": 5
}

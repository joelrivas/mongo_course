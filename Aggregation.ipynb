{
 "cells": [
  {
   "cell_type": "markdown",
   "id": "1a300bb6",
   "metadata": {},
   "source": [
    "# MongoDB Aggregation Pipeline In Python\n",
    "\n",
    "Learn about the various stages and configurations you can create to configure an Aggregation Pipeline\n",
    "\n",
    "Stages: [match](#match), [project](#project), [unset](#unset), [limit](#limit), [skip](#skip), [sort](#sort), [count](#count), [sortByCount](#sortByCount), [unwind](#unwind), [group](#group), [addFields](#addFields), [sample](#sample), [lookup](#lookup), [unionWith](#unionWith), [out](#out), [merge](#merge)\n",
    "\n",
    "Operators: [size](#size-(operator)), [in](#in-(operator)), [arrayElemAt](#arrayElemAt-(operator)), [first](#first-(operator)), [count](#count-(accumulator-operator)), [sum](#sum-(accumulator-operator)), [first, last](#first,-last-(accumulator-operators)), [push](#push-(accumulator-operator)), [addToSet](#addToSet-(accumulator-operator)), [regexMatch](#regexMatch-(operator)), [cond](#cond-(operator)), [Date](#Date-Operators), [expr](#expr-(operator)), [ifNull](#ifNull-(operator)), [type](#type-(operator)), [switch](#switch-(operator))"
   ]
  },
  {
   "cell_type": "code",
   "execution_count": 1,
   "id": "f848d0b4",
   "metadata": {},
   "outputs": [],
   "source": [
    "from pymongo import MongoClient"
   ]
  },
  {
   "cell_type": "code",
   "execution_count": 2,
   "id": "b3b2a00e",
   "metadata": {},
   "outputs": [],
   "source": [
    "mongodb_uri = \"mongodb://localhost:27017/\"\n",
    "db_name = \"aggregation_test\"\n",
    "client = MongoClient(mongodb_uri)\n",
    "db = client[db_name]"
   ]
  },
  {
   "cell_type": "markdown",
   "id": "30d0d974",
   "metadata": {},
   "source": [
    "### Helper Function"
   ]
  },
  {
   "cell_type": "code",
   "execution_count": 3,
   "id": "b768108b",
   "metadata": {},
   "outputs": [],
   "source": [
    "def print_cursor(cursor):\n",
    "    for document in cursor:\n",
    "        print(document, end=\"\\n\\n\")"
   ]
  },
  {
   "cell_type": "markdown",
   "id": "72c3fd51",
   "metadata": {},
   "source": [
    "### Inserting Some Sample Data"
   ]
  },
  {
   "cell_type": "code",
   "execution_count": 4,
   "id": "b517cf4b",
   "metadata": {},
   "outputs": [
    {
     "name": "stdout",
     "output_type": "stream",
     "text": [
      "Done\n"
     ]
    }
   ],
   "source": [
    "import insert_aggregation_sample_data as iasd\n",
    "iasd.insert_data(mongodb_uri, db_name)"
   ]
  },
  {
   "cell_type": "markdown",
   "id": "053feb4d",
   "metadata": {},
   "source": [
    "### match"
   ]
  },
  {
   "cell_type": "code",
   "execution_count": null,
   "id": "05e6e00a",
   "metadata": {},
   "outputs": [],
   "source": []
  },
  {
   "cell_type": "markdown",
   "id": "d4ad5b79",
   "metadata": {},
   "source": [
    "### project"
   ]
  },
  {
   "cell_type": "code",
   "execution_count": null,
   "id": "12adb2e8",
   "metadata": {},
   "outputs": [],
   "source": []
  },
  {
   "cell_type": "markdown",
   "id": "aca93e7a",
   "metadata": {},
   "source": [
    "### unset"
   ]
  },
  {
   "cell_type": "code",
   "execution_count": null,
   "id": "e52783e0",
   "metadata": {},
   "outputs": [],
   "source": []
  },
  {
   "cell_type": "markdown",
   "id": "e764f41a",
   "metadata": {},
   "source": [
    "### limit"
   ]
  },
  {
   "cell_type": "code",
   "execution_count": null,
   "id": "f4298f1f",
   "metadata": {},
   "outputs": [],
   "source": []
  },
  {
   "cell_type": "markdown",
   "id": "916ea75e",
   "metadata": {},
   "source": [
    "### skip"
   ]
  },
  {
   "cell_type": "markdown",
   "id": "d1df1927",
   "metadata": {},
   "source": [
    "### sort"
   ]
  },
  {
   "cell_type": "markdown",
   "id": "c7d279c6",
   "metadata": {},
   "source": [
    "### count"
   ]
  },
  {
   "cell_type": "markdown",
   "id": "e9426036",
   "metadata": {},
   "source": [
    "### sortByCount"
   ]
  },
  {
   "cell_type": "markdown",
   "id": "128f9099",
   "metadata": {},
   "source": [
    "### size (operator)"
   ]
  },
  {
   "cell_type": "markdown",
   "id": "6b89db6e",
   "metadata": {},
   "source": [
    "### in (operator)"
   ]
  },
  {
   "cell_type": "markdown",
   "id": "f920f93f",
   "metadata": {},
   "source": [
    "### arrayElemAt (operator)"
   ]
  },
  {
   "cell_type": "markdown",
   "id": "77206bd0",
   "metadata": {},
   "source": [
    "### first (operator)"
   ]
  },
  {
   "cell_type": "markdown",
   "id": "99b05fe0",
   "metadata": {},
   "source": [
    "### unwind"
   ]
  },
  {
   "cell_type": "markdown",
   "id": "6954e1c8",
   "metadata": {},
   "source": [
    "### group"
   ]
  },
  {
   "cell_type": "markdown",
   "id": "af77be3a",
   "metadata": {},
   "source": [
    "### count (accumulator operator)"
   ]
  },
  {
   "cell_type": "markdown",
   "id": "ef06e6d8",
   "metadata": {},
   "source": [
    "### sum (accumulator operator)"
   ]
  },
  {
   "cell_type": "markdown",
   "id": "4a5e6b81",
   "metadata": {},
   "source": [
    "### first, last (accumulator operators)"
   ]
  },
  {
   "cell_type": "markdown",
   "id": "cd9e8b20",
   "metadata": {},
   "source": [
    "### push (accumulator operator)"
   ]
  },
  {
   "cell_type": "markdown",
   "id": "75924562",
   "metadata": {},
   "source": [
    "### addToSet (accumulator operator)"
   ]
  },
  {
   "cell_type": "markdown",
   "id": "6220eb7d",
   "metadata": {},
   "source": [
    "### $$ROOT (system variable)"
   ]
  },
  {
   "cell_type": "markdown",
   "id": "d00feccb",
   "metadata": {},
   "source": [
    "### addFields"
   ]
  },
  {
   "cell_type": "markdown",
   "id": "72f9c175",
   "metadata": {},
   "source": [
    "### sample"
   ]
  },
  {
   "cell_type": "markdown",
   "id": "5a04344d",
   "metadata": {},
   "source": [
    "### lookup"
   ]
  },
  {
   "cell_type": "markdown",
   "id": "01faa143",
   "metadata": {},
   "source": [
    "### unionWith"
   ]
  },
  {
   "cell_type": "markdown",
   "id": "d2baed3f",
   "metadata": {},
   "source": [
    "### regexMatch (operator)"
   ]
  },
  {
   "cell_type": "markdown",
   "id": "f1797886",
   "metadata": {},
   "source": [
    "### out\n",
    "*Note: You can potentially overwrite all your data in a collection with this stage, use with caution*"
   ]
  },
  {
   "cell_type": "markdown",
   "id": "4eb91997",
   "metadata": {},
   "source": [
    "### merge\n",
    "*Note: You can potentially overwrite data within a collection with this stage, use with caution*"
   ]
  },
  {
   "cell_type": "markdown",
   "id": "a76d749f",
   "metadata": {},
   "source": [
    "### cond (operator)"
   ]
  },
  {
   "cell_type": "markdown",
   "id": "87bf7383",
   "metadata": {},
   "source": [
    "### $$NOW (system variable)"
   ]
  },
  {
   "cell_type": "markdown",
   "id": "2a0438c6",
   "metadata": {},
   "source": [
    "### Date Operators"
   ]
  },
  {
   "cell_type": "markdown",
   "id": "a9cf05d5",
   "metadata": {},
   "source": [
    "### expr (operator)"
   ]
  },
  {
   "cell_type": "markdown",
   "id": "89ba41bd",
   "metadata": {},
   "source": [
    "### ifNull (operator)"
   ]
  },
  {
   "cell_type": "markdown",
   "id": "30186188",
   "metadata": {},
   "source": [
    "### type (operator)"
   ]
  },
  {
   "cell_type": "markdown",
   "id": "f7dde53c",
   "metadata": {},
   "source": [
    "### switch (operator)"
   ]
  },
  {
   "cell_type": "code",
   "execution_count": null,
   "id": "4dfbc499",
   "metadata": {},
   "outputs": [],
   "source": []
  }
 ],
 "metadata": {
  "kernelspec": {
   "display_name": "Python 3 (ipykernel)",
   "language": "python",
   "name": "python3"
  },
  "language_info": {
   "codemirror_mode": {
    "name": "ipython",
    "version": 3
   },
   "file_extension": ".py",
   "mimetype": "text/x-python",
   "name": "python",
   "nbconvert_exporter": "python",
   "pygments_lexer": "ipython3",
   "version": "3.8.16"
  }
 },
 "nbformat": 4,
 "nbformat_minor": 5
}

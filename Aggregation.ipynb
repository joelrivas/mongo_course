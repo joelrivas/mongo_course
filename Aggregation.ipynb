{
 "cells": [
  {
   "cell_type": "markdown",
   "id": "1a300bb6",
   "metadata": {},
   "source": [
    "# MongoDB Aggregation Pipeline In Python\n",
    "\n",
    "Learn about the various stages and configurations you can create to configure an Aggregation Pipeline\n",
    "\n",
    "Stages: [match](#match), [project](#project), [unset](#unset), [limit](#limit), [skip](#skip), [sort](#sort), [count](#count), [sortByCount](#sortByCount), [unwind](#unwind), [group](#group), [addFields](#addFields), [sample](#sample), [lookup](#lookup), [unionWith](#unionWith), [out](#out), [merge](#merge)\n",
    "\n",
    "Operators: [size](#size-(operator)), [in](#in-(operator)), [arrayElemAt](#arrayElemAt-(operator)), [first](#first-(operator)), [count](#count-(accumulator-operator)), [sum](#sum-(accumulator-operator)), [first, last](#first,-last-(accumulator-operators)), [push](#push-(accumulator-operator)), [addToSet](#addToSet-(accumulator-operator)), [regexMatch](#regexMatch-(operator)), [cond](#cond-(operator)), [Date](#Date-Operators), [expr](#expr-(operator)), [ifNull](#ifNull-(operator)), [type](#type-(operator)), [switch](#switch-(operator))"
   ]
  },
  {
   "cell_type": "code",
   "execution_count": 1,
   "id": "f848d0b4",
   "metadata": {},
   "outputs": [],
   "source": [
    "from pymongo import MongoClient"
   ]
  },
  {
   "cell_type": "code",
   "execution_count": 2,
   "id": "b3b2a00e",
   "metadata": {},
   "outputs": [],
   "source": [
    "mongodb_uri = \"mongodb://localhost:27017/\"\n",
    "db_name = \"aggregation_test\"\n",
    "client = MongoClient(mongodb_uri)\n",
    "db = client[db_name]"
   ]
  },
  {
   "cell_type": "markdown",
   "id": "30d0d974",
   "metadata": {},
   "source": [
    "### Helper Function"
   ]
  },
  {
   "cell_type": "code",
   "execution_count": 3,
   "id": "b768108b",
   "metadata": {},
   "outputs": [],
   "source": [
    "def print_cursor(cursor):\n",
    "    for document in cursor:\n",
    "        print(document, end=\"\\n\\n\")"
   ]
  },
  {
   "cell_type": "markdown",
   "id": "72c3fd51",
   "metadata": {},
   "source": [
    "### Inserting Some Sample Data"
   ]
  },
  {
   "cell_type": "code",
   "execution_count": 4,
   "id": "b517cf4b",
   "metadata": {},
   "outputs": [
    {
     "name": "stdout",
     "output_type": "stream",
     "text": [
      "Entries already exist in the aggregation_test database in the users, products, or orders collection. Insert commands aborted.\n"
     ]
    }
   ],
   "source": [
    "import insert_aggregation_sample_data as iasd\n",
    "iasd.insert_data(mongodb_uri, db_name)"
   ]
  },
  {
   "cell_type": "markdown",
   "id": "053feb4d",
   "metadata": {},
   "source": [
    "### match"
   ]
  },
  {
   "cell_type": "code",
   "execution_count": 5,
   "id": "05e6e00a",
   "metadata": {},
   "outputs": [],
   "source": [
    "match = db.products.aggregate([\n",
    "    {\"$match\": {\"name\": \"Pens\"}}\n",
    "])"
   ]
  },
  {
   "cell_type": "code",
   "execution_count": 7,
   "id": "1a65eec3",
   "metadata": {},
   "outputs": [
    {
     "name": "stdout",
     "output_type": "stream",
     "text": [
      "{'_id': ObjectId('642d06472c53af7ae4ee5b89'), 'name': 'Pens', 'seller_id': ObjectId('642d06472c53af7ae4ee5b82'), 'tags': ['Office', 'School']}\n",
      "\n"
     ]
    }
   ],
   "source": [
    "print_cursor(match)"
   ]
  },
  {
   "cell_type": "code",
   "execution_count": 10,
   "id": "3a2c96eb",
   "metadata": {},
   "outputs": [],
   "source": [
    "match = db.products.aggregate([\n",
    "    {\"$match\": {\"$or\": [{\"tags\": \"Beauty\"}, {\"tags\": \"Home\"}]}}\n",
    "])"
   ]
  },
  {
   "cell_type": "code",
   "execution_count": 11,
   "id": "9e1e92c3",
   "metadata": {},
   "outputs": [
    {
     "name": "stdout",
     "output_type": "stream",
     "text": [
      "{'_id': ObjectId('642d06472c53af7ae4ee5b87'), 'name': 'Mug', 'seller_id': ObjectId('642d06472c53af7ae4ee5b81'), 'tags': ['Home', 'Kitchen']}\n",
      "\n",
      "{'_id': ObjectId('642d06472c53af7ae4ee5b88'), 'name': 'Moisturizer', 'seller_id': ObjectId('642d06472c53af7ae4ee5b81'), 'tags': ['Beauty']}\n",
      "\n",
      "{'_id': ObjectId('642d06472c53af7ae4ee5b8a'), 'name': 'Face Cleanser', 'seller_id': ObjectId('642d06472c53af7ae4ee5b81'), 'tags': ['Beauty']}\n",
      "\n",
      "{'_id': ObjectId('642d06472c53af7ae4ee5b8b'), 'name': 'Concealer Makeup', 'seller_id': ObjectId('642d06472c53af7ae4ee5b84'), 'tags': ['Beauty']}\n",
      "\n",
      "{'_id': ObjectId('642d06472c53af7ae4ee5b8c'), 'name': 'Eyeliner', 'seller_id': ObjectId('642d06472c53af7ae4ee5b85'), 'tags': ['Beauty']}\n",
      "\n"
     ]
    }
   ],
   "source": [
    "print_cursor(match)"
   ]
  },
  {
   "cell_type": "markdown",
   "id": "d4ad5b79",
   "metadata": {},
   "source": [
    "### project"
   ]
  },
  {
   "cell_type": "code",
   "execution_count": 14,
   "id": "12adb2e8",
   "metadata": {},
   "outputs": [],
   "source": [
    "project_cursor = db.products.aggregate([\n",
    "    {\"$project\": {\"_id\": 0, \"product_name\": \"$name\", \"tags\": 1}}\n",
    "])"
   ]
  },
  {
   "cell_type": "code",
   "execution_count": 15,
   "id": "2fcb4d63",
   "metadata": {},
   "outputs": [
    {
     "name": "stdout",
     "output_type": "stream",
     "text": [
      "{'tags': ['Home', 'Kitchen'], 'product_name': 'Mug'}\n",
      "\n",
      "{'tags': ['Beauty'], 'product_name': 'Moisturizer'}\n",
      "\n",
      "{'tags': ['Office', 'School'], 'product_name': 'Pens'}\n",
      "\n",
      "{'tags': ['Beauty'], 'product_name': 'Face Cleanser'}\n",
      "\n",
      "{'tags': ['Beauty'], 'product_name': 'Concealer Makeup'}\n",
      "\n",
      "{'tags': ['Beauty'], 'product_name': 'Eyeliner'}\n",
      "\n"
     ]
    }
   ],
   "source": [
    "print_cursor(project_cursor)"
   ]
  },
  {
   "cell_type": "code",
   "execution_count": 16,
   "id": "a02e94d5",
   "metadata": {},
   "outputs": [],
   "source": [
    "match_project_cursor = db.products.aggregate([\n",
    "    {\"$match\": {\"name\": \"Pens\"}},\n",
    "    {\"$project\": {\"_id\": 0, \"product_name\": \"$name\", \"tags\": 1}}\n",
    "])"
   ]
  },
  {
   "cell_type": "code",
   "execution_count": 17,
   "id": "fef607c7",
   "metadata": {},
   "outputs": [
    {
     "name": "stdout",
     "output_type": "stream",
     "text": [
      "{'tags': ['Office', 'School'], 'product_name': 'Pens'}\n",
      "\n"
     ]
    }
   ],
   "source": [
    "print_cursor(match_project_cursor)"
   ]
  },
  {
   "cell_type": "markdown",
   "id": "aca93e7a",
   "metadata": {},
   "source": [
    "### unset"
   ]
  },
  {
   "cell_type": "code",
   "execution_count": 18,
   "id": "e52783e0",
   "metadata": {},
   "outputs": [],
   "source": [
    "unset_cursor = db.products.aggregate([\n",
    "    {\"$unset\": [\"_id\", \"seller_id\"]}\n",
    "])"
   ]
  },
  {
   "cell_type": "code",
   "execution_count": 19,
   "id": "aaaf24e1",
   "metadata": {
    "scrolled": true
   },
   "outputs": [
    {
     "name": "stdout",
     "output_type": "stream",
     "text": [
      "{'name': 'Mug', 'tags': ['Home', 'Kitchen']}\n",
      "\n",
      "{'name': 'Moisturizer', 'tags': ['Beauty']}\n",
      "\n",
      "{'name': 'Pens', 'tags': ['Office', 'School']}\n",
      "\n",
      "{'name': 'Face Cleanser', 'tags': ['Beauty']}\n",
      "\n",
      "{'name': 'Concealer Makeup', 'tags': ['Beauty']}\n",
      "\n",
      "{'name': 'Eyeliner', 'tags': ['Beauty']}\n",
      "\n"
     ]
    }
   ],
   "source": [
    "print_cursor(unset_cursor)"
   ]
  },
  {
   "cell_type": "code",
   "execution_count": 20,
   "id": "fbe1c47e",
   "metadata": {},
   "outputs": [],
   "source": [
    "unset_cursor = db.products.aggregate([\n",
    "    {\"$match\": {\"name\": \"Pens\"}},\n",
    "    {\"$unset\": [\"_id\", \"seller_id\"]}\n",
    "])"
   ]
  },
  {
   "cell_type": "code",
   "execution_count": 21,
   "id": "d866eb6c",
   "metadata": {},
   "outputs": [
    {
     "name": "stdout",
     "output_type": "stream",
     "text": [
      "{'name': 'Pens', 'tags': ['Office', 'School']}\n",
      "\n"
     ]
    }
   ],
   "source": [
    "print_cursor(unset_cursor)"
   ]
  },
  {
   "cell_type": "markdown",
   "id": "e764f41a",
   "metadata": {},
   "source": [
    "### limit"
   ]
  },
  {
   "cell_type": "code",
   "execution_count": 22,
   "id": "f4298f1f",
   "metadata": {},
   "outputs": [],
   "source": [
    "limit_cursor = db.products.aggregate([\n",
    "    {\"$limit\": 3},\n",
    "])"
   ]
  },
  {
   "cell_type": "code",
   "execution_count": 23,
   "id": "c81a673e",
   "metadata": {},
   "outputs": [
    {
     "name": "stdout",
     "output_type": "stream",
     "text": [
      "{'_id': ObjectId('642d06472c53af7ae4ee5b87'), 'name': 'Mug', 'seller_id': ObjectId('642d06472c53af7ae4ee5b81'), 'tags': ['Home', 'Kitchen']}\n",
      "\n",
      "{'_id': ObjectId('642d06472c53af7ae4ee5b88'), 'name': 'Moisturizer', 'seller_id': ObjectId('642d06472c53af7ae4ee5b81'), 'tags': ['Beauty']}\n",
      "\n",
      "{'_id': ObjectId('642d06472c53af7ae4ee5b89'), 'name': 'Pens', 'seller_id': ObjectId('642d06472c53af7ae4ee5b82'), 'tags': ['Office', 'School']}\n",
      "\n"
     ]
    }
   ],
   "source": [
    "print_cursor(limit_cursor)"
   ]
  },
  {
   "cell_type": "markdown",
   "id": "916ea75e",
   "metadata": {},
   "source": [
    "### skip"
   ]
  },
  {
   "cell_type": "code",
   "execution_count": 24,
   "id": "b5030cfd",
   "metadata": {},
   "outputs": [],
   "source": [
    "skip_cursor = db.products.aggregate([\n",
    "    {\"$skip\": 2},\n",
    "])"
   ]
  },
  {
   "cell_type": "code",
   "execution_count": 25,
   "id": "0a536943",
   "metadata": {
    "scrolled": true
   },
   "outputs": [
    {
     "name": "stdout",
     "output_type": "stream",
     "text": [
      "{'_id': ObjectId('642d06472c53af7ae4ee5b89'), 'name': 'Pens', 'seller_id': ObjectId('642d06472c53af7ae4ee5b82'), 'tags': ['Office', 'School']}\n",
      "\n",
      "{'_id': ObjectId('642d06472c53af7ae4ee5b8a'), 'name': 'Face Cleanser', 'seller_id': ObjectId('642d06472c53af7ae4ee5b81'), 'tags': ['Beauty']}\n",
      "\n",
      "{'_id': ObjectId('642d06472c53af7ae4ee5b8b'), 'name': 'Concealer Makeup', 'seller_id': ObjectId('642d06472c53af7ae4ee5b84'), 'tags': ['Beauty']}\n",
      "\n",
      "{'_id': ObjectId('642d06472c53af7ae4ee5b8c'), 'name': 'Eyeliner', 'seller_id': ObjectId('642d06472c53af7ae4ee5b85'), 'tags': ['Beauty']}\n",
      "\n"
     ]
    }
   ],
   "source": [
    "print_cursor(skip_cursor)"
   ]
  },
  {
   "cell_type": "code",
   "execution_count": 27,
   "id": "2700af8c",
   "metadata": {},
   "outputs": [],
   "source": [
    "skip_limit_cursor = db.products.aggregate([\n",
    "    {\"$skip\": 2},\n",
    "    {\"$limit\": 3}\n",
    "])"
   ]
  },
  {
   "cell_type": "code",
   "execution_count": 28,
   "id": "d6d2192e",
   "metadata": {},
   "outputs": [
    {
     "name": "stdout",
     "output_type": "stream",
     "text": [
      "{'_id': ObjectId('642d06472c53af7ae4ee5b89'), 'name': 'Pens', 'seller_id': ObjectId('642d06472c53af7ae4ee5b82'), 'tags': ['Office', 'School']}\n",
      "\n",
      "{'_id': ObjectId('642d06472c53af7ae4ee5b8a'), 'name': 'Face Cleanser', 'seller_id': ObjectId('642d06472c53af7ae4ee5b81'), 'tags': ['Beauty']}\n",
      "\n",
      "{'_id': ObjectId('642d06472c53af7ae4ee5b8b'), 'name': 'Concealer Makeup', 'seller_id': ObjectId('642d06472c53af7ae4ee5b84'), 'tags': ['Beauty']}\n",
      "\n"
     ]
    }
   ],
   "source": [
    "print_cursor(skip_limit_cursor)"
   ]
  },
  {
   "cell_type": "code",
   "execution_count": 29,
   "id": "7e8bfef0",
   "metadata": {},
   "outputs": [
    {
     "name": "stdout",
     "output_type": "stream",
     "text": [
      "{'_id': ObjectId('642d06472c53af7ae4ee5b89'), 'name': 'Pens', 'seller_id': ObjectId('642d06472c53af7ae4ee5b82'), 'tags': ['Office', 'School']}\n",
      "\n"
     ]
    }
   ],
   "source": [
    "skip_limit_cursor = db.products.aggregate([\n",
    "    {\"$limit\": 3},\n",
    "    {\"$skip\": 2}\n",
    "])\n",
    "print_cursor(skip_limit_cursor)"
   ]
  },
  {
   "cell_type": "markdown",
   "id": "d1df1927",
   "metadata": {},
   "source": [
    "### sort"
   ]
  },
  {
   "cell_type": "code",
   "execution_count": 30,
   "id": "d3a2eb57",
   "metadata": {},
   "outputs": [],
   "source": [
    "sort_cursor = db.products.aggregate([\n",
    "    {\"$sort\": {\"name\": 1}}\n",
    "])"
   ]
  },
  {
   "cell_type": "code",
   "execution_count": 31,
   "id": "9837186f",
   "metadata": {},
   "outputs": [
    {
     "name": "stdout",
     "output_type": "stream",
     "text": [
      "{'_id': ObjectId('642d06472c53af7ae4ee5b8b'), 'name': 'Concealer Makeup', 'seller_id': ObjectId('642d06472c53af7ae4ee5b84'), 'tags': ['Beauty']}\n",
      "\n",
      "{'_id': ObjectId('642d06472c53af7ae4ee5b8c'), 'name': 'Eyeliner', 'seller_id': ObjectId('642d06472c53af7ae4ee5b85'), 'tags': ['Beauty']}\n",
      "\n",
      "{'_id': ObjectId('642d06472c53af7ae4ee5b8a'), 'name': 'Face Cleanser', 'seller_id': ObjectId('642d06472c53af7ae4ee5b81'), 'tags': ['Beauty']}\n",
      "\n",
      "{'_id': ObjectId('642d06472c53af7ae4ee5b88'), 'name': 'Moisturizer', 'seller_id': ObjectId('642d06472c53af7ae4ee5b81'), 'tags': ['Beauty']}\n",
      "\n",
      "{'_id': ObjectId('642d06472c53af7ae4ee5b87'), 'name': 'Mug', 'seller_id': ObjectId('642d06472c53af7ae4ee5b81'), 'tags': ['Home', 'Kitchen']}\n",
      "\n",
      "{'_id': ObjectId('642d06472c53af7ae4ee5b89'), 'name': 'Pens', 'seller_id': ObjectId('642d06472c53af7ae4ee5b82'), 'tags': ['Office', 'School']}\n",
      "\n"
     ]
    }
   ],
   "source": [
    "print_cursor(sort_cursor)"
   ]
  },
  {
   "cell_type": "markdown",
   "id": "c7d279c6",
   "metadata": {},
   "source": [
    "### count"
   ]
  },
  {
   "cell_type": "code",
   "execution_count": 32,
   "id": "7ae0105f",
   "metadata": {},
   "outputs": [
    {
     "name": "stdout",
     "output_type": "stream",
     "text": [
      "{'beauty_products_count': 4}\n",
      "\n"
     ]
    }
   ],
   "source": [
    "count_cursor = db.products.aggregate([\n",
    "    {\"$match\": {\"tags\": \"Beauty\"}},\n",
    "    {\"$count\": \"beauty_products_count\"}\n",
    "])\n",
    "print_cursor(count_cursor)"
   ]
  },
  {
   "cell_type": "markdown",
   "id": "e9426036",
   "metadata": {},
   "source": [
    "### sortByCount"
   ]
  },
  {
   "cell_type": "code",
   "execution_count": 33,
   "id": "5b028bdc",
   "metadata": {},
   "outputs": [
    {
     "name": "stdout",
     "output_type": "stream",
     "text": [
      "{'_id': ['Beauty'], 'count': 4}\n",
      "\n",
      "{'_id': ['Home', 'Kitchen'], 'count': 1}\n",
      "\n",
      "{'_id': ['Office', 'School'], 'count': 1}\n",
      "\n"
     ]
    }
   ],
   "source": [
    "count_cursor = db.products.aggregate([\n",
    "    {\"$sortByCount\": \"$tags\"}\n",
    "])\n",
    "print_cursor(count_cursor)"
   ]
  },
  {
   "cell_type": "markdown",
   "id": "128f9099",
   "metadata": {},
   "source": [
    "### size (operator)"
   ]
  },
  {
   "cell_type": "code",
   "execution_count": 34,
   "id": "34130bb3",
   "metadata": {},
   "outputs": [
    {
     "name": "stdout",
     "output_type": "stream",
     "text": [
      "{'name': 'Mug', 'num_tags': 2, 'tags': ['Home', 'Kitchen']}\n",
      "\n",
      "{'name': 'Moisturizer', 'num_tags': 1, 'tags': ['Beauty']}\n",
      "\n",
      "{'name': 'Pens', 'num_tags': 2, 'tags': ['Office', 'School']}\n",
      "\n",
      "{'name': 'Face Cleanser', 'num_tags': 1, 'tags': ['Beauty']}\n",
      "\n",
      "{'name': 'Concealer Makeup', 'num_tags': 1, 'tags': ['Beauty']}\n",
      "\n",
      "{'name': 'Eyeliner', 'num_tags': 1, 'tags': ['Beauty']}\n",
      "\n"
     ]
    }
   ],
   "source": [
    "size_cursor = db.products.aggregate([\n",
    "    {\"$project\": {\"_id\": 0, \"name\": 1, \"num_tags\": {\"$size\": \"$tags\"}, \"tags\": \"$tags\"}}\n",
    "])\n",
    "print_cursor(size_cursor)"
   ]
  },
  {
   "cell_type": "markdown",
   "id": "6b89db6e",
   "metadata": {},
   "source": [
    "### in (operator)"
   ]
  },
  {
   "cell_type": "code",
   "execution_count": 35,
   "id": "b9cc5500",
   "metadata": {},
   "outputs": [
    {
     "name": "stdout",
     "output_type": "stream",
     "text": [
      "{'name': 'Mug', 'is_beauty_product': False, 'tags': ['Home', 'Kitchen']}\n",
      "\n",
      "{'name': 'Moisturizer', 'is_beauty_product': True, 'tags': ['Beauty']}\n",
      "\n",
      "{'name': 'Pens', 'is_beauty_product': False, 'tags': ['Office', 'School']}\n",
      "\n",
      "{'name': 'Face Cleanser', 'is_beauty_product': True, 'tags': ['Beauty']}\n",
      "\n",
      "{'name': 'Concealer Makeup', 'is_beauty_product': True, 'tags': ['Beauty']}\n",
      "\n",
      "{'name': 'Eyeliner', 'is_beauty_product': True, 'tags': ['Beauty']}\n",
      "\n"
     ]
    }
   ],
   "source": [
    "in_cursor = db.products.aggregate([\n",
    "    {\"$project\": {\"_id\": 0, \"name\": 1, \"is_beauty_product\": {\"$in\": [\"Beauty\", \"$tags\"]}, \"tags\": \"$tags\"}}\n",
    "])\n",
    "print_cursor(in_cursor)"
   ]
  },
  {
   "cell_type": "markdown",
   "id": "f920f93f",
   "metadata": {},
   "source": [
    "### arrayElemAt (operator)"
   ]
  },
  {
   "cell_type": "code",
   "execution_count": 36,
   "id": "5fd729ee",
   "metadata": {},
   "outputs": [
    {
     "name": "stdout",
     "output_type": "stream",
     "text": [
      "{'name': 'Mug', 'first_tag': 'Home', 'tags': ['Home', 'Kitchen']}\n",
      "\n",
      "{'name': 'Moisturizer', 'first_tag': 'Beauty', 'tags': ['Beauty']}\n",
      "\n",
      "{'name': 'Pens', 'first_tag': 'Office', 'tags': ['Office', 'School']}\n",
      "\n",
      "{'name': 'Face Cleanser', 'first_tag': 'Beauty', 'tags': ['Beauty']}\n",
      "\n",
      "{'name': 'Concealer Makeup', 'first_tag': 'Beauty', 'tags': ['Beauty']}\n",
      "\n",
      "{'name': 'Eyeliner', 'first_tag': 'Beauty', 'tags': ['Beauty']}\n",
      "\n"
     ]
    }
   ],
   "source": [
    "project_cursor = db.products.aggregate([\n",
    "    {\"$project\": {\"_id\": 0, \"name\": 1, \"first_tag\": {\"$arrayElemAt\": [\"$tags\", 0]}, \"tags\": \"$tags\"}}\n",
    "])\n",
    "print_cursor(project_cursor)"
   ]
  },
  {
   "cell_type": "code",
   "execution_count": 39,
   "id": "7b70c006",
   "metadata": {},
   "outputs": [
    {
     "name": "stdout",
     "output_type": "stream",
     "text": [
      "{'name': 'Mug', 'first_tag': 'Kitchen', 'tags': ['Home', 'Kitchen']}\n",
      "\n",
      "{'name': 'Moisturizer', 'tags': ['Beauty']}\n",
      "\n",
      "{'name': 'Pens', 'first_tag': 'School', 'tags': ['Office', 'School']}\n",
      "\n",
      "{'name': 'Face Cleanser', 'tags': ['Beauty']}\n",
      "\n",
      "{'name': 'Concealer Makeup', 'tags': ['Beauty']}\n",
      "\n",
      "{'name': 'Eyeliner', 'tags': ['Beauty']}\n",
      "\n"
     ]
    }
   ],
   "source": [
    "project_cursor = db.products.aggregate([\n",
    "    {\"$project\": {\"_id\": 0, \"name\": 1, \"first_tag\": {\"$arrayElemAt\": [\"$tags\", 1]}, \"tags\": \"$tags\"}}\n",
    "])\n",
    "print_cursor(project_cursor)"
   ]
  },
  {
   "cell_type": "markdown",
   "id": "77206bd0",
   "metadata": {},
   "source": [
    "### first (operator)"
   ]
  },
  {
   "cell_type": "code",
   "execution_count": 41,
   "id": "f3136b3f",
   "metadata": {},
   "outputs": [
    {
     "name": "stdout",
     "output_type": "stream",
     "text": [
      "{'name': 'Mug', 'first_tag': ['Home', 'Kitchen'], 'tags': ['Home', 'Kitchen']}\n",
      "\n",
      "{'name': 'Moisturizer', 'first_tag': ['Beauty'], 'tags': ['Beauty']}\n",
      "\n",
      "{'name': 'Pens', 'first_tag': ['Office', 'School'], 'tags': ['Office', 'School']}\n",
      "\n",
      "{'name': 'Face Cleanser', 'first_tag': ['Beauty'], 'tags': ['Beauty']}\n",
      "\n",
      "{'name': 'Concealer Makeup', 'first_tag': ['Beauty'], 'tags': ['Beauty']}\n",
      "\n",
      "{'name': 'Eyeliner', 'first_tag': ['Beauty'], 'tags': ['Beauty']}\n",
      "\n"
     ]
    }
   ],
   "source": [
    "project_cursor = db.products.aggregate([\n",
    "    {\"$project\": {\"_id\": 0, \"name\": 1, \"first_tag\": \"$tags\", \"tags\": \"$tags\"}}\n",
    "])\n",
    "print_cursor(project_cursor)"
   ]
  },
  {
   "cell_type": "markdown",
   "id": "99b05fe0",
   "metadata": {},
   "source": [
    "### unwind"
   ]
  },
  {
   "cell_type": "code",
   "execution_count": 42,
   "id": "c942b0ed",
   "metadata": {
    "scrolled": true
   },
   "outputs": [
    {
     "name": "stdout",
     "output_type": "stream",
     "text": [
      "{'name': 'Mug', 'tags': 'Home'}\n",
      "\n",
      "{'name': 'Mug', 'tags': 'Kitchen'}\n",
      "\n",
      "{'name': 'Moisturizer', 'tags': 'Beauty'}\n",
      "\n",
      "{'name': 'Pens', 'tags': 'Office'}\n",
      "\n",
      "{'name': 'Pens', 'tags': 'School'}\n",
      "\n",
      "{'name': 'Face Cleanser', 'tags': 'Beauty'}\n",
      "\n",
      "{'name': 'Concealer Makeup', 'tags': 'Beauty'}\n",
      "\n",
      "{'name': 'Eyeliner', 'tags': 'Beauty'}\n",
      "\n"
     ]
    }
   ],
   "source": [
    "unwind_cursor = db.products.aggregate([\n",
    "    {\"$unwind\": \"$tags\"},\n",
    "    {\"$unset\": [\"_id\", \"seller_id\"]}\n",
    "])\n",
    "print_cursor(unwind_cursor)"
   ]
  },
  {
   "cell_type": "code",
   "execution_count": 45,
   "id": "cebbdf80",
   "metadata": {
    "scrolled": true
   },
   "outputs": [
    {
     "name": "stdout",
     "output_type": "stream",
     "text": [
      "{'_id': ObjectId('642d06472c53af7ae4ee5b8d'), 'items': {'product_id': ObjectId('642d06472c53af7ae4ee5b88'), 'quantity': 1}}\n",
      "\n",
      "{'_id': ObjectId('642d06472c53af7ae4ee5b8d'), 'items': {'product_id': ObjectId('642d06472c53af7ae4ee5b8a'), 'quantity': 1}}\n",
      "\n",
      "{'_id': ObjectId('642d06472c53af7ae4ee5b8e'), 'items': {'product_id': ObjectId('642d06472c53af7ae4ee5b8b'), 'quantity': 1}}\n",
      "\n",
      "{'_id': ObjectId('642d06472c53af7ae4ee5b8e'), 'items': {'product_id': ObjectId('642d06472c53af7ae4ee5b8c'), 'quantity': 1}}\n",
      "\n",
      "{'_id': ObjectId('642d06472c53af7ae4ee5b8f'), 'items': {'product_id': ObjectId('642d06472c53af7ae4ee5b89'), 'quantity': 5}}\n",
      "\n",
      "{'_id': ObjectId('642d06472c53af7ae4ee5b8f'), 'items': {'product_id': ObjectId('642d06472c53af7ae4ee5b87'), 'quantity': 1}}\n",
      "\n",
      "{'_id': ObjectId('642d06472c53af7ae4ee5b90'), 'items': {'product_id': ObjectId('642d06472c53af7ae4ee5b88'), 'quantity': 2}}\n",
      "\n",
      "{'_id': ObjectId('642d06472c53af7ae4ee5b90'), 'items': {'product_id': ObjectId('642d06472c53af7ae4ee5b8c'), 'quantity': 1}}\n",
      "\n",
      "{'_id': ObjectId('642d06472c53af7ae4ee5b91'), 'items': {'product_id': ObjectId('642d06472c53af7ae4ee5b88'), 'quantity': 1}}\n",
      "\n",
      "{'_id': ObjectId('642d06472c53af7ae4ee5b92'), 'items': {'product_id': ObjectId('642d06472c53af7ae4ee5b8a'), 'quantity': 1}}\n",
      "\n"
     ]
    }
   ],
   "source": [
    "unwind_cursor = db.orders.aggregate([\n",
    "    {\"$unwind\": \"$items\"}\n",
    "])\n",
    "print_cursor(unwind_cursor)"
   ]
  },
  {
   "cell_type": "code",
   "execution_count": 47,
   "id": "ed6ed09d",
   "metadata": {},
   "outputs": [
    {
     "name": "stdout",
     "output_type": "stream",
     "text": [
      "{'name': 'Mug', 'tags': 'Home', 'tag_index': 0}\n",
      "\n",
      "{'name': 'Mug', 'tags': 'Kitchen', 'tag_index': 1}\n",
      "\n",
      "{'name': 'Pens', 'tags': 'Office', 'tag_index': 0}\n",
      "\n",
      "{'name': 'Pens', 'tags': 'School', 'tag_index': 1}\n",
      "\n"
     ]
    }
   ],
   "source": [
    "unwind_cursor = db.products.aggregate([\n",
    "    {\"$match\": {\"tags\": {\"$size\": 2}}},\n",
    "    {\"$unwind\": {\"path\": \"$tags\", \"includeArrayIndex\": \"tag_index\"}},\n",
    "    {\"$unset\": [\"_id\", \"seller_id\"]}\n",
    "])\n",
    "print_cursor(unwind_cursor)"
   ]
  },
  {
   "cell_type": "markdown",
   "id": "6954e1c8",
   "metadata": {},
   "source": [
    "### group"
   ]
  },
  {
   "cell_type": "code",
   "execution_count": 48,
   "id": "e22defd5",
   "metadata": {},
   "outputs": [
    {
     "name": "stdout",
     "output_type": "stream",
     "text": [
      "{'_id': ['Beauty']}\n",
      "\n",
      "{'_id': ['Office', 'School']}\n",
      "\n",
      "{'_id': ['Home', 'Kitchen']}\n",
      "\n"
     ]
    }
   ],
   "source": [
    "group_cursor = db.products.aggregate([\n",
    "    {\"$group\": {\"_id\": \"$tags\"}}\n",
    "])\n",
    "print_cursor(group_cursor)"
   ]
  },
  {
   "cell_type": "code",
   "execution_count": 49,
   "id": "3ca0b6ea",
   "metadata": {},
   "outputs": [
    {
     "name": "stdout",
     "output_type": "stream",
     "text": [
      "{'_id': 'Beauty'}\n",
      "\n",
      "{'_id': 'Kitchen'}\n",
      "\n",
      "{'_id': 'Office'}\n",
      "\n",
      "{'_id': 'Home'}\n",
      "\n",
      "{'_id': 'School'}\n",
      "\n"
     ]
    }
   ],
   "source": [
    "group_cursor = db.products.aggregate([\n",
    "    {\"$unwind\": \"$tags\"},\n",
    "    {\"$group\": {\"_id\": \"$tags\"}}\n",
    "])\n",
    "print_cursor(group_cursor)"
   ]
  },
  {
   "cell_type": "markdown",
   "id": "af77be3a",
   "metadata": {},
   "source": [
    "### count (accumulator operator)"
   ]
  },
  {
   "cell_type": "code",
   "execution_count": 50,
   "id": "25c68369",
   "metadata": {},
   "outputs": [
    {
     "name": "stdout",
     "output_type": "stream",
     "text": [
      "{'_id': 'Beauty', 'num_entries': 4}\n",
      "\n",
      "{'_id': 'Kitchen', 'num_entries': 1}\n",
      "\n",
      "{'_id': 'Office', 'num_entries': 1}\n",
      "\n",
      "{'_id': 'Home', 'num_entries': 1}\n",
      "\n",
      "{'_id': 'School', 'num_entries': 1}\n",
      "\n"
     ]
    }
   ],
   "source": [
    "group_cursor = db.products.aggregate([\n",
    "    {\"$unwind\": \"$tags\"},\n",
    "    {\"$group\": {\"_id\": \"$tags\", \"num_entries\": {\"$count\": {}}}}\n",
    "])\n",
    "print_cursor(group_cursor)"
   ]
  },
  {
   "cell_type": "markdown",
   "id": "ef06e6d8",
   "metadata": {},
   "source": [
    "### sum (accumulator operator)"
   ]
  },
  {
   "cell_type": "code",
   "execution_count": 52,
   "id": "2a32e95b",
   "metadata": {},
   "outputs": [
    {
     "name": "stdout",
     "output_type": "stream",
     "text": [
      "{'_id': ObjectId('642d06472c53af7ae4ee5b8d'), 'items': [{'product_id': ObjectId('642d06472c53af7ae4ee5b88'), 'quantity': 1}, {'product_id': ObjectId('642d06472c53af7ae4ee5b8a'), 'quantity': 1}]}\n",
      "\n",
      "{'_id': ObjectId('642d06472c53af7ae4ee5b8e'), 'items': [{'product_id': ObjectId('642d06472c53af7ae4ee5b8b'), 'quantity': 1}, {'product_id': ObjectId('642d06472c53af7ae4ee5b8c'), 'quantity': 1}]}\n",
      "\n",
      "{'_id': ObjectId('642d06472c53af7ae4ee5b8f'), 'items': [{'product_id': ObjectId('642d06472c53af7ae4ee5b89'), 'quantity': 5}, {'product_id': ObjectId('642d06472c53af7ae4ee5b87'), 'quantity': 1}]}\n",
      "\n",
      "{'_id': ObjectId('642d06472c53af7ae4ee5b90'), 'items': [{'product_id': ObjectId('642d06472c53af7ae4ee5b88'), 'quantity': 2}, {'product_id': ObjectId('642d06472c53af7ae4ee5b8c'), 'quantity': 1}]}\n",
      "\n",
      "{'_id': ObjectId('642d06472c53af7ae4ee5b91'), 'items': [{'product_id': ObjectId('642d06472c53af7ae4ee5b88'), 'quantity': 1}]}\n",
      "\n",
      "{'_id': ObjectId('642d06472c53af7ae4ee5b92'), 'items': [{'product_id': ObjectId('642d06472c53af7ae4ee5b8a'), 'quantity': 1}]}\n",
      "\n"
     ]
    }
   ],
   "source": [
    "print_cursor(db.orders.find({}))"
   ]
  },
  {
   "cell_type": "code",
   "execution_count": 51,
   "id": "f44f4ece",
   "metadata": {},
   "outputs": [
    {
     "name": "stdout",
     "output_type": "stream",
     "text": [
      "{'_id': ObjectId('642d06472c53af7ae4ee5b89'), 'total_quantity': 5}\n",
      "\n",
      "{'_id': ObjectId('642d06472c53af7ae4ee5b8a'), 'total_quantity': 2}\n",
      "\n",
      "{'_id': ObjectId('642d06472c53af7ae4ee5b8b'), 'total_quantity': 1}\n",
      "\n",
      "{'_id': ObjectId('642d06472c53af7ae4ee5b87'), 'total_quantity': 1}\n",
      "\n",
      "{'_id': ObjectId('642d06472c53af7ae4ee5b8c'), 'total_quantity': 2}\n",
      "\n",
      "{'_id': ObjectId('642d06472c53af7ae4ee5b88'), 'total_quantity': 4}\n",
      "\n"
     ]
    }
   ],
   "source": [
    "group_cursor = db.orders.aggregate([\n",
    "    {\"$unwind\": \"$items\"},\n",
    "    {\"$group\": {\"_id\": \"$items.product_id\", \"total_quantity\": {\"$sum\": \"$items.quantity\"}}}\n",
    "])\n",
    "print_cursor(group_cursor)"
   ]
  },
  {
   "cell_type": "markdown",
   "id": "4a5e6b81",
   "metadata": {},
   "source": [
    "### first, last (accumulator operators)"
   ]
  },
  {
   "cell_type": "code",
   "execution_count": 53,
   "id": "74c0d5f5",
   "metadata": {
    "scrolled": true
   },
   "outputs": [
    {
     "name": "stdout",
     "output_type": "stream",
     "text": [
      "{'_id': ['Home', 'Kitchen'], 'num_entries': 1, 'first': 'Mug', 'last': 'Mug'}\n",
      "\n",
      "{'_id': ['Office', 'School'], 'num_entries': 1, 'first': 'Pens', 'last': 'Pens'}\n",
      "\n",
      "{'_id': ['Beauty'], 'num_entries': 4, 'first': 'Moisturizer', 'last': 'Eyeliner'}\n",
      "\n"
     ]
    }
   ],
   "source": [
    "group_cursor = db.products.aggregate([\n",
    "    {\"$group\": {\"_id\": \"$tags\", \"num_entries\": {\"$count\": {}}, \"first\": {\"$first\": \"$name\"}, \"last\": {\"$last\": \"$name\"}}}\n",
    "])\n",
    "print_cursor(group_cursor)"
   ]
  },
  {
   "cell_type": "markdown",
   "id": "cd9e8b20",
   "metadata": {},
   "source": [
    "### push (accumulator operator)"
   ]
  },
  {
   "cell_type": "code",
   "execution_count": 54,
   "id": "23ffa7cf",
   "metadata": {
    "scrolled": true
   },
   "outputs": [
    {
     "name": "stdout",
     "output_type": "stream",
     "text": [
      "{'_id': ['Beauty'], 'products': ['Moisturizer', 'Face Cleanser', 'Concealer Makeup', 'Eyeliner']}\n",
      "\n",
      "{'_id': ['Home', 'Kitchen'], 'products': ['Mug']}\n",
      "\n",
      "{'_id': ['Office', 'School'], 'products': ['Pens']}\n",
      "\n"
     ]
    }
   ],
   "source": [
    "group_cursor = db.products.aggregate([\n",
    "    {\"$group\": {\"_id\": \"$tags\", \"products\": {\"$push\": \"$name\"}}}\n",
    "])\n",
    "print_cursor(group_cursor)"
   ]
  },
  {
   "cell_type": "markdown",
   "id": "75924562",
   "metadata": {},
   "source": [
    "### addToSet (accumulator operator)"
   ]
  },
  {
   "cell_type": "code",
   "execution_count": 55,
   "id": "82bc7163",
   "metadata": {},
   "outputs": [
    {
     "name": "stdout",
     "output_type": "stream",
     "text": [
      "{'_id': ['Beauty'], 'products': ['Eyeliner', 'Concealer Makeup', 'Moisturizer', 'Face Cleanser']}\n",
      "\n",
      "{'_id': ['Home', 'Kitchen'], 'products': ['Mug']}\n",
      "\n",
      "{'_id': ['Office', 'School'], 'products': ['Pens']}\n",
      "\n"
     ]
    }
   ],
   "source": [
    "group_cursor = db.products.aggregate([\n",
    "    {\"$group\": {\"_id\": \"$tags\", \"products\": {\"$addToSet\": \"$name\"}}}\n",
    "])\n",
    "print_cursor(group_cursor)"
   ]
  },
  {
   "cell_type": "markdown",
   "id": "6220eb7d",
   "metadata": {},
   "source": [
    "### $$ROOT (system variable)\n",
    "References the root document, i.e. the top-level document."
   ]
  },
  {
   "cell_type": "code",
   "execution_count": 56,
   "id": "1117918b",
   "metadata": {},
   "outputs": [
    {
     "name": "stdout",
     "output_type": "stream",
     "text": [
      "{'_id': ['Home', 'Kitchen'], 'products': [{'_id': ObjectId('642d06472c53af7ae4ee5b87'), 'name': 'Mug', 'seller_id': ObjectId('642d06472c53af7ae4ee5b81'), 'tags': ['Home', 'Kitchen']}]}\n",
      "\n",
      "{'_id': ['Office', 'School'], 'products': [{'_id': ObjectId('642d06472c53af7ae4ee5b89'), 'name': 'Pens', 'seller_id': ObjectId('642d06472c53af7ae4ee5b82'), 'tags': ['Office', 'School']}]}\n",
      "\n",
      "{'_id': ['Beauty'], 'products': [{'_id': ObjectId('642d06472c53af7ae4ee5b8b'), 'name': 'Concealer Makeup', 'seller_id': ObjectId('642d06472c53af7ae4ee5b84'), 'tags': ['Beauty']}, {'_id': ObjectId('642d06472c53af7ae4ee5b8c'), 'name': 'Eyeliner', 'seller_id': ObjectId('642d06472c53af7ae4ee5b85'), 'tags': ['Beauty']}, {'_id': ObjectId('642d06472c53af7ae4ee5b88'), 'name': 'Moisturizer', 'seller_id': ObjectId('642d06472c53af7ae4ee5b81'), 'tags': ['Beauty']}, {'_id': ObjectId('642d06472c53af7ae4ee5b8a'), 'name': 'Face Cleanser', 'seller_id': ObjectId('642d06472c53af7ae4ee5b81'), 'tags': ['Beauty']}]}\n",
      "\n"
     ]
    }
   ],
   "source": [
    "group_cursor = db.products.aggregate([\n",
    "    {\"$group\": {\"_id\": \"$tags\", \"products\": {\"$addToSet\": \"$$ROOT\"}}}\n",
    "])\n",
    "print_cursor(group_cursor)"
   ]
  },
  {
   "cell_type": "markdown",
   "id": "d00feccb",
   "metadata": {},
   "source": [
    "### addFields"
   ]
  },
  {
   "cell_type": "code",
   "execution_count": 58,
   "id": "a0efbe48",
   "metadata": {},
   "outputs": [
    {
     "name": "stdout",
     "output_type": "stream",
     "text": [
      "{'_id': ObjectId('642d06472c53af7ae4ee5b89'), 'name': 'Pens', 'seller_id': ObjectId('642d06472c53af7ae4ee5b82'), 'tags': ['Office', 'School'], 'my_new_field': 'hi there', 'num_tags': 2}\n",
      "\n"
     ]
    }
   ],
   "source": [
    "add_fields_cursor = db.products.aggregate([\n",
    "    {\"$match\": {\"name\": \"Pens\"}},\n",
    "    {\"$addFields\": {\"my_new_field\": \"hi there\", \"num_tags\": {\"$size\": \"$tags\"}}}\n",
    "])\n",
    "\n",
    "print_cursor(add_fields_cursor)"
   ]
  },
  {
   "cell_type": "markdown",
   "id": "72f9c175",
   "metadata": {},
   "source": [
    "### sample"
   ]
  },
  {
   "cell_type": "code",
   "execution_count": 59,
   "id": "ae367162",
   "metadata": {},
   "outputs": [
    {
     "name": "stdout",
     "output_type": "stream",
     "text": [
      "{'name': 'Pens', 'tags': ['Office', 'School']}\n",
      "\n",
      "{'name': 'Face Cleanser', 'tags': ['Beauty']}\n",
      "\n",
      "{'name': 'Mug', 'tags': ['Home', 'Kitchen']}\n",
      "\n"
     ]
    }
   ],
   "source": [
    "sample_cursor = db.products.aggregate([\n",
    "    {\"$sample\": {\"size\": 3}},\n",
    "    {\"$unset\": [\"_id\", \"seller_id\"]}\n",
    "])\n",
    "\n",
    "print_cursor(sample_cursor)"
   ]
  },
  {
   "cell_type": "markdown",
   "id": "5a04344d",
   "metadata": {},
   "source": [
    "### lookup"
   ]
  },
  {
   "cell_type": "code",
   "execution_count": 60,
   "id": "29fb26d5",
   "metadata": {},
   "outputs": [
    {
     "name": "stdout",
     "output_type": "stream",
     "text": [
      "{'_id': ObjectId('642d06472c53af7ae4ee5b87'), 'name': 'Mug', 'seller_id': ObjectId('642d06472c53af7ae4ee5b81'), 'tags': ['Home', 'Kitchen'], 'sellers': [{'_id': ObjectId('642d06472c53af7ae4ee5b81'), 'name': 'Sarah'}]}\n",
      "\n",
      "{'_id': ObjectId('642d06472c53af7ae4ee5b88'), 'name': 'Moisturizer', 'seller_id': ObjectId('642d06472c53af7ae4ee5b81'), 'tags': ['Beauty'], 'sellers': [{'_id': ObjectId('642d06472c53af7ae4ee5b81'), 'name': 'Sarah'}]}\n",
      "\n",
      "{'_id': ObjectId('642d06472c53af7ae4ee5b89'), 'name': 'Pens', 'seller_id': ObjectId('642d06472c53af7ae4ee5b82'), 'tags': ['Office', 'School'], 'sellers': [{'_id': ObjectId('642d06472c53af7ae4ee5b82'), 'name': 'Bob'}]}\n",
      "\n",
      "{'_id': ObjectId('642d06472c53af7ae4ee5b8a'), 'name': 'Face Cleanser', 'seller_id': ObjectId('642d06472c53af7ae4ee5b81'), 'tags': ['Beauty'], 'sellers': [{'_id': ObjectId('642d06472c53af7ae4ee5b81'), 'name': 'Sarah'}]}\n",
      "\n",
      "{'_id': ObjectId('642d06472c53af7ae4ee5b8b'), 'name': 'Concealer Makeup', 'seller_id': ObjectId('642d06472c53af7ae4ee5b84'), 'tags': ['Beauty'], 'sellers': [{'_id': ObjectId('642d06472c53af7ae4ee5b84'), 'name': 'Lisa'}]}\n",
      "\n",
      "{'_id': ObjectId('642d06472c53af7ae4ee5b8c'), 'name': 'Eyeliner', 'seller_id': ObjectId('642d06472c53af7ae4ee5b85'), 'tags': ['Beauty'], 'sellers': [{'_id': ObjectId('642d06472c53af7ae4ee5b85'), 'name': 'Jessica'}]}\n",
      "\n"
     ]
    }
   ],
   "source": [
    "lookup_cursor = db.products.aggregate([\n",
    "    {\"$lookup\": {\n",
    "        \"from\": \"users\",\n",
    "        \"localField\": \"seller_id\",\n",
    "        \"foreignField\": \"_id\",\n",
    "        \"as\": \"sellers\"\n",
    "    }}\n",
    "])\n",
    "\n",
    "print_cursor(lookup_cursor)"
   ]
  },
  {
   "cell_type": "code",
   "execution_count": 61,
   "id": "7cc5a905",
   "metadata": {},
   "outputs": [
    {
     "name": "stdout",
     "output_type": "stream",
     "text": [
      "{'product_name': 'Mug', 'seller_name': 'Sarah'}\n",
      "\n",
      "{'product_name': 'Moisturizer', 'seller_name': 'Sarah'}\n",
      "\n",
      "{'product_name': 'Pens', 'seller_name': 'Bob'}\n",
      "\n",
      "{'product_name': 'Face Cleanser', 'seller_name': 'Sarah'}\n",
      "\n",
      "{'product_name': 'Concealer Makeup', 'seller_name': 'Lisa'}\n",
      "\n",
      "{'product_name': 'Eyeliner', 'seller_name': 'Jessica'}\n",
      "\n"
     ]
    }
   ],
   "source": [
    "lookup_cursor = db.products.aggregate([\n",
    "    {\"$lookup\": {\n",
    "        \"from\": \"users\",\n",
    "        \"localField\": \"seller_id\",\n",
    "        \"foreignField\": \"_id\",\n",
    "        \"as\": \"sellers\"\n",
    "    }},\n",
    "    {\"$project\": {\"_id\": 0, \"product_name\": \"$name\", \"seller_name\": {\"$first\": \"$sellers.name\"}}}\n",
    "])\n",
    "\n",
    "print_cursor(lookup_cursor)"
   ]
  },
  {
   "cell_type": "code",
   "execution_count": 63,
   "id": "9be072e3",
   "metadata": {},
   "outputs": [
    {
     "name": "stdout",
     "output_type": "stream",
     "text": [
      "{'seller_name': 'Sarah', 'products': ['Mug', 'Moisturizer', 'Face Cleanser']}\n",
      "\n",
      "{'seller_name': 'Bob', 'products': ['Pens']}\n",
      "\n",
      "{'seller_name': 'Jose', 'products': []}\n",
      "\n",
      "{'seller_name': 'Lisa', 'products': ['Concealer Makeup']}\n",
      "\n",
      "{'seller_name': 'Jessica', 'products': ['Eyeliner']}\n",
      "\n",
      "{'seller_name': 'Tina', 'products': []}\n",
      "\n"
     ]
    }
   ],
   "source": [
    "lookup_cursor = db.users.aggregate([\n",
    "    {\"$lookup\": {\n",
    "        \"from\": \"products\",\n",
    "        \"localField\": \"_id\",\n",
    "        \"foreignField\": \"seller_id\",\n",
    "        \"as\": \"products\"\n",
    "    }},\n",
    "    {\"$project\": {\"_id\": 0, \"seller_name\": \"$name\", \"products\": \"$products.name\"}}\n",
    "])\n",
    "\n",
    "print_cursor(lookup_cursor)"
   ]
  },
  {
   "cell_type": "code",
   "execution_count": 64,
   "id": "4de26c0e",
   "metadata": {
    "scrolled": true
   },
   "outputs": [
    {
     "name": "stdout",
     "output_type": "stream",
     "text": [
      "{'seller_name': 'Sarah', 'products': ['Mug', 'Moisturizer', 'Face Cleanser']}\n",
      "\n",
      "{'seller_name': 'Bob', 'products': ['Pens']}\n",
      "\n",
      "{'seller_name': 'Lisa', 'products': ['Concealer Makeup']}\n",
      "\n",
      "{'seller_name': 'Jessica', 'products': ['Eyeliner']}\n",
      "\n"
     ]
    }
   ],
   "source": [
    "lookup_cursor = db.users.aggregate([\n",
    "    {\"$lookup\": {\n",
    "        \"from\": \"products\",\n",
    "        \"localField\": \"_id\",\n",
    "        \"foreignField\": \"seller_id\",\n",
    "        \"as\": \"products\"\n",
    "    }},\n",
    "    {\"$addFields\": {\"num_products\": {\"$size\": \"$products\"}}},\n",
    "    {\"$match\": {\"num_products\": {\"$gte\": 1}}},\n",
    "    {\"$project\": {\"_id\": 0, \"seller_name\": \"$name\", \"products\": \"$products.name\"}}\n",
    "])\n",
    "\n",
    "print_cursor(lookup_cursor)"
   ]
  },
  {
   "cell_type": "code",
   "execution_count": 68,
   "id": "34264244",
   "metadata": {},
   "outputs": [
    {
     "name": "stdout",
     "output_type": "stream",
     "text": [
      "{'seller_name': 'Lisa', 'products': ['Concealer Makeup']}\n",
      "\n",
      "{'seller_name': 'Jessica', 'products': ['Eyeliner']}\n",
      "\n",
      "{'seller_name': 'Sarah', 'products': ['Mug', 'Moisturizer', 'Face Cleanser']}\n",
      "\n",
      "{'seller_name': 'Bob', 'products': ['Pens']}\n",
      "\n"
     ]
    }
   ],
   "source": [
    "lookup_cursor = db.products.aggregate([\n",
    "    {\"$group\": {\"_id\": \"$seller_id\", \"product_name\": {\"$push\": \"$name\"}}},\n",
    "    {\"$lookup\": {\n",
    "        \"from\": \"users\",\n",
    "        \"localField\": \"_id\",\n",
    "        \"foreignField\": \"_id\",\n",
    "        \"as\": \"sellers\"\n",
    "    }},\n",
    "    {\"$project\": {\"_id\": 0, \"seller_name\": {\"$first\": \"$sellers.name\"}, \"products\": \"$product_name\"}}\n",
    "])\n",
    "\n",
    "print_cursor(lookup_cursor)"
   ]
  },
  {
   "cell_type": "markdown",
   "id": "01faa143",
   "metadata": {},
   "source": [
    "### unionWith"
   ]
  },
  {
   "cell_type": "code",
   "execution_count": 69,
   "id": "4bd2adc4",
   "metadata": {},
   "outputs": [
    {
     "name": "stdout",
     "output_type": "stream",
     "text": [
      "{'_id': ObjectId('642d06472c53af7ae4ee5b87'), 'name': 'Mug', 'seller_id': ObjectId('642d06472c53af7ae4ee5b81'), 'tags': ['Home', 'Kitchen']}\n",
      "\n",
      "{'_id': ObjectId('642d06472c53af7ae4ee5b88'), 'name': 'Moisturizer', 'seller_id': ObjectId('642d06472c53af7ae4ee5b81'), 'tags': ['Beauty']}\n",
      "\n",
      "{'_id': ObjectId('642d06472c53af7ae4ee5b89'), 'name': 'Pens', 'seller_id': ObjectId('642d06472c53af7ae4ee5b82'), 'tags': ['Office', 'School']}\n",
      "\n",
      "{'_id': ObjectId('642d06472c53af7ae4ee5b8a'), 'name': 'Face Cleanser', 'seller_id': ObjectId('642d06472c53af7ae4ee5b81'), 'tags': ['Beauty']}\n",
      "\n",
      "{'_id': ObjectId('642d06472c53af7ae4ee5b8b'), 'name': 'Concealer Makeup', 'seller_id': ObjectId('642d06472c53af7ae4ee5b84'), 'tags': ['Beauty']}\n",
      "\n",
      "{'_id': ObjectId('642d06472c53af7ae4ee5b8c'), 'name': 'Eyeliner', 'seller_id': ObjectId('642d06472c53af7ae4ee5b85'), 'tags': ['Beauty']}\n",
      "\n",
      "{'_id': ObjectId('642d06472c53af7ae4ee5b81'), 'name': 'Sarah'}\n",
      "\n",
      "{'_id': ObjectId('642d06472c53af7ae4ee5b82'), 'name': 'Bob'}\n",
      "\n",
      "{'_id': ObjectId('642d06472c53af7ae4ee5b83'), 'name': 'Jose'}\n",
      "\n",
      "{'_id': ObjectId('642d06472c53af7ae4ee5b84'), 'name': 'Lisa'}\n",
      "\n",
      "{'_id': ObjectId('642d06472c53af7ae4ee5b85'), 'name': 'Jessica'}\n",
      "\n",
      "{'_id': ObjectId('642d06472c53af7ae4ee5b86'), 'name': 'Tina'}\n",
      "\n"
     ]
    }
   ],
   "source": [
    "union_cursor = db.products.aggregate([\n",
    "    {\"$unionWith\": \"users\"}\n",
    "])\n",
    "\n",
    "print_cursor(union_cursor)"
   ]
  },
  {
   "cell_type": "markdown",
   "id": "d2baed3f",
   "metadata": {},
   "source": [
    "### regexMatch (operator)"
   ]
  },
  {
   "cell_type": "code",
   "execution_count": 73,
   "id": "4b632a99",
   "metadata": {},
   "outputs": [
    {
     "name": "stdout",
     "output_type": "stream",
     "text": [
      "{'_id': ObjectId('642d06472c53af7ae4ee5b88'), 'name': 'Moisturizer', 'seller_id': ObjectId('642d06472c53af7ae4ee5b81'), 'tags': ['Beauty']}\n",
      "\n",
      "{'_id': ObjectId('642d06472c53af7ae4ee5b84'), 'name': 'Lisa'}\n",
      "\n"
     ]
    }
   ],
   "source": [
    "user_search = \"IS\"\n",
    "\n",
    "regex_cursor = db.products.aggregate([\n",
    "    {\"$unionWith\": \"users\"},\n",
    "    {\"$addFields\": {\"matched\": {\"$regexMatch\": {\"input\": \"$name\", \"regex\": user_search, \"options\": \"i\"}}}},\n",
    "    {\"$match\": {\"matched\": True}},\n",
    "    {\"$unset\": [\"matched\"]}\n",
    "])\n",
    "\n",
    "print_cursor(regex_cursor)"
   ]
  },
  {
   "cell_type": "markdown",
   "id": "f1797886",
   "metadata": {},
   "source": [
    "### out\n",
    "*Note: You can potentially overwrite all your data in a collection with this stage, use with caution*"
   ]
  },
  {
   "cell_type": "code",
   "execution_count": 74,
   "id": "14c866bd",
   "metadata": {},
   "outputs": [],
   "source": [
    "out_cursor = db.products.aggregate([\n",
    "    {\"$match\": {\"tags\": \"Beauty\"}},\n",
    "    {\"$out\": {\"db\": \"aggregation_test\", \"coll\": \"beauty_products\"}}\n",
    "])\n",
    "\n",
    "print_cursor(out_cursor)"
   ]
  },
  {
   "cell_type": "markdown",
   "id": "4eb91997",
   "metadata": {},
   "source": [
    "### merge\n",
    "*Note: You can potentially overwrite data within a collection with this stage, use with caution*"
   ]
  },
  {
   "cell_type": "code",
   "execution_count": 75,
   "id": "9bd88193",
   "metadata": {},
   "outputs": [],
   "source": [
    "out_cursor = db.products.aggregate([\n",
    "    {\"$match\": {\"tags\": \"Beauty\"}},\n",
    "    {\"$merge\": {\"into\": {\"db\": \"aggregation_test\", \"coll\": \"beauty_products\"}}}\n",
    "])\n",
    "\n",
    "print_cursor(out_cursor)"
   ]
  },
  {
   "cell_type": "code",
   "execution_count": 77,
   "id": "f3284ebe",
   "metadata": {},
   "outputs": [],
   "source": [
    "out_cursor = db.products.aggregate([\n",
    "    {\"$match\": {\"tags\": \"Office\"}},\n",
    "    {\"$project\": {\"test\": \"test\"}},\n",
    "    {\"$merge\": {\n",
    "        \"into\": {\"db\": \"aggregation_test\", \"coll\": \"beauty_products\"},\n",
    "        \"on\": \"_id\", # must specify a indexed attribute\n",
    "        \"whenMatched\": \"replace\",\n",
    "        \"whenNotMatched\": \"discard\" # default: insert, options: discard, fail\n",
    "    }}\n",
    "])\n",
    "\n",
    "print_cursor(out_cursor)"
   ]
  },
  {
   "cell_type": "markdown",
   "id": "a76d749f",
   "metadata": {},
   "source": [
    "### cond (operator)"
   ]
  },
  {
   "cell_type": "code",
   "execution_count": 4,
   "id": "00b3c08f",
   "metadata": {},
   "outputs": [],
   "source": [
    "cond_cursor = db.users.aggregate([\n",
    "    {\"$project\": {\n",
    "        \"_id\": 0,\n",
    "        \"name\": 1,\n",
    "        \"is_bob\": {\n",
    "            \"$cond\": {\n",
    "                \"if\": {\"$eq\": [\"$name\", \"Bob\"]},\n",
    "                \"then\": True,\n",
    "                \"else\": False\n",
    "            }\n",
    "        }\n",
    "    }}\n",
    "])"
   ]
  },
  {
   "cell_type": "code",
   "execution_count": 5,
   "id": "695d2b76",
   "metadata": {},
   "outputs": [
    {
     "name": "stdout",
     "output_type": "stream",
     "text": [
      "{'name': 'Sarah', 'is_bob': False}\n",
      "\n",
      "{'name': 'Bob', 'is_bob': True}\n",
      "\n",
      "{'name': 'Jose', 'is_bob': False}\n",
      "\n",
      "{'name': 'Lisa', 'is_bob': False}\n",
      "\n",
      "{'name': 'Jessica', 'is_bob': False}\n",
      "\n",
      "{'name': 'Tina', 'is_bob': False}\n",
      "\n"
     ]
    }
   ],
   "source": [
    "print_cursor(cond_cursor)"
   ]
  },
  {
   "cell_type": "code",
   "execution_count": 6,
   "id": "46c2d7c3",
   "metadata": {},
   "outputs": [
    {
     "name": "stdout",
     "output_type": "stream",
     "text": [
      "{'name': 'Mug', 'is_beauty_product': False}\n",
      "\n",
      "{'name': 'Moisturizer', 'is_beauty_product': True}\n",
      "\n",
      "{'name': 'Pens', 'is_beauty_product': False}\n",
      "\n",
      "{'name': 'Face Cleanser', 'is_beauty_product': True}\n",
      "\n",
      "{'name': 'Concealer Makeup', 'is_beauty_product': True}\n",
      "\n",
      "{'name': 'Eyeliner', 'is_beauty_product': True}\n",
      "\n"
     ]
    }
   ],
   "source": [
    "cond_cursor = db.products.aggregate([\n",
    "    {\"$project\": {\n",
    "        \"_id\": 0,\n",
    "        \"name\": 1,\n",
    "        \"is_beauty_product\": {\n",
    "            \"$cond\": {\n",
    "                \"if\": {\"$in\": [\"Beauty\", \"$tags\"]},\n",
    "                \"then\": True,\n",
    "                \"else\": False\n",
    "            }\n",
    "        }\n",
    "    }}\n",
    "])\n",
    "\n",
    "print_cursor(cond_cursor)"
   ]
  },
  {
   "cell_type": "markdown",
   "id": "87bf7383",
   "metadata": {},
   "source": [
    "### $$NOW (system variable)"
   ]
  },
  {
   "cell_type": "code",
   "execution_count": 7,
   "id": "4330087a",
   "metadata": {},
   "outputs": [
    {
     "name": "stdout",
     "output_type": "stream",
     "text": [
      "{'name': 'Bob', 'date_joined': datetime.datetime(2023, 4, 6, 22, 49, 45, 876000)}\n",
      "\n"
     ]
    }
   ],
   "source": [
    "cond_cursor = db.users.aggregate([\n",
    "    {\"$match\": {\"name\": \"Bob\"}},\n",
    "    {\"$project\": {\"_id\": 0, \"name\": 1, \"date_joined\": \"$$NOW\"}}\n",
    "])\n",
    "\n",
    "print_cursor(cond_cursor)"
   ]
  },
  {
   "cell_type": "markdown",
   "id": "2a0438c6",
   "metadata": {},
   "source": [
    "### Date Operators"
   ]
  },
  {
   "cell_type": "code",
   "execution_count": 8,
   "id": "4e45bcbd",
   "metadata": {},
   "outputs": [
    {
     "name": "stdout",
     "output_type": "stream",
     "text": [
      "{'name': 'Bob', 'premium_exp_date': datetime.datetime(2023, 4, 13, 22, 52, 33, 399000)}\n",
      "\n"
     ]
    }
   ],
   "source": [
    "date_add_cursor = db.users.aggregate([\n",
    "    {\"$match\": {\"name\": \"Bob\"}},\n",
    "    {\"$addFields\": {\"date_joined\": \"$$NOW\"}},\n",
    "    {\"$project\": {\"_id\": 0, \"name\": 1, \"date_joined\": 1, \"premium_exp_date\": {\n",
    "        \"$dateAdd\": {\"startDate\": \"$date_joined\", \"unit\": \"day\", \"amount\": 7}\n",
    "    }}}\n",
    "])\n",
    "\n",
    "print_cursor(date_add_cursor)"
   ]
  },
  {
   "cell_type": "code",
   "execution_count": 11,
   "id": "f6d5646e",
   "metadata": {},
   "outputs": [
    {
     "name": "stdout",
     "output_type": "stream",
     "text": [
      "{'name': 'Bob', 'date_joined': datetime.datetime(2023, 4, 6, 22, 57, 57, 706000), 'premium_exp_date': datetime.datetime(2023, 4, 20, 22, 57, 57, 706000), 'premium_days_left': 14}\n",
      "\n"
     ]
    }
   ],
   "source": [
    "date_diff_cursor = db.users.aggregate([\n",
    "    {\"$match\": {\"name\": \"Bob\"}},\n",
    "    {\"$addFields\": {\"date_joined\": \"$$NOW\"}},\n",
    "    {\"$project\": {\"_id\": 0, \"name\": 1, \"date_joined\": 1, \"premium_exp_date\": {\n",
    "        \"$dateAdd\": {\"startDate\": \"$date_joined\", \"unit\": \"week\", \"amount\": 2}\n",
    "    }}},\n",
    "    {\"$addFields\": {\"premium_days_left\": {\n",
    "        \"$dateDiff\": {\"startDate\": \"$date_joined\", \"endDate\": \"$premium_exp_date\", \"unit\": \"day\"}\n",
    "    }}}\n",
    "])\n",
    "\n",
    "print_cursor(date_diff_cursor)"
   ]
  },
  {
   "cell_type": "code",
   "execution_count": 12,
   "id": "1f5e0a7f",
   "metadata": {},
   "outputs": [
    {
     "name": "stdout",
     "output_type": "stream",
     "text": [
      "{'name': 'Bob', 'date_joined': datetime.datetime(2023, 4, 6, 23, 0, 5, 98000), 'date_joined_parts': {'year': 2023, 'month': 4, 'day': 6, 'hour': 23, 'minute': 0, 'second': 5, 'millisecond': 98}}\n",
      "\n"
     ]
    }
   ],
   "source": [
    "date_to_part_cursor = db.users.aggregate([\n",
    "    {\"$match\": {\"name\": \"Bob\"}},\n",
    "    {\"$addFields\": {\"date_joined\": \"$$NOW\"}},\n",
    "    {\"$project\": {\"_id\": 0, \"name\": 1, \"date_joined\": 1, \"date_joined_parts\": {\n",
    "        \"$dateToParts\": {\"date\": \"$date_joined\"}\n",
    "    }}}\n",
    "])\n",
    "\n",
    "print_cursor(date_to_part_cursor)"
   ]
  },
  {
   "cell_type": "code",
   "execution_count": 13,
   "id": "5a939c42",
   "metadata": {},
   "outputs": [
    {
     "name": "stdout",
     "output_type": "stream",
     "text": [
      "{'name': 'Bob', 'date_joined': datetime.datetime(2023, 4, 6, 23, 1, 25, 69000), 'date_joined_year': 2023}\n",
      "\n"
     ]
    }
   ],
   "source": [
    "date_year_cursor = db.users.aggregate([\n",
    "    {\"$match\": {\"name\": \"Bob\"}},\n",
    "    {\"$addFields\": {\"date_joined\": \"$$NOW\"}},\n",
    "    {\"$project\": {\"_id\": 0, \"name\": 1, \"date_joined\": 1, \"date_joined_year\": {\n",
    "        \"$year\": \"$date_joined\"\n",
    "    }}}\n",
    "])\n",
    "\n",
    "print_cursor(date_year_cursor)"
   ]
  },
  {
   "cell_type": "markdown",
   "id": "a9cf05d5",
   "metadata": {},
   "source": [
    "### expr (operator)"
   ]
  },
  {
   "cell_type": "code",
   "execution_count": 18,
   "id": "d8ea0d58",
   "metadata": {},
   "outputs": [
    {
     "name": "stdout",
     "output_type": "stream",
     "text": [
      "{'_id': ObjectId('642d06472c53af7ae4ee5b82'), 'name': 'Bob', 'date_joined': datetime.datetime(2023, 4, 6, 23, 22, 8, 12000), 'premium_exp_date': datetime.datetime(2023, 4, 13, 23, 22, 8, 12000), 'premium_days_left': 7}\n",
      "\n"
     ]
    }
   ],
   "source": [
    "### Without Expresion\n",
    "exp_cursor = db.users.aggregate([\n",
    "    {\"$match\": {\"name\": \"Bob\"}},\n",
    "    {\"$addFields\": {\"date_joined\": \"$$NOW\"}},\n",
    "    {\"$addFields\": {\"premium_exp_date\": {\n",
    "        \"$dateAdd\": {\"startDate\": \"$date_joined\", \"unit\": \"day\", \"amount\": 7}\n",
    "    }}},\n",
    "    {\"$addFields\": {\"premium_days_left\": {\n",
    "        \"$dateDiff\": {\"startDate\": \"$date_joined\", \"endDate\": \"$premium_exp_date\", \"unit\": \"day\"}\n",
    "    }}},\n",
    "    {\"$match\": {\"premium_days_left\": {\"$lt\": 10}}}\n",
    "])\n",
    "\n",
    "print_cursor(exp_cursor)"
   ]
  },
  {
   "cell_type": "code",
   "execution_count": 19,
   "id": "45ee546f",
   "metadata": {},
   "outputs": [
    {
     "name": "stdout",
     "output_type": "stream",
     "text": [
      "{'_id': ObjectId('642d06472c53af7ae4ee5b82'), 'name': 'Bob', 'date_joined': datetime.datetime(2023, 4, 6, 23, 25, 22, 60000), 'premium_exp_date': datetime.datetime(2023, 4, 13, 23, 25, 22, 60000)}\n",
      "\n"
     ]
    }
   ],
   "source": [
    "### With Expresion\n",
    "exp_cursor = db.users.aggregate([\n",
    "    {\"$match\": {\"name\": \"Bob\"}},\n",
    "    {\"$addFields\": {\"date_joined\": \"$$NOW\"}},\n",
    "    {\"$addFields\": {\"premium_exp_date\": {\n",
    "        \"$dateAdd\": {\"startDate\": \"$date_joined\", \"unit\": \"day\", \"amount\": 7}\n",
    "    }}},\n",
    "    {\"$match\": {\"$expr\": {\n",
    "        \"$lt\": [{\"$dateDiff\": {\"startDate\": \"$date_joined\", \"endDate\": \"$premium_exp_date\", \"unit\": \"day\"}}, 10]\n",
    "    }}}\n",
    "])\n",
    "\n",
    "print_cursor(exp_cursor)"
   ]
  },
  {
   "cell_type": "markdown",
   "id": "89ba41bd",
   "metadata": {},
   "source": [
    "### ifNull (operator)"
   ]
  },
  {
   "cell_type": "code",
   "execution_count": 25,
   "id": "bef8eaa0",
   "metadata": {},
   "outputs": [
    {
     "name": "stdout",
     "output_type": "stream",
     "text": [
      "{'name': 'Sarah', 'has_premium_exp_date': datetime.datetime(2022, 12, 1, 0, 0)}\n",
      "\n",
      "{'name': 'Bob', 'has_premium_exp_date': datetime.datetime(2023, 4, 30, 0, 0)}\n",
      "\n",
      "{'name': 'Jose', 'has_premium_exp_date': 'Jose'}\n",
      "\n",
      "{'name': 'Lisa', 'has_premium_exp_date': 'Lisa'}\n",
      "\n",
      "{'name': 'Jessica', 'has_premium_exp_date': 'Jessica'}\n",
      "\n",
      "{'name': 'Tina', 'has_premium_exp_date': 'Tina'}\n",
      "\n",
      "{'has_premium_exp_date': False}\n",
      "\n"
     ]
    }
   ],
   "source": [
    "if_null_cursor = db.users.aggregate([\n",
    "    {\"$project\": {\"_id\": 0, \"name\": 1, \"has_premium_exp_date\": {\n",
    "        \"$ifNull\": [\"$premium_exp_date\", \"$name\", False]  # Warks as COALESCE\n",
    "    }}}\n",
    "])\n",
    "\n",
    "print_cursor(if_null_cursor)"
   ]
  },
  {
   "cell_type": "markdown",
   "id": "30186188",
   "metadata": {},
   "source": [
    "### type (operator)"
   ]
  },
  {
   "cell_type": "code",
   "execution_count": 31,
   "id": "c6884052",
   "metadata": {},
   "outputs": [
    {
     "name": "stdout",
     "output_type": "stream",
     "text": [
      "{'name': 'Sarah', 'name_type': 'string', 'premium_exp_date_type': 'date', '_id_type': 'objectId'}\n",
      "\n",
      "{'name': 'Bob', 'name_type': 'string', 'premium_exp_date_type': 'date', '_id_type': 'objectId'}\n",
      "\n",
      "{'name': 'Jose', 'name_type': 'string', 'premium_exp_date_type': 'missing', '_id_type': 'objectId'}\n",
      "\n",
      "{'name': 'Lisa', 'name_type': 'string', 'premium_exp_date_type': 'missing', '_id_type': 'objectId'}\n",
      "\n",
      "{'name': 'Jessica', 'name_type': 'string', 'premium_exp_date_type': 'missing', '_id_type': 'objectId'}\n",
      "\n",
      "{'name': 'Tina', 'name_type': 'string', 'premium_exp_date_type': 'missing', '_id_type': 'objectId'}\n",
      "\n",
      "{'name_type': 'missing', 'premium_exp_date_type': 'missing', '_id_type': 'objectId'}\n",
      "\n"
     ]
    }
   ],
   "source": [
    "type_cursor = db.users.aggregate([\n",
    "    {\"$project\": {\n",
    "        \"_id\": 0, \n",
    "        \"name\": 1, \n",
    "        \"name_type\": {\"$type\": \"$name\"},\n",
    "        \"premium_exp_date_type\": {\"$type\": \"$premium_exp_date\"},\n",
    "        \"_id_type\": {\"$type\": \"$_id\"} \n",
    "    }}\n",
    "])\n",
    "\n",
    "print_cursor(type_cursor)"
   ]
  },
  {
   "cell_type": "markdown",
   "id": "f7dde53c",
   "metadata": {},
   "source": [
    "### switch (operator)"
   ]
  },
  {
   "cell_type": "code",
   "execution_count": 34,
   "id": "4dfbc499",
   "metadata": {},
   "outputs": [
    {
     "name": "stdout",
     "output_type": "stream",
     "text": [
      "{'name': 'Sarah', 'user_account_error': 'Premium Expiration Date Expired'}\n",
      "\n",
      "{'name': 'Bob', 'user_account_error': 'No Errors Found.'}\n",
      "\n",
      "{'name': 'Jose', 'user_account_error': 'Missing Premium Expiration Date'}\n",
      "\n",
      "{'name': 'Lisa', 'user_account_error': 'Missing Premium Expiration Date'}\n",
      "\n",
      "{'name': 'Jessica', 'user_account_error': 'Missing Premium Expiration Date'}\n",
      "\n",
      "{'name': 'Tina', 'user_account_error': 'Missing Premium Expiration Date'}\n",
      "\n",
      "{'user_account_error': 'Missing Name'}\n",
      "\n"
     ]
    }
   ],
   "source": [
    "switch_cursor = db.users.aggregate([\n",
    "    {\"$project\": {\n",
    "        \"_id\": 0, \n",
    "        \"name\": 1, \n",
    "        \"user_account_error\": {\n",
    "            \"$switch\": {\n",
    "                \"branches\": [\n",
    "                    {\"case\": {\"$eq\": [{\"$type\": \"$name\"}, \"missing\"]}, \"then\": \"Missing Name\"},\n",
    "                    {\"case\": {\"$eq\": [{\"$type\": \"$premium_exp_date\"}, \"missing\"]}, \"then\": \"Missing Premium Expiration Date\"},\n",
    "                    {\"case\": {\"$lt\": [\"$premium_exp_date\", \"$$NOW\"]}, \"then\": \"Premium Expiration Date Expired\"}\n",
    "                ],\n",
    "                \"default\": \"No Errors Found.\"\n",
    "            }\n",
    "        }\n",
    "    }\n",
    "}\n",
    "])\n",
    "\n",
    "print_cursor(switch_cursor)"
   ]
  },
  {
   "cell_type": "code",
   "execution_count": null,
   "id": "69adf9da",
   "metadata": {},
   "outputs": [],
   "source": []
  }
 ],
 "metadata": {
  "kernelspec": {
   "display_name": "Python 3 (ipykernel)",
   "language": "python",
   "name": "python3"
  },
  "language_info": {
   "codemirror_mode": {
    "name": "ipython",
    "version": 3
   },
   "file_extension": ".py",
   "mimetype": "text/x-python",
   "name": "python",
   "nbconvert_exporter": "python",
   "pygments_lexer": "ipython3",
   "version": "3.8.16"
  }
 },
 "nbformat": 4,
 "nbformat_minor": 5
}

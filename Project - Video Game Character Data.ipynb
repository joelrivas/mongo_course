{
 "cells": [
  {
   "cell_type": "markdown",
   "id": "a9244d50",
   "metadata": {},
   "source": [
    "# Video Game Character Project\n",
    "\n",
    "## Part I:\n",
    "\n",
    "Apply what you have learned in the previous lectures to insert and find data related to your own video game characters within your MongoDB database"
   ]
  },
  {
   "cell_type": "markdown",
   "id": "27996edf",
   "metadata": {},
   "source": [
    "## Import Dependencies"
   ]
  },
  {
   "cell_type": "code",
   "execution_count": 2,
   "id": "f1b7a3ac",
   "metadata": {},
   "outputs": [],
   "source": [
    "import copy\n",
    "import numpy as np\n",
    "\n",
    "from pymongo import MongoClient"
   ]
  },
  {
   "cell_type": "markdown",
   "id": "9488900b",
   "metadata": {},
   "source": [
    "## Player and Items Python Classes"
   ]
  },
  {
   "cell_type": "code",
   "execution_count": 31,
   "id": "712e01c3",
   "metadata": {},
   "outputs": [],
   "source": [
    "class Player:\n",
    "    def __init__(self, name, max_health, max_energy, items=[]):\n",
    "        self.name = name\n",
    "        self.health = max_health\n",
    "        self.max_health = max_health\n",
    "        self.energy = max_energy\n",
    "        self.max_energy = max_energy\n",
    "        self.items = copy.deepcopy(items)\n",
    "        \n",
    "    def attack(self, player):\n",
    "        energy_cost = 5\n",
    "        \n",
    "        if self.energy >= energy_cost:\n",
    "            attack_strenght = np.random.randint(1,6)\n",
    "            player.health -= attack_strenght\n",
    "            self.energy -= energy_cost\n",
    "            print(\"{} attacked {} for {} damage\".format(self.name, player.name, attack_strenght))\n",
    "        else:\n",
    "            print(\"{} does not have enough energy to attack {}\".format(self.name, player.name))\n",
    "            \n",
    "    def heal(self, amount):\n",
    "        self.health += amount\n",
    "        \n",
    "        if self.health > self.max_health:\n",
    "            self.health = self.max_health\n",
    "            \n",
    "    def stats(self):\n",
    "        return vars(self)\n",
    "    \n",
    "    def use_item(self, item_name):\n",
    "        try:\n",
    "            item = next(item for item in self.items if item.name == item_name)\n",
    "            item.quantity -= 1\n",
    "            \n",
    "            for effect in item.effects:\n",
    "                for method, value in effect.items():\n",
    "                    class_method = getattr(self, method)\n",
    "                    class_method(value)\n",
    "            \n",
    "            if item.quantity == 0:\n",
    "                self.items.remove(item)\n",
    "        except:\n",
    "            print(\"{} does not have any {}s\".format(self.name, item_name))"
   ]
  },
  {
   "cell_type": "code",
   "execution_count": 4,
   "id": "a1228fd1",
   "metadata": {},
   "outputs": [],
   "source": [
    "class Item:\n",
    "    def __init__(self, name, quantity, effects = []):\n",
    "        self.name = name\n",
    "        self.quantity = quantity\n",
    "        self.effects = effects\n",
    "        \n",
    "    def __repr__(self):\n",
    "        return \"Item(name={}, quantity={}, effects={})\".format(self.name, self.quantity, self.effects)"
   ]
  },
  {
   "cell_type": "markdown",
   "id": "f8fe2774",
   "metadata": {},
   "source": [
    "# Playground Area\n",
    "\n",
    "Feel free to play around with the Player and Item classes defined above to feel for how they work."
   ]
  },
  {
   "cell_type": "code",
   "execution_count": 15,
   "id": "a13b890b",
   "metadata": {},
   "outputs": [],
   "source": [
    "# Example usega of Item:\n",
    "potion = Item(\"health_potion\", 2, [{\"heal\": 10}])"
   ]
  },
  {
   "cell_type": "code",
   "execution_count": 16,
   "id": "b530280f",
   "metadata": {},
   "outputs": [
    {
     "data": {
      "text/plain": [
       "Item(name=health_potion, quantity=2, effects=[{'heal': 10}])"
      ]
     },
     "execution_count": 16,
     "metadata": {},
     "output_type": "execute_result"
    }
   ],
   "source": [
    "potion"
   ]
  },
  {
   "cell_type": "code",
   "execution_count": 32,
   "id": "c182ebe2",
   "metadata": {},
   "outputs": [],
   "source": [
    "player1 = Player(\"player1\", 50, 25, [potion])"
   ]
  },
  {
   "cell_type": "code",
   "execution_count": 33,
   "id": "4edd005e",
   "metadata": {},
   "outputs": [
    {
     "data": {
      "text/plain": [
       "{'name': 'player1',\n",
       " 'health': 50,\n",
       " 'max_health': 50,\n",
       " 'energy': 25,\n",
       " 'max_energy': 25,\n",
       " 'items': [Item(name=health_potion, quantity=2, effects=[{'heal': 10}])]}"
      ]
     },
     "execution_count": 33,
     "metadata": {},
     "output_type": "execute_result"
    }
   ],
   "source": [
    "player1.stats()"
   ]
  },
  {
   "cell_type": "code",
   "execution_count": 34,
   "id": "2a6ca553",
   "metadata": {},
   "outputs": [
    {
     "data": {
      "text/plain": [
       "{'name': 'player1',\n",
       " 'health': 40,\n",
       " 'max_health': 50,\n",
       " 'energy': 25,\n",
       " 'max_energy': 25,\n",
       " 'items': [Item(name=health_potion, quantity=2, effects=[{'heal': 10}])]}"
      ]
     },
     "execution_count": 34,
     "metadata": {},
     "output_type": "execute_result"
    }
   ],
   "source": [
    "player1.health = 40\n",
    "player1.stats()"
   ]
  },
  {
   "cell_type": "code",
   "execution_count": 35,
   "id": "1daf086e",
   "metadata": {},
   "outputs": [
    {
     "data": {
      "text/plain": [
       "{'name': 'player1',\n",
       " 'health': 50,\n",
       " 'max_health': 50,\n",
       " 'energy': 25,\n",
       " 'max_energy': 25,\n",
       " 'items': [Item(name=health_potion, quantity=1, effects=[{'heal': 10}])]}"
      ]
     },
     "execution_count": 35,
     "metadata": {},
     "output_type": "execute_result"
    }
   ],
   "source": [
    "player1.use_item(\"health_potion\")\n",
    "player1.stats()"
   ]
  },
  {
   "cell_type": "code",
   "execution_count": 36,
   "id": "b2ea797d",
   "metadata": {},
   "outputs": [
    {
     "data": {
      "text/plain": [
       "{'name': 'player2',\n",
       " 'health': 60,\n",
       " 'max_health': 60,\n",
       " 'energy': 35,\n",
       " 'max_energy': 35,\n",
       " 'items': [Item(name=greater_healing_potion, quantity=2, effects=[{'heal': 25}])]}"
      ]
     },
     "execution_count": 36,
     "metadata": {},
     "output_type": "execute_result"
    }
   ],
   "source": [
    "player2_items = [Item(\"greater_healing_potion\", 2, [{\"heal\": 25}])]\n",
    "player2 = Player(\"player2\", 60, 35, player2_items)\n",
    "player2.stats()"
   ]
  },
  {
   "cell_type": "code",
   "execution_count": 37,
   "id": "b4a249be",
   "metadata": {},
   "outputs": [
    {
     "name": "stdout",
     "output_type": "stream",
     "text": [
      "player1 attacked player2 for 3 damage\n"
     ]
    }
   ],
   "source": [
    "player1.attack(player2)"
   ]
  },
  {
   "cell_type": "code",
   "execution_count": 38,
   "id": "cf7ed4fe",
   "metadata": {},
   "outputs": [
    {
     "data": {
      "text/plain": [
       "{'name': 'player2',\n",
       " 'health': 57,\n",
       " 'max_health': 60,\n",
       " 'energy': 35,\n",
       " 'max_energy': 35,\n",
       " 'items': [Item(name=greater_healing_potion, quantity=2, effects=[{'heal': 25}])]}"
      ]
     },
     "execution_count": 38,
     "metadata": {},
     "output_type": "execute_result"
    }
   ],
   "source": [
    "player2.stats()"
   ]
  },
  {
   "cell_type": "markdown",
   "id": "3fbbfc0c",
   "metadata": {},
   "source": [
    "# Project Instructions"
   ]
  },
  {
   "cell_type": "code",
   "execution_count": 39,
   "id": "c750698e",
   "metadata": {},
   "outputs": [],
   "source": [
    "# 1) Initalize a MongoDB Client Object to connect to your database with\n",
    "client = MongoClient(\"mongodb://localhost:27017/\")\n",
    "db = client[\"video_game\"]"
   ]
  },
  {
   "cell_type": "code",
   "execution_count": 44,
   "id": "9a719562",
   "metadata": {},
   "outputs": [],
   "source": [
    "# 2) Create a function that takes in a Player object and inserts it into the database,\n",
    "#    Extra Challenge: check for duplicate player entries, if so, do not insert again.\n",
    "def insert_player(player_obj, check_for_duplicates=True):\n",
    "    if check_for_duplicates:\n",
    "        duplicate_player = db.players.find_one({\"name\": player_obj.name})\n",
    "        if duplicate_player != None:\n",
    "            return duplicate_player[\"_id\"]\n",
    "        \n",
    "    player_dict = copy.deepcopy(vars(player_obj))\n",
    "    \n",
    "    item_dict_list = []\n",
    "    for item_obj in player_dict[\"items\"]:\n",
    "        item_dic = vars(item_obj)\n",
    "        item_dict_list.append(item_dic)\n",
    "    \n",
    "    player_dict[\"items\"] = item_dict_list\n",
    "    \n",
    "    return db.players.insert_one(player_dict).inserted_id\n",
    "\n",
    "\n",
    "# 3) Create a function that is able to find a Player in the database by searching for their name\n",
    "def find_player_by_name(name):\n",
    "    return db.players.find_one({\"name\": name})\n",
    "\n",
    "\n",
    "# 4) Create a function that loads the data from the above function and returns a Player object \n",
    "#    configured with that data\n",
    "def convert_player_dict_to_object(player_dict):\n",
    "    p = player_dict\n",
    "    \n",
    "    items_list = []\n",
    "    for item in p[\"items\"]:\n",
    "        item_obj = Item(item[\"name\"], item[\"quantity\"], item[\"effects\"])\n",
    "        items_list.append(item_obj)\n",
    "    \n",
    "    player_obj = Player(p[\"name\"], p[\"max_health\"], p[\"max_energy\"], items_list)\n",
    "    player_obj.health = p[\"health\"]\n",
    "    player_obj.energy = p[\"energy\"]\n",
    "    # player_obj.stats()\n",
    "    \n",
    "    return player_obj\n",
    "\n",
    "def get_player_obj_by_name(name):\n",
    "    player_dict = find_player_by_name(name)\n",
    "    return convert_player_dict_to_object(player_dict)"
   ]
  },
  {
   "cell_type": "code",
   "execution_count": 45,
   "id": "c21f72cd",
   "metadata": {},
   "outputs": [],
   "source": [
    "# 5) Create at least 2 players, optionally give them items\n",
    "player1_items = [Item(\"health_potion\", 2, [{\"heal\": 10}])]\n",
    "player1 = Player(\"Maximus\", 50, 25, player1_items)\n",
    "\n",
    "player2_items = [Item(\"greater_healing_potion\", 2, [{\"heal\": 25}])]\n",
    "player2 = Player(\"Sophie\", 60, 35, player2_items)\n",
    "\n",
    "# 6) Insert Players into MongoDB\n",
    "player1_id = insert_player(player1)\n",
    "player2_id = insert_player(player2)\n",
    "\n",
    "# 7) Load the player data from MongoDB into new player variables\n",
    "player1_load = get_player_obj_by_name(\"Maximus\")\n",
    "player2_load = get_player_obj_by_name(\"Sophie\")"
   ]
  },
  {
   "cell_type": "code",
   "execution_count": 46,
   "id": "0b0ee70d",
   "metadata": {},
   "outputs": [
    {
     "data": {
      "text/plain": [
       "ObjectId('642bae59e1181ab913abc341')"
      ]
     },
     "execution_count": 46,
     "metadata": {},
     "output_type": "execute_result"
    }
   ],
   "source": [
    "player1_id"
   ]
  },
  {
   "cell_type": "code",
   "execution_count": 47,
   "id": "59525984",
   "metadata": {},
   "outputs": [
    {
     "data": {
      "text/plain": [
       "{'name': 'Maximus',\n",
       " 'health': 50,\n",
       " 'max_health': 50,\n",
       " 'energy': 25,\n",
       " 'max_energy': 25,\n",
       " 'items': [Item(name=health_potion, quantity=2, effects=[{'heal': 10}])]}"
      ]
     },
     "execution_count": 47,
     "metadata": {},
     "output_type": "execute_result"
    }
   ],
   "source": [
    "player1_load.stats()"
   ]
  },
  {
   "cell_type": "code",
   "execution_count": null,
   "id": "5d4a857a",
   "metadata": {},
   "outputs": [],
   "source": []
  }
 ],
 "metadata": {
  "kernelspec": {
   "display_name": "Python 3 (ipykernel)",
   "language": "python",
   "name": "python3"
  },
  "language_info": {
   "codemirror_mode": {
    "name": "ipython",
    "version": 3
   },
   "file_extension": ".py",
   "mimetype": "text/x-python",
   "name": "python",
   "nbconvert_exporter": "python",
   "pygments_lexer": "ipython3",
   "version": "3.8.16"
  }
 },
 "nbformat": 4,
 "nbformat_minor": 5
}
